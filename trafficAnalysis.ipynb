{
  "nbformat": 4,
  "nbformat_minor": 0,
  "metadata": {
    "colab": {
      "provenance": []
    },
    "kernelspec": {
      "name": "python3",
      "display_name": "Python 3"
    },
    "language_info": {
      "name": "python"
    }
  },
  "cells": [
    {
      "cell_type": "markdown",
      "source": [
        "The web traffic and protocol attacks in this dataset were created inside an isolated network of virtual machines. While capturing traffic with Wireshark, I used the Scapy library to execute ARP Spoofing as well as SYN, FIN and Xmas port scans with the idea in mind of viewing the network traffic in Pandas. Here we can find the information that identifies malicious packets for our use cases."
      ],
      "metadata": {
        "id": "yWatpCjAfXek"
      }
    },
    {
      "cell_type": "code",
      "execution_count": 1,
      "metadata": {
        "colab": {
          "base_uri": "https://localhost:8080/",
          "height": 73
        },
        "id": "a-QhuSNzsJfg",
        "outputId": "2bc4b334-02ac-49da-b499-c62e29d9a25b"
      },
      "outputs": [
        {
          "output_type": "display_data",
          "data": {
            "text/plain": [
              "<IPython.core.display.HTML object>"
            ],
            "text/html": [
              "\n",
              "     <input type=\"file\" id=\"files-0b6de0a5-62cf-4ede-bc22-618950b73caf\" name=\"files[]\" multiple disabled\n",
              "        style=\"border:none\" />\n",
              "     <output id=\"result-0b6de0a5-62cf-4ede-bc22-618950b73caf\">\n",
              "      Upload widget is only available when the cell has been executed in the\n",
              "      current browser session. Please rerun this cell to enable.\n",
              "      </output>\n",
              "      <script>// Copyright 2017 Google LLC\n",
              "//\n",
              "// Licensed under the Apache License, Version 2.0 (the \"License\");\n",
              "// you may not use this file except in compliance with the License.\n",
              "// You may obtain a copy of the License at\n",
              "//\n",
              "//      http://www.apache.org/licenses/LICENSE-2.0\n",
              "//\n",
              "// Unless required by applicable law or agreed to in writing, software\n",
              "// distributed under the License is distributed on an \"AS IS\" BASIS,\n",
              "// WITHOUT WARRANTIES OR CONDITIONS OF ANY KIND, either express or implied.\n",
              "// See the License for the specific language governing permissions and\n",
              "// limitations under the License.\n",
              "\n",
              "/**\n",
              " * @fileoverview Helpers for google.colab Python module.\n",
              " */\n",
              "(function(scope) {\n",
              "function span(text, styleAttributes = {}) {\n",
              "  const element = document.createElement('span');\n",
              "  element.textContent = text;\n",
              "  for (const key of Object.keys(styleAttributes)) {\n",
              "    element.style[key] = styleAttributes[key];\n",
              "  }\n",
              "  return element;\n",
              "}\n",
              "\n",
              "// Max number of bytes which will be uploaded at a time.\n",
              "const MAX_PAYLOAD_SIZE = 100 * 1024;\n",
              "\n",
              "function _uploadFiles(inputId, outputId) {\n",
              "  const steps = uploadFilesStep(inputId, outputId);\n",
              "  const outputElement = document.getElementById(outputId);\n",
              "  // Cache steps on the outputElement to make it available for the next call\n",
              "  // to uploadFilesContinue from Python.\n",
              "  outputElement.steps = steps;\n",
              "\n",
              "  return _uploadFilesContinue(outputId);\n",
              "}\n",
              "\n",
              "// This is roughly an async generator (not supported in the browser yet),\n",
              "// where there are multiple asynchronous steps and the Python side is going\n",
              "// to poll for completion of each step.\n",
              "// This uses a Promise to block the python side on completion of each step,\n",
              "// then passes the result of the previous step as the input to the next step.\n",
              "function _uploadFilesContinue(outputId) {\n",
              "  const outputElement = document.getElementById(outputId);\n",
              "  const steps = outputElement.steps;\n",
              "\n",
              "  const next = steps.next(outputElement.lastPromiseValue);\n",
              "  return Promise.resolve(next.value.promise).then((value) => {\n",
              "    // Cache the last promise value to make it available to the next\n",
              "    // step of the generator.\n",
              "    outputElement.lastPromiseValue = value;\n",
              "    return next.value.response;\n",
              "  });\n",
              "}\n",
              "\n",
              "/**\n",
              " * Generator function which is called between each async step of the upload\n",
              " * process.\n",
              " * @param {string} inputId Element ID of the input file picker element.\n",
              " * @param {string} outputId Element ID of the output display.\n",
              " * @return {!Iterable<!Object>} Iterable of next steps.\n",
              " */\n",
              "function* uploadFilesStep(inputId, outputId) {\n",
              "  const inputElement = document.getElementById(inputId);\n",
              "  inputElement.disabled = false;\n",
              "\n",
              "  const outputElement = document.getElementById(outputId);\n",
              "  outputElement.innerHTML = '';\n",
              "\n",
              "  const pickedPromise = new Promise((resolve) => {\n",
              "    inputElement.addEventListener('change', (e) => {\n",
              "      resolve(e.target.files);\n",
              "    });\n",
              "  });\n",
              "\n",
              "  const cancel = document.createElement('button');\n",
              "  inputElement.parentElement.appendChild(cancel);\n",
              "  cancel.textContent = 'Cancel upload';\n",
              "  const cancelPromise = new Promise((resolve) => {\n",
              "    cancel.onclick = () => {\n",
              "      resolve(null);\n",
              "    };\n",
              "  });\n",
              "\n",
              "  // Wait for the user to pick the files.\n",
              "  const files = yield {\n",
              "    promise: Promise.race([pickedPromise, cancelPromise]),\n",
              "    response: {\n",
              "      action: 'starting',\n",
              "    }\n",
              "  };\n",
              "\n",
              "  cancel.remove();\n",
              "\n",
              "  // Disable the input element since further picks are not allowed.\n",
              "  inputElement.disabled = true;\n",
              "\n",
              "  if (!files) {\n",
              "    return {\n",
              "      response: {\n",
              "        action: 'complete',\n",
              "      }\n",
              "    };\n",
              "  }\n",
              "\n",
              "  for (const file of files) {\n",
              "    const li = document.createElement('li');\n",
              "    li.append(span(file.name, {fontWeight: 'bold'}));\n",
              "    li.append(span(\n",
              "        `(${file.type || 'n/a'}) - ${file.size} bytes, ` +\n",
              "        `last modified: ${\n",
              "            file.lastModifiedDate ? file.lastModifiedDate.toLocaleDateString() :\n",
              "                                    'n/a'} - `));\n",
              "    const percent = span('0% done');\n",
              "    li.appendChild(percent);\n",
              "\n",
              "    outputElement.appendChild(li);\n",
              "\n",
              "    const fileDataPromise = new Promise((resolve) => {\n",
              "      const reader = new FileReader();\n",
              "      reader.onload = (e) => {\n",
              "        resolve(e.target.result);\n",
              "      };\n",
              "      reader.readAsArrayBuffer(file);\n",
              "    });\n",
              "    // Wait for the data to be ready.\n",
              "    let fileData = yield {\n",
              "      promise: fileDataPromise,\n",
              "      response: {\n",
              "        action: 'continue',\n",
              "      }\n",
              "    };\n",
              "\n",
              "    // Use a chunked sending to avoid message size limits. See b/62115660.\n",
              "    let position = 0;\n",
              "    do {\n",
              "      const length = Math.min(fileData.byteLength - position, MAX_PAYLOAD_SIZE);\n",
              "      const chunk = new Uint8Array(fileData, position, length);\n",
              "      position += length;\n",
              "\n",
              "      const base64 = btoa(String.fromCharCode.apply(null, chunk));\n",
              "      yield {\n",
              "        response: {\n",
              "          action: 'append',\n",
              "          file: file.name,\n",
              "          data: base64,\n",
              "        },\n",
              "      };\n",
              "\n",
              "      let percentDone = fileData.byteLength === 0 ?\n",
              "          100 :\n",
              "          Math.round((position / fileData.byteLength) * 100);\n",
              "      percent.textContent = `${percentDone}% done`;\n",
              "\n",
              "    } while (position < fileData.byteLength);\n",
              "  }\n",
              "\n",
              "  // All done.\n",
              "  yield {\n",
              "    response: {\n",
              "      action: 'complete',\n",
              "    }\n",
              "  };\n",
              "}\n",
              "\n",
              "scope.google = scope.google || {};\n",
              "scope.google.colab = scope.google.colab || {};\n",
              "scope.google.colab._files = {\n",
              "  _uploadFiles,\n",
              "  _uploadFilesContinue,\n",
              "};\n",
              "})(self);\n",
              "</script> "
            ]
          },
          "metadata": {}
        },
        {
          "output_type": "stream",
          "name": "stdout",
          "text": [
            "Saving scans.csv to scans.csv\n"
          ]
        }
      ],
      "source": [
        "import pandas as pd\n",
        "import numpy as np\n",
        "import pandas as pd\n",
        "from google.colab import files\n",
        "import io\n",
        "import matplotlib.pyplot as plt\n",
        "import plotly.express as px\n",
        "from IPython.display import display\n",
        "up = files.upload()"
      ]
    },
    {
      "cell_type": "code",
      "source": [
        "df = pd.read_csv(io.BytesIO(up['scans.csv']), parse_dates = ['Time'])\n",
        "df.head()"
      ],
      "metadata": {
        "colab": {
          "base_uri": "https://localhost:8080/",
          "height": 206
        },
        "id": "zMlEpimPshqW",
        "outputId": "6e7e9480-c8a3-4205-c5ad-531513626069"
      },
      "execution_count": 21,
      "outputs": [
        {
          "output_type": "execute_result",
          "data": {
            "text/plain": [
              "   No.                          Time         Source    Destination Protocol  \\\n",
              "0    1 2023-03-09 22:08:56.181713021  192.168.1.101    192.168.1.1      DNS   \n",
              "1    2 2023-03-09 22:08:56.182232092  192.168.1.101    192.168.1.1      DNS   \n",
              "2    3 2023-03-09 22:08:59.851676016  192.168.1.100  192.168.1.255  BROWSER   \n",
              "3    4 2023-03-09 22:08:59.852203395  192.168.1.100  192.168.1.255  BROWSER   \n",
              "4    5 2023-03-09 22:09:01.188195767  192.168.1.101    192.168.1.1      DNS   \n",
              "\n",
              "   Length                                               Info  \n",
              "0      84   Standard query 0xd60b A engineering.virginia.edu  \n",
              "1      84  Standard query 0x0e0f AAAA engineering.virgini...  \n",
              "2     286  Local Master Announcement METASPLOITABLE, Work...  \n",
              "3     257  Domain/Workgroup Announcement WORKGROUP, NT Wo...  \n",
              "4      84   Standard query 0xd60b A engineering.virginia.edu  "
            ],
            "text/html": [
              "\n",
              "  <div id=\"df-8062b09a-fb98-4970-aeac-e37fc4515197\">\n",
              "    <div class=\"colab-df-container\">\n",
              "      <div>\n",
              "<style scoped>\n",
              "    .dataframe tbody tr th:only-of-type {\n",
              "        vertical-align: middle;\n",
              "    }\n",
              "\n",
              "    .dataframe tbody tr th {\n",
              "        vertical-align: top;\n",
              "    }\n",
              "\n",
              "    .dataframe thead th {\n",
              "        text-align: right;\n",
              "    }\n",
              "</style>\n",
              "<table border=\"1\" class=\"dataframe\">\n",
              "  <thead>\n",
              "    <tr style=\"text-align: right;\">\n",
              "      <th></th>\n",
              "      <th>No.</th>\n",
              "      <th>Time</th>\n",
              "      <th>Source</th>\n",
              "      <th>Destination</th>\n",
              "      <th>Protocol</th>\n",
              "      <th>Length</th>\n",
              "      <th>Info</th>\n",
              "    </tr>\n",
              "  </thead>\n",
              "  <tbody>\n",
              "    <tr>\n",
              "      <th>0</th>\n",
              "      <td>1</td>\n",
              "      <td>2023-03-09 22:08:56.181713021</td>\n",
              "      <td>192.168.1.101</td>\n",
              "      <td>192.168.1.1</td>\n",
              "      <td>DNS</td>\n",
              "      <td>84</td>\n",
              "      <td>Standard query 0xd60b A engineering.virginia.edu</td>\n",
              "    </tr>\n",
              "    <tr>\n",
              "      <th>1</th>\n",
              "      <td>2</td>\n",
              "      <td>2023-03-09 22:08:56.182232092</td>\n",
              "      <td>192.168.1.101</td>\n",
              "      <td>192.168.1.1</td>\n",
              "      <td>DNS</td>\n",
              "      <td>84</td>\n",
              "      <td>Standard query 0x0e0f AAAA engineering.virgini...</td>\n",
              "    </tr>\n",
              "    <tr>\n",
              "      <th>2</th>\n",
              "      <td>3</td>\n",
              "      <td>2023-03-09 22:08:59.851676016</td>\n",
              "      <td>192.168.1.100</td>\n",
              "      <td>192.168.1.255</td>\n",
              "      <td>BROWSER</td>\n",
              "      <td>286</td>\n",
              "      <td>Local Master Announcement METASPLOITABLE, Work...</td>\n",
              "    </tr>\n",
              "    <tr>\n",
              "      <th>3</th>\n",
              "      <td>4</td>\n",
              "      <td>2023-03-09 22:08:59.852203395</td>\n",
              "      <td>192.168.1.100</td>\n",
              "      <td>192.168.1.255</td>\n",
              "      <td>BROWSER</td>\n",
              "      <td>257</td>\n",
              "      <td>Domain/Workgroup Announcement WORKGROUP, NT Wo...</td>\n",
              "    </tr>\n",
              "    <tr>\n",
              "      <th>4</th>\n",
              "      <td>5</td>\n",
              "      <td>2023-03-09 22:09:01.188195767</td>\n",
              "      <td>192.168.1.101</td>\n",
              "      <td>192.168.1.1</td>\n",
              "      <td>DNS</td>\n",
              "      <td>84</td>\n",
              "      <td>Standard query 0xd60b A engineering.virginia.edu</td>\n",
              "    </tr>\n",
              "  </tbody>\n",
              "</table>\n",
              "</div>\n",
              "      <button class=\"colab-df-convert\" onclick=\"convertToInteractive('df-8062b09a-fb98-4970-aeac-e37fc4515197')\"\n",
              "              title=\"Convert this dataframe to an interactive table.\"\n",
              "              style=\"display:none;\">\n",
              "        \n",
              "  <svg xmlns=\"http://www.w3.org/2000/svg\" height=\"24px\"viewBox=\"0 0 24 24\"\n",
              "       width=\"24px\">\n",
              "    <path d=\"M0 0h24v24H0V0z\" fill=\"none\"/>\n",
              "    <path d=\"M18.56 5.44l.94 2.06.94-2.06 2.06-.94-2.06-.94-.94-2.06-.94 2.06-2.06.94zm-11 1L8.5 8.5l.94-2.06 2.06-.94-2.06-.94L8.5 2.5l-.94 2.06-2.06.94zm10 10l.94 2.06.94-2.06 2.06-.94-2.06-.94-.94-2.06-.94 2.06-2.06.94z\"/><path d=\"M17.41 7.96l-1.37-1.37c-.4-.4-.92-.59-1.43-.59-.52 0-1.04.2-1.43.59L10.3 9.45l-7.72 7.72c-.78.78-.78 2.05 0 2.83L4 21.41c.39.39.9.59 1.41.59.51 0 1.02-.2 1.41-.59l7.78-7.78 2.81-2.81c.8-.78.8-2.07 0-2.86zM5.41 20L4 18.59l7.72-7.72 1.47 1.35L5.41 20z\"/>\n",
              "  </svg>\n",
              "      </button>\n",
              "      \n",
              "  <style>\n",
              "    .colab-df-container {\n",
              "      display:flex;\n",
              "      flex-wrap:wrap;\n",
              "      gap: 12px;\n",
              "    }\n",
              "\n",
              "    .colab-df-convert {\n",
              "      background-color: #E8F0FE;\n",
              "      border: none;\n",
              "      border-radius: 50%;\n",
              "      cursor: pointer;\n",
              "      display: none;\n",
              "      fill: #1967D2;\n",
              "      height: 32px;\n",
              "      padding: 0 0 0 0;\n",
              "      width: 32px;\n",
              "    }\n",
              "\n",
              "    .colab-df-convert:hover {\n",
              "      background-color: #E2EBFA;\n",
              "      box-shadow: 0px 1px 2px rgba(60, 64, 67, 0.3), 0px 1px 3px 1px rgba(60, 64, 67, 0.15);\n",
              "      fill: #174EA6;\n",
              "    }\n",
              "\n",
              "    [theme=dark] .colab-df-convert {\n",
              "      background-color: #3B4455;\n",
              "      fill: #D2E3FC;\n",
              "    }\n",
              "\n",
              "    [theme=dark] .colab-df-convert:hover {\n",
              "      background-color: #434B5C;\n",
              "      box-shadow: 0px 1px 3px 1px rgba(0, 0, 0, 0.15);\n",
              "      filter: drop-shadow(0px 1px 2px rgba(0, 0, 0, 0.3));\n",
              "      fill: #FFFFFF;\n",
              "    }\n",
              "  </style>\n",
              "\n",
              "      <script>\n",
              "        const buttonEl =\n",
              "          document.querySelector('#df-8062b09a-fb98-4970-aeac-e37fc4515197 button.colab-df-convert');\n",
              "        buttonEl.style.display =\n",
              "          google.colab.kernel.accessAllowed ? 'block' : 'none';\n",
              "\n",
              "        async function convertToInteractive(key) {\n",
              "          const element = document.querySelector('#df-8062b09a-fb98-4970-aeac-e37fc4515197');\n",
              "          const dataTable =\n",
              "            await google.colab.kernel.invokeFunction('convertToInteractive',\n",
              "                                                     [key], {});\n",
              "          if (!dataTable) return;\n",
              "\n",
              "          const docLinkHtml = 'Like what you see? Visit the ' +\n",
              "            '<a target=\"_blank\" href=https://colab.research.google.com/notebooks/data_table.ipynb>data table notebook</a>'\n",
              "            + ' to learn more about interactive tables.';\n",
              "          element.innerHTML = '';\n",
              "          dataTable['output_type'] = 'display_data';\n",
              "          await google.colab.output.renderOutput(dataTable, element);\n",
              "          const docLink = document.createElement('div');\n",
              "          docLink.innerHTML = docLinkHtml;\n",
              "          element.appendChild(docLink);\n",
              "        }\n",
              "      </script>\n",
              "    </div>\n",
              "  </div>\n",
              "  "
            ]
          },
          "metadata": {},
          "execution_count": 21
        }
      ]
    },
    {
      "cell_type": "markdown",
      "source": [
        "####In a continuum of internet protocol packets, each is comprised of information which identifies its purpose. A specific probe or scan will innately produce a certain type of traffic, which can be filtered programatically."
      ],
      "metadata": {
        "id": "8YBvVYW1UX0f"
      }
    },
    {
      "cell_type": "markdown",
      "source": [
        "- Adding columns to indicate presence of TCP flags used in probes\n",
        "- Subsetting the dataframe by protocol"
      ],
      "metadata": {
        "id": "luhLQwhNigJm"
      }
    },
    {
      "cell_type": "code",
      "source": [
        "mask_1 = df['Info'].str.contains('SYN') & ~df['Info'].str.contains('ACK')\n",
        "mask_2 = df['Info'].str.contains('FIN') & ~df['Info'].str.contains('PSH')\n",
        "mask_3 = df['Info'].str.contains('FIN') & df['Info'].str.contains('PSH') & \\\n",
        "         df['Info'].str.contains('URG')\n",
        "mask_4 = ~mask_1 & ~mask_2 & ~mask_3\n",
        "df.loc[mask_1, 'SYN'] = 1\n",
        "df.loc[mask_1, 'Scan_Type'] = 'SYN'\n",
        "df.loc[~mask_1, 'SYN'] = 0\n",
        "df.loc[mask_2, 'FIN'] = 1\n",
        "df.loc[mask_2, 'Scan_Type'] = 'FIN'\n",
        "df.loc[~mask_2, 'FIN'] = 0\n",
        "df.loc[mask_3, 'XMAS'] = 1\n",
        "df.loc[mask_3, 'Scan_Type'] = 'Xmas'\n",
        "df.loc[~mask_3, 'XMAS'] = 0\n",
        "df.loc[mask_4, 'Scan_Type'] = 'None'\n",
        "syn = df.loc[df['SYN'] > 0]\n",
        "fin = df.loc[df['FIN'] > 0]\n",
        "xmas = df.loc[df['XMAS'] > 0]\n",
        "arp = df.loc[df['Protocol'] == 'ARP']\n",
        "tcp = df.loc[df['Protocol'] == 'TCP']\n",
        "icmp = df.loc[df['Protocol'] == 'ICMP']\n",
        "dns = df.loc[df['Protocol'] == 'DNS']\n",
        "start = df.Time.min()\n",
        "ending = df.Time.max()\n",
        "strt_syn = syn.Time.min()\n",
        "end_syn = syn.Time.max()\n",
        "strt_fin = fin.Time.min()\n",
        "end_fin = fin.Time.max()\n",
        "strt_xmas = xmas.Time.min()\n",
        "end_xmas = xmas.Time.max()\n",
        "elapsed = (ending - start).seconds\n",
        "dur_syn = (end_syn - strt_syn).seconds\n",
        "dur_fin = (end_fin - strt_fin).seconds\n",
        "dur_xmas = (end_xmas - strt_xmas).seconds\n",
        "print(f'Total Packet Capture: {len(df)}\\nTotal Capture Time: {elapsed} seconds')\n",
        "for protocol in df['Protocol'].unique():\n",
        "    l = len(df[df['Protocol'] == protocol])\n",
        "    print(f'{protocol}: {l}')"
      ],
      "metadata": {
        "colab": {
          "base_uri": "https://localhost:8080/"
        },
        "id": "1H4-urBUBYSr",
        "outputId": "f2f5f126-15d8-411b-e237-3c5b1ee18d26"
      },
      "execution_count": 22,
      "outputs": [
        {
          "output_type": "stream",
          "name": "stdout",
          "text": [
            "Total Packet Capture: 1481\n",
            "Total Capture Time: 149 seconds\n",
            "DNS: 76\n",
            "BROWSER: 2\n",
            "ARP: 746\n",
            "DHCPv6: 2\n",
            "ICMP: 6\n",
            "TCP: 649\n"
          ]
        }
      ]
    },
    {
      "cell_type": "code",
      "source": [
        "fig = px.histogram(df.loc[df['Scan_Type'] != 'None'],\n",
        "                   x = 'Scan_Type',\n",
        "                   title = '# Packets Sent / Scan Type')\n",
        "display(fig)"
      ],
      "metadata": {
        "colab": {
          "base_uri": "https://localhost:8080/",
          "height": 542
        },
        "id": "iAqXwWuqQT3C",
        "outputId": "29b66f18-d2ce-4c3a-c186-044455d3e4eb"
      },
      "execution_count": 23,
      "outputs": [
        {
          "output_type": "display_data",
          "data": {
            "text/html": [
              "<html>\n",
              "<head><meta charset=\"utf-8\" /></head>\n",
              "<body>\n",
              "    <div>            <script src=\"https://cdnjs.cloudflare.com/ajax/libs/mathjax/2.7.5/MathJax.js?config=TeX-AMS-MML_SVG\"></script><script type=\"text/javascript\">if (window.MathJax) {MathJax.Hub.Config({SVG: {font: \"STIX-Web\"}});}</script>                <script type=\"text/javascript\">window.PlotlyConfig = {MathJaxConfig: 'local'};</script>\n",
              "        <script src=\"https://cdn.plot.ly/plotly-2.8.3.min.js\"></script>                <div id=\"7a8cbf74-6d06-498b-8136-4ac7b3525ad8\" class=\"plotly-graph-div\" style=\"height:525px; width:100%;\"></div>            <script type=\"text/javascript\">                                    window.PLOTLYENV=window.PLOTLYENV || {};                                    if (document.getElementById(\"7a8cbf74-6d06-498b-8136-4ac7b3525ad8\")) {                    Plotly.newPlot(                        \"7a8cbf74-6d06-498b-8136-4ac7b3525ad8\",                        [{\"alignmentgroup\":\"True\",\"bingroup\":\"x\",\"hovertemplate\":\"Scan_Type=%{x}<br>count=%{y}<extra></extra>\",\"legendgroup\":\"\",\"marker\":{\"color\":\"#636efa\",\"pattern\":{\"shape\":\"\"}},\"name\":\"\",\"offsetgroup\":\"\",\"orientation\":\"v\",\"showlegend\":false,\"x\":[\"SYN\",\"SYN\",\"SYN\",\"SYN\",\"SYN\",\"SYN\",\"SYN\",\"SYN\",\"SYN\",\"SYN\",\"SYN\",\"SYN\",\"SYN\",\"SYN\",\"SYN\",\"SYN\",\"SYN\",\"SYN\",\"SYN\",\"SYN\",\"SYN\",\"SYN\",\"SYN\",\"SYN\",\"SYN\",\"SYN\",\"SYN\",\"SYN\",\"SYN\",\"SYN\",\"SYN\",\"SYN\",\"SYN\",\"SYN\",\"SYN\",\"SYN\",\"SYN\",\"SYN\",\"SYN\",\"SYN\",\"SYN\",\"SYN\",\"SYN\",\"SYN\",\"SYN\",\"SYN\",\"SYN\",\"SYN\",\"SYN\",\"SYN\",\"SYN\",\"SYN\",\"SYN\",\"SYN\",\"SYN\",\"SYN\",\"SYN\",\"SYN\",\"SYN\",\"SYN\",\"SYN\",\"SYN\",\"SYN\",\"SYN\",\"SYN\",\"SYN\",\"SYN\",\"SYN\",\"SYN\",\"SYN\",\"SYN\",\"SYN\",\"SYN\",\"SYN\",\"SYN\",\"SYN\",\"SYN\",\"SYN\",\"SYN\",\"SYN\",\"SYN\",\"SYN\",\"SYN\",\"SYN\",\"SYN\",\"SYN\",\"SYN\",\"SYN\",\"SYN\",\"SYN\",\"SYN\",\"SYN\",\"SYN\",\"SYN\",\"SYN\",\"SYN\",\"SYN\",\"SYN\",\"SYN\",\"SYN\",\"SYN\",\"FIN\",\"FIN\",\"FIN\",\"FIN\",\"FIN\",\"FIN\",\"FIN\",\"FIN\",\"FIN\",\"FIN\",\"FIN\",\"FIN\",\"FIN\",\"FIN\",\"FIN\",\"FIN\",\"FIN\",\"FIN\",\"FIN\",\"FIN\",\"FIN\",\"FIN\",\"FIN\",\"FIN\",\"FIN\",\"FIN\",\"FIN\",\"FIN\",\"FIN\",\"FIN\",\"FIN\",\"FIN\",\"FIN\",\"FIN\",\"FIN\",\"FIN\",\"FIN\",\"FIN\",\"FIN\",\"FIN\",\"FIN\",\"FIN\",\"FIN\",\"FIN\",\"FIN\",\"FIN\",\"FIN\",\"FIN\",\"FIN\",\"FIN\",\"FIN\",\"FIN\",\"FIN\",\"Xmas\",\"Xmas\",\"Xmas\",\"Xmas\",\"Xmas\",\"Xmas\",\"Xmas\",\"Xmas\",\"Xmas\",\"Xmas\",\"Xmas\",\"Xmas\",\"Xmas\",\"Xmas\",\"Xmas\",\"Xmas\",\"FIN\",\"Xmas\",\"FIN\",\"Xmas\",\"FIN\",\"Xmas\",\"FIN\",\"Xmas\",\"FIN\",\"Xmas\",\"FIN\",\"FIN\",\"FIN\",\"FIN\",\"FIN\",\"FIN\",\"FIN\",\"FIN\",\"FIN\",\"FIN\",\"FIN\",\"FIN\",\"FIN\",\"FIN\",\"FIN\",\"FIN\",\"FIN\",\"FIN\",\"FIN\",\"FIN\",\"FIN\",\"FIN\",\"FIN\",\"FIN\",\"FIN\",\"FIN\",\"Xmas\",\"FIN\",\"FIN\",\"FIN\",\"FIN\",\"FIN\",\"FIN\",\"FIN\",\"FIN\",\"FIN\",\"FIN\",\"FIN\",\"FIN\",\"FIN\",\"FIN\",\"FIN\",\"FIN\",\"FIN\",\"Xmas\",\"Xmas\",\"Xmas\",\"Xmas\",\"Xmas\",\"Xmas\",\"Xmas\",\"Xmas\",\"Xmas\",\"Xmas\",\"Xmas\",\"Xmas\",\"Xmas\",\"Xmas\",\"Xmas\",\"Xmas\",\"Xmas\",\"Xmas\",\"Xmas\",\"Xmas\",\"Xmas\",\"Xmas\",\"Xmas\",\"Xmas\",\"Xmas\",\"Xmas\",\"Xmas\",\"Xmas\",\"Xmas\",\"Xmas\",\"Xmas\",\"Xmas\",\"Xmas\",\"Xmas\",\"Xmas\",\"Xmas\",\"Xmas\",\"Xmas\",\"Xmas\",\"Xmas\",\"Xmas\",\"Xmas\",\"Xmas\",\"Xmas\",\"Xmas\",\"Xmas\",\"Xmas\",\"Xmas\",\"Xmas\",\"Xmas\",\"Xmas\",\"Xmas\",\"Xmas\",\"Xmas\",\"Xmas\",\"Xmas\",\"Xmas\",\"Xmas\",\"Xmas\",\"Xmas\",\"Xmas\",\"Xmas\",\"Xmas\",\"Xmas\",\"Xmas\",\"Xmas\",\"Xmas\",\"Xmas\",\"Xmas\",\"Xmas\",\"Xmas\",\"Xmas\",\"Xmas\",\"Xmas\",\"Xmas\",\"Xmas\",\"Xmas\",\"Xmas\",\"Xmas\",\"Xmas\",\"Xmas\",\"Xmas\",\"Xmas\",\"Xmas\",\"Xmas\",\"Xmas\",\"Xmas\",\"Xmas\",\"Xmas\",\"Xmas\",\"Xmas\",\"Xmas\",\"Xmas\",\"Xmas\",\"Xmas\",\"Xmas\",\"Xmas\",\"Xmas\",\"Xmas\",\"Xmas\",\"Xmas\",\"Xmas\",\"Xmas\",\"Xmas\",\"Xmas\"],\"xaxis\":\"x\",\"yaxis\":\"y\",\"type\":\"histogram\"}],                        {\"template\":{\"data\":{\"bar\":[{\"error_x\":{\"color\":\"#2a3f5f\"},\"error_y\":{\"color\":\"#2a3f5f\"},\"marker\":{\"line\":{\"color\":\"#E5ECF6\",\"width\":0.5},\"pattern\":{\"fillmode\":\"overlay\",\"size\":10,\"solidity\":0.2}},\"type\":\"bar\"}],\"barpolar\":[{\"marker\":{\"line\":{\"color\":\"#E5ECF6\",\"width\":0.5},\"pattern\":{\"fillmode\":\"overlay\",\"size\":10,\"solidity\":0.2}},\"type\":\"barpolar\"}],\"carpet\":[{\"aaxis\":{\"endlinecolor\":\"#2a3f5f\",\"gridcolor\":\"white\",\"linecolor\":\"white\",\"minorgridcolor\":\"white\",\"startlinecolor\":\"#2a3f5f\"},\"baxis\":{\"endlinecolor\":\"#2a3f5f\",\"gridcolor\":\"white\",\"linecolor\":\"white\",\"minorgridcolor\":\"white\",\"startlinecolor\":\"#2a3f5f\"},\"type\":\"carpet\"}],\"choropleth\":[{\"colorbar\":{\"outlinewidth\":0,\"ticks\":\"\"},\"type\":\"choropleth\"}],\"contour\":[{\"colorbar\":{\"outlinewidth\":0,\"ticks\":\"\"},\"colorscale\":[[0.0,\"#0d0887\"],[0.1111111111111111,\"#46039f\"],[0.2222222222222222,\"#7201a8\"],[0.3333333333333333,\"#9c179e\"],[0.4444444444444444,\"#bd3786\"],[0.5555555555555556,\"#d8576b\"],[0.6666666666666666,\"#ed7953\"],[0.7777777777777778,\"#fb9f3a\"],[0.8888888888888888,\"#fdca26\"],[1.0,\"#f0f921\"]],\"type\":\"contour\"}],\"contourcarpet\":[{\"colorbar\":{\"outlinewidth\":0,\"ticks\":\"\"},\"type\":\"contourcarpet\"}],\"heatmap\":[{\"colorbar\":{\"outlinewidth\":0,\"ticks\":\"\"},\"colorscale\":[[0.0,\"#0d0887\"],[0.1111111111111111,\"#46039f\"],[0.2222222222222222,\"#7201a8\"],[0.3333333333333333,\"#9c179e\"],[0.4444444444444444,\"#bd3786\"],[0.5555555555555556,\"#d8576b\"],[0.6666666666666666,\"#ed7953\"],[0.7777777777777778,\"#fb9f3a\"],[0.8888888888888888,\"#fdca26\"],[1.0,\"#f0f921\"]],\"type\":\"heatmap\"}],\"heatmapgl\":[{\"colorbar\":{\"outlinewidth\":0,\"ticks\":\"\"},\"colorscale\":[[0.0,\"#0d0887\"],[0.1111111111111111,\"#46039f\"],[0.2222222222222222,\"#7201a8\"],[0.3333333333333333,\"#9c179e\"],[0.4444444444444444,\"#bd3786\"],[0.5555555555555556,\"#d8576b\"],[0.6666666666666666,\"#ed7953\"],[0.7777777777777778,\"#fb9f3a\"],[0.8888888888888888,\"#fdca26\"],[1.0,\"#f0f921\"]],\"type\":\"heatmapgl\"}],\"histogram\":[{\"marker\":{\"pattern\":{\"fillmode\":\"overlay\",\"size\":10,\"solidity\":0.2}},\"type\":\"histogram\"}],\"histogram2d\":[{\"colorbar\":{\"outlinewidth\":0,\"ticks\":\"\"},\"colorscale\":[[0.0,\"#0d0887\"],[0.1111111111111111,\"#46039f\"],[0.2222222222222222,\"#7201a8\"],[0.3333333333333333,\"#9c179e\"],[0.4444444444444444,\"#bd3786\"],[0.5555555555555556,\"#d8576b\"],[0.6666666666666666,\"#ed7953\"],[0.7777777777777778,\"#fb9f3a\"],[0.8888888888888888,\"#fdca26\"],[1.0,\"#f0f921\"]],\"type\":\"histogram2d\"}],\"histogram2dcontour\":[{\"colorbar\":{\"outlinewidth\":0,\"ticks\":\"\"},\"colorscale\":[[0.0,\"#0d0887\"],[0.1111111111111111,\"#46039f\"],[0.2222222222222222,\"#7201a8\"],[0.3333333333333333,\"#9c179e\"],[0.4444444444444444,\"#bd3786\"],[0.5555555555555556,\"#d8576b\"],[0.6666666666666666,\"#ed7953\"],[0.7777777777777778,\"#fb9f3a\"],[0.8888888888888888,\"#fdca26\"],[1.0,\"#f0f921\"]],\"type\":\"histogram2dcontour\"}],\"mesh3d\":[{\"colorbar\":{\"outlinewidth\":0,\"ticks\":\"\"},\"type\":\"mesh3d\"}],\"parcoords\":[{\"line\":{\"colorbar\":{\"outlinewidth\":0,\"ticks\":\"\"}},\"type\":\"parcoords\"}],\"pie\":[{\"automargin\":true,\"type\":\"pie\"}],\"scatter\":[{\"marker\":{\"colorbar\":{\"outlinewidth\":0,\"ticks\":\"\"}},\"type\":\"scatter\"}],\"scatter3d\":[{\"line\":{\"colorbar\":{\"outlinewidth\":0,\"ticks\":\"\"}},\"marker\":{\"colorbar\":{\"outlinewidth\":0,\"ticks\":\"\"}},\"type\":\"scatter3d\"}],\"scattercarpet\":[{\"marker\":{\"colorbar\":{\"outlinewidth\":0,\"ticks\":\"\"}},\"type\":\"scattercarpet\"}],\"scattergeo\":[{\"marker\":{\"colorbar\":{\"outlinewidth\":0,\"ticks\":\"\"}},\"type\":\"scattergeo\"}],\"scattergl\":[{\"marker\":{\"colorbar\":{\"outlinewidth\":0,\"ticks\":\"\"}},\"type\":\"scattergl\"}],\"scattermapbox\":[{\"marker\":{\"colorbar\":{\"outlinewidth\":0,\"ticks\":\"\"}},\"type\":\"scattermapbox\"}],\"scatterpolar\":[{\"marker\":{\"colorbar\":{\"outlinewidth\":0,\"ticks\":\"\"}},\"type\":\"scatterpolar\"}],\"scatterpolargl\":[{\"marker\":{\"colorbar\":{\"outlinewidth\":0,\"ticks\":\"\"}},\"type\":\"scatterpolargl\"}],\"scatterternary\":[{\"marker\":{\"colorbar\":{\"outlinewidth\":0,\"ticks\":\"\"}},\"type\":\"scatterternary\"}],\"surface\":[{\"colorbar\":{\"outlinewidth\":0,\"ticks\":\"\"},\"colorscale\":[[0.0,\"#0d0887\"],[0.1111111111111111,\"#46039f\"],[0.2222222222222222,\"#7201a8\"],[0.3333333333333333,\"#9c179e\"],[0.4444444444444444,\"#bd3786\"],[0.5555555555555556,\"#d8576b\"],[0.6666666666666666,\"#ed7953\"],[0.7777777777777778,\"#fb9f3a\"],[0.8888888888888888,\"#fdca26\"],[1.0,\"#f0f921\"]],\"type\":\"surface\"}],\"table\":[{\"cells\":{\"fill\":{\"color\":\"#EBF0F8\"},\"line\":{\"color\":\"white\"}},\"header\":{\"fill\":{\"color\":\"#C8D4E3\"},\"line\":{\"color\":\"white\"}},\"type\":\"table\"}]},\"layout\":{\"annotationdefaults\":{\"arrowcolor\":\"#2a3f5f\",\"arrowhead\":0,\"arrowwidth\":1},\"autotypenumbers\":\"strict\",\"coloraxis\":{\"colorbar\":{\"outlinewidth\":0,\"ticks\":\"\"}},\"colorscale\":{\"diverging\":[[0,\"#8e0152\"],[0.1,\"#c51b7d\"],[0.2,\"#de77ae\"],[0.3,\"#f1b6da\"],[0.4,\"#fde0ef\"],[0.5,\"#f7f7f7\"],[0.6,\"#e6f5d0\"],[0.7,\"#b8e186\"],[0.8,\"#7fbc41\"],[0.9,\"#4d9221\"],[1,\"#276419\"]],\"sequential\":[[0.0,\"#0d0887\"],[0.1111111111111111,\"#46039f\"],[0.2222222222222222,\"#7201a8\"],[0.3333333333333333,\"#9c179e\"],[0.4444444444444444,\"#bd3786\"],[0.5555555555555556,\"#d8576b\"],[0.6666666666666666,\"#ed7953\"],[0.7777777777777778,\"#fb9f3a\"],[0.8888888888888888,\"#fdca26\"],[1.0,\"#f0f921\"]],\"sequentialminus\":[[0.0,\"#0d0887\"],[0.1111111111111111,\"#46039f\"],[0.2222222222222222,\"#7201a8\"],[0.3333333333333333,\"#9c179e\"],[0.4444444444444444,\"#bd3786\"],[0.5555555555555556,\"#d8576b\"],[0.6666666666666666,\"#ed7953\"],[0.7777777777777778,\"#fb9f3a\"],[0.8888888888888888,\"#fdca26\"],[1.0,\"#f0f921\"]]},\"colorway\":[\"#636efa\",\"#EF553B\",\"#00cc96\",\"#ab63fa\",\"#FFA15A\",\"#19d3f3\",\"#FF6692\",\"#B6E880\",\"#FF97FF\",\"#FECB52\"],\"font\":{\"color\":\"#2a3f5f\"},\"geo\":{\"bgcolor\":\"white\",\"lakecolor\":\"white\",\"landcolor\":\"#E5ECF6\",\"showlakes\":true,\"showland\":true,\"subunitcolor\":\"white\"},\"hoverlabel\":{\"align\":\"left\"},\"hovermode\":\"closest\",\"mapbox\":{\"style\":\"light\"},\"paper_bgcolor\":\"white\",\"plot_bgcolor\":\"#E5ECF6\",\"polar\":{\"angularaxis\":{\"gridcolor\":\"white\",\"linecolor\":\"white\",\"ticks\":\"\"},\"bgcolor\":\"#E5ECF6\",\"radialaxis\":{\"gridcolor\":\"white\",\"linecolor\":\"white\",\"ticks\":\"\"}},\"scene\":{\"xaxis\":{\"backgroundcolor\":\"#E5ECF6\",\"gridcolor\":\"white\",\"gridwidth\":2,\"linecolor\":\"white\",\"showbackground\":true,\"ticks\":\"\",\"zerolinecolor\":\"white\"},\"yaxis\":{\"backgroundcolor\":\"#E5ECF6\",\"gridcolor\":\"white\",\"gridwidth\":2,\"linecolor\":\"white\",\"showbackground\":true,\"ticks\":\"\",\"zerolinecolor\":\"white\"},\"zaxis\":{\"backgroundcolor\":\"#E5ECF6\",\"gridcolor\":\"white\",\"gridwidth\":2,\"linecolor\":\"white\",\"showbackground\":true,\"ticks\":\"\",\"zerolinecolor\":\"white\"}},\"shapedefaults\":{\"line\":{\"color\":\"#2a3f5f\"}},\"ternary\":{\"aaxis\":{\"gridcolor\":\"white\",\"linecolor\":\"white\",\"ticks\":\"\"},\"baxis\":{\"gridcolor\":\"white\",\"linecolor\":\"white\",\"ticks\":\"\"},\"bgcolor\":\"#E5ECF6\",\"caxis\":{\"gridcolor\":\"white\",\"linecolor\":\"white\",\"ticks\":\"\"}},\"title\":{\"x\":0.05},\"xaxis\":{\"automargin\":true,\"gridcolor\":\"white\",\"linecolor\":\"white\",\"ticks\":\"\",\"title\":{\"standoff\":15},\"zerolinecolor\":\"white\",\"zerolinewidth\":2},\"yaxis\":{\"automargin\":true,\"gridcolor\":\"white\",\"linecolor\":\"white\",\"ticks\":\"\",\"title\":{\"standoff\":15},\"zerolinecolor\":\"white\",\"zerolinewidth\":2}}},\"xaxis\":{\"anchor\":\"y\",\"domain\":[0.0,1.0],\"title\":{\"text\":\"Scan_Type\"}},\"yaxis\":{\"anchor\":\"x\",\"domain\":[0.0,1.0],\"title\":{\"text\":\"count\"}},\"legend\":{\"tracegroupgap\":0},\"title\":{\"text\":\"# Packets Sent / Scan Type\"},\"barmode\":\"relative\"},                        {\"responsive\": true}                    ).then(function(){\n",
              "                            \n",
              "var gd = document.getElementById('7a8cbf74-6d06-498b-8136-4ac7b3525ad8');\n",
              "var x = new MutationObserver(function (mutations, observer) {{\n",
              "        var display = window.getComputedStyle(gd).display;\n",
              "        if (!display || display === 'none') {{\n",
              "            console.log([gd, 'removed!']);\n",
              "            Plotly.purge(gd);\n",
              "            observer.disconnect();\n",
              "        }}\n",
              "}});\n",
              "\n",
              "// Listen for the removal of the full notebook cells\n",
              "var notebookContainer = gd.closest('#notebook-container');\n",
              "if (notebookContainer) {{\n",
              "    x.observe(notebookContainer, {childList: true});\n",
              "}}\n",
              "\n",
              "// Listen for the clearing of the current output cell\n",
              "var outputEl = gd.closest('.output');\n",
              "if (outputEl) {{\n",
              "    x.observe(outputEl, {childList: true});\n",
              "}}\n",
              "\n",
              "                        })                };                            </script>        </div>\n",
              "</body>\n",
              "</html>"
            ]
          },
          "metadata": {}
        }
      ]
    },
    {
      "cell_type": "markdown",
      "source": [
        "During the traffic capture, the SYN and FIN scans both sent 100 packets to 100 ports, and the Xmas scan sent 126 packets to 126 ports. The SYN scan took four seconds to complete, the FIN scan took nine, and the Xmas scan twenty-three. For a brief period, FIN and Xmas scans ran concurrently, creating possibly increased latency for these scripts. The code below pulls the rate at which each scan sent its probes."
      ],
      "metadata": {
        "id": "R820n4RBU-L_"
      }
    },
    {
      "cell_type": "code",
      "source": [
        "def avg_probe_frequency(df):\n",
        "    # returns average length in seconds between observations in df\n",
        "    times = df['Time']\n",
        "    spaces = []\n",
        "    for i in range(1, len(times)):\n",
        "        a, b = times.iloc[i - 1], times.iloc[i]\n",
        "        spaces.append((b - a).microseconds)\n",
        "    return sum(spaces) / len(spaces) / 1000000"
      ],
      "metadata": {
        "id": "_LlVU6Zc3kKf"
      },
      "execution_count": 24,
      "outputs": []
    },
    {
      "cell_type": "code",
      "source": [
        "avg_time_btwn_syn = avg_probe_frequency(syn)\n",
        "avg_time_btwn_fin = avg_probe_frequency(fin)\n",
        "avg_time_btwn_xmas = avg_probe_frequency(xmas)\n",
        "print(f'Average of {avg_time_btwn_syn} seconds between each syn scan packet')\n",
        "print(f'Average of {avg_time_btwn_fin} seconds between each fin scan packet')\n",
        "print(f'''Average of {avg_time_btwn_xmas} seconds between each fin-psh-urg scan\n",
        "  packet'''.replace('\\n ', ''))"
      ],
      "metadata": {
        "colab": {
          "base_uri": "https://localhost:8080/"
        },
        "id": "-Yel8sj9odS0",
        "outputId": "08f65581-dd9a-438e-ce13-f2ff7bba52f5"
      },
      "execution_count": 25,
      "outputs": [
        {
          "output_type": "stream",
          "name": "stdout",
          "text": [
            "Average of 0.04133431 seconds between each syn scan packet\n",
            "Average of 0.03911318 seconds between each fin scan packet\n",
            "Average of 0.04071980158730159 seconds between each fin-psh-urg scan packet\n"
          ]
        }
      ]
    },
    {
      "cell_type": "markdown",
      "source": [
        "Using an algorithm to search the dataset for the beginning, duration, and end of an ARP Spoof"
      ],
      "metadata": {
        "id": "RLCaXTV-PUxn"
      }
    },
    {
      "cell_type": "code",
      "source": [
        "i = 0\n",
        "spoof_strt = 0\n",
        "spoof_end = 0\n",
        "total_spoof_pkts = 0\n",
        "spoofing = False\n",
        "while i < len(df) - 4:\n",
        "    a = df.loc[i: i + 4, :]\n",
        "    plst = list(set(a['Protocol']))\n",
        "    if not spoofing:\n",
        "        if len(plst) == 1 and plst[0] == 'ARP':\n",
        "            pkts = [a.iloc[0], a.iloc[2]]\n",
        "            if all(pkt['Info'].startswith('Who has') for pkt in pkts):\n",
        "                spoof_strt = pkts[0]['Time']\n",
        "                spoofing = True\n",
        "                total_spoof_pkts = i + 1\n",
        "    else:\n",
        "        if not 'ARP' in plst:\n",
        "            spoof_end = df.loc[i - 1]['Time']\n",
        "            total_spoof_pkts = i - total_spoof_pkts\n",
        "            break\n",
        "        if i + 4 == len(df) - 1:\n",
        "            a1 = a.loc[a['Protocol'] == 'ARP']\n",
        "            spoof_end = a1.max(key = lambda x: x.index)['Time']\n",
        "            for j in range(len(a1)):\n",
        "                info = a1.iloc[j]['Info']\n",
        "                if info.startswith('Who has'):\n",
        "                    total_spoof_pkts += 1\n",
        "            total_spoof_pkts = i - total_spoof_pkts\n",
        "        elif a.iloc[0]['Info'].startswith('Who has'):\n",
        "            total_spoof_pkts += 1\n",
        "    i += 1\n",
        "print(f'Start of ARP Spoof: {spoof_strt}')\n",
        "print(f'End of ARP Spoof: {spoof_end}')\n",
        "print(f'ARP Spoof duration: {(spoof_end - spoof_strt).seconds} seconds')\n",
        "print(f'ARP Spoof packets: {total_spoof_pkts}')"
      ],
      "metadata": {
        "colab": {
          "base_uri": "https://localhost:8080/"
        },
        "id": "gnoQUpmONvBb",
        "outputId": "95103899-e339-4687-c5a4-67e5ca29e17b"
      },
      "execution_count": 26,
      "outputs": [
        {
          "output_type": "stream",
          "name": "stdout",
          "text": [
            "Start of ARP Spoof: 2023-03-09 22:09:49.344534903\n",
            "End of ARP Spoof: 2023-03-09 22:10:20.850098627\n",
            "ARP Spoof duration: 31 seconds\n",
            "ARP Spoof packets: 739\n"
          ]
        }
      ]
    },
    {
      "cell_type": "markdown",
      "source": [
        "#Six protocols in use\n",
        "\n",
        "- ARP(Address Resolution Protocol): Requests for ARP Table information; responses providing ARP Table information\n",
        "- TCP(Transmission Control Protocol):  SYN, FIN, and XMAS scans\n",
        "- DNS(Domain Name System): Requests to a DNS server\n",
        "- ICMP(Internet Control Messaging Protocol): Pings and other messaging services\n",
        "- DHCPv6(Dynamic Host Configuration Protocol): Assigns IPv6 addresses statefully and distributes information such as domain name or DNS server\n",
        "- BROWSER: Used to discover machines and resources on the network"
      ],
      "metadata": {
        "id": "2xLV1WZDqTxe"
      }
    },
    {
      "cell_type": "code",
      "source": [
        "plt.figure(figsize = (20, 5))\n",
        "pvc = df['Protocol'].value_counts(ascending = True)\n",
        "plt.scatter(pvc.index, pvc, color = 'orange', s = 50)\n",
        "plt.xlabel('Protocol')\n",
        "plt.ylabel('Packets Sent')\n",
        "plt.title('# Packets / Protocol')\n",
        "plt.show()"
      ],
      "metadata": {
        "colab": {
          "base_uri": "https://localhost:8080/",
          "height": 350
        },
        "id": "ELQJ_EoUqRQ2",
        "outputId": "56a3217e-f2e1-4ad5-ebd4-0b4e31dbf489"
      },
      "execution_count": 27,
      "outputs": [
        {
          "output_type": "display_data",
          "data": {
            "text/plain": [
              "<Figure size 1440x360 with 1 Axes>"
            ],
            "image/png": "[encoded data removed]"
          },
          "metadata": {
            "needs_background": "light"
          }
        }
      ]
    },
    {
      "cell_type": "code",
      "source": [
        "fig = px.scatter(df, x = 'Time',\n",
        "                 y = 'Protocol',\n",
        "                 title = 'Time / Protocol')\n",
        "display(fig)"
      ],
      "metadata": {
        "colab": {
          "base_uri": "https://localhost:8080/",
          "height": 542
        },
        "id": "EuIyD_SBnH05",
        "outputId": "8ea13c88-b2ab-457e-e92e-a0afc7e9f281"
      },
      "execution_count": 28,
      "outputs": [
        {
          "output_type": "display_data",
          "data": {
            "text/html": [
              "<html>\n",
              "<head><meta charset=\"utf-8\" /></head>\n",
              "<body>\n",
              "    <div>            <script src=\"https://cdnjs.cloudflare.com/ajax/libs/mathjax/2.7.5/MathJax.js?config=TeX-AMS-MML_SVG\"></script><script type=\"text/javascript\">if (window.MathJax) {MathJax.Hub.Config({SVG: {font: \"STIX-Web\"}});}</script>                <script type=\"text/javascript\">window.PlotlyConfig = {MathJaxConfig: 'local'};</script>\n",
              "        <script src=\"https://cdn.plot.ly/plotly-2.8.3.min.js\"></script>                <div id=\"dc5c257f-7656-4d16-9531-b0b2d81b7a15\" class=\"plotly-graph-div\" style=\"height:525px; width:100%;\"></div>            <script type=\"text/javascript\">                                    window.PLOTLYENV=window.PLOTLYENV || {};                                    if (document.getElementById(\"dc5c257f-7656-4d16-9531-b0b2d81b7a15\")) {                    Plotly.newPlot(                        \"dc5c257f-7656-4d16-9531-b0b2d81b7a15\",                        [{\"hovertemplate\":\"Time=%{x}<br>Protocol=%{y}<extra></extra>\",\"legendgroup\":\"\",\"marker\":{\"color\":\"#636efa\",\"symbol\":\"circle\"},\"mode\":\"markers\",\"name\":\"\",\"showlegend\":false,\"x\":[\"2023-03-09T22:08:56.181713\",\"2023-03-09T22:08:56.182232\",\"2023-03-09T22:08:59.851676\",\"2023-03-09T22:08:59.852203\",\"2023-03-09T22:09:01.188195\",\"2023-03-09T22:09:01.188827\",\"2023-03-09T22:09:01.335292\",\"2023-03-09T22:09:01.337037\",\"2023-03-09T22:09:06.194573\",\"2023-03-09T22:09:06.194806\",\"2023-03-09T22:09:11.199982\",\"2023-03-09T22:09:11.200134\",\"2023-03-09T22:09:16.203439\",\"2023-03-09T22:09:16.203550\",\"2023-03-09T22:09:21.204892\",\"2023-03-09T22:09:21.205020\",\"2023-03-09T22:09:26.207645\",\"2023-03-09T22:09:26.208745\",\"2023-03-09T22:09:30.321543\",\"2023-03-09T22:09:31.212424\",\"2023-03-09T22:09:31.212686\",\"2023-03-09T22:09:36.215825\",\"2023-03-09T22:09:36.216283\",\"2023-03-09T22:09:36.407395\",\"2023-03-09T22:09:36.409469\",\"2023-03-09T22:09:41.219211\",\"2023-03-09T22:09:41.219662\",\"2023-03-09T22:09:46.223423\",\"2023-03-09T22:09:46.223927\",\"2023-03-09T22:09:49.344534\",\"2023-03-09T22:09:49.345457\",\"2023-03-09T22:09:49.384401\",\"2023-03-09T22:09:49.385355\",\"2023-03-09T22:09:49.427285\",\"2023-03-09T22:09:49.457372\",\"2023-03-09T22:09:49.488141\",\"2023-03-09T22:09:49.524924\",\"2023-03-09T22:09:49.556651\",\"2023-03-09T22:09:49.589435\",\"2023-03-09T22:09:49.624135\",\"2023-03-09T22:09:49.656107\",\"2023-03-09T22:09:49.688867\",\"2023-03-09T22:09:49.728873\",\"2023-03-09T22:09:49.772471\",\"2023-03-09T22:09:49.807026\",\"2023-03-09T22:09:49.848044\",\"2023-03-09T22:09:49.881923\",\"2023-03-09T22:09:49.913389\",\"2023-03-09T22:09:49.945179\",\"2023-03-09T22:09:49.977498\",\"2023-03-09T22:09:50.008668\",\"2023-03-09T22:09:50.043416\",\"2023-03-09T22:09:50.076764\",\"2023-03-09T22:09:50.108611\",\"2023-03-09T22:09:50.162070\",\"2023-03-09T22:09:50.193298\",\"2023-03-09T22:09:50.225759\",\"2023-03-09T22:09:50.252355\",\"2023-03-09T22:09:50.282051\",\"2023-03-09T22:09:50.313870\",\"2023-03-09T22:09:50.344812\",\"2023-03-09T22:09:50.384640\",\"2023-03-09T22:09:50.416965\",\"2023-03-09T22:09:50.448977\",\"2023-03-09T22:09:50.481356\",\"2023-03-09T22:09:50.513789\",\"2023-03-09T22:09:50.548203\",\"2023-03-09T22:09:50.577248\",\"2023-03-09T22:09:50.605285\",\"2023-03-09T22:09:50.636144\",\"2023-03-09T22:09:50.672082\",\"2023-03-09T22:09:50.713546\",\"2023-03-09T22:09:50.744059\",\"2023-03-09T22:09:50.776209\",\"2023-03-09T22:09:50.808936\",\"2023-03-09T22:09:50.845120\",\"2023-03-09T22:09:50.876087\",\"2023-03-09T22:09:50.913727\",\"2023-03-09T22:09:50.954795\",\"2023-03-09T22:09:50.980598\",\"2023-03-09T22:09:51.017241\",\"2023-03-09T22:09:51.049239\",\"2023-03-09T22:09:51.076230\",\"2023-03-09T22:09:51.108038\",\"2023-03-09T22:09:51.152205\",\"2023-03-09T22:09:51.192272\",\"2023-03-09T22:09:51.227210\",\"2023-03-09T22:09:51.227490\",\"2023-03-09T22:09:51.228984\",\"2023-03-09T22:09:51.260172\",\"2023-03-09T22:09:51.293280\",\"2023-03-09T22:09:51.324538\",\"2023-03-09T22:09:51.356605\",\"2023-03-09T22:09:51.389158\",\"2023-03-09T22:09:51.421161\",\"2023-03-09T22:09:51.452257\",\"2023-03-09T22:09:51.484637\",\"2023-03-09T22:09:51.525437\",\"2023-03-09T22:09:51.556599\",\"2023-03-09T22:09:51.604796\",\"2023-03-09T22:09:51.636098\",\"2023-03-09T22:09:51.683291\",\"2023-03-09T22:09:51.721880\",\"2023-03-09T22:09:51.753079\",\"2023-03-09T22:09:51.789727\",\"2023-03-09T22:09:51.834990\",\"2023-03-09T22:09:51.865624\",\"2023-03-09T22:09:51.898114\",\"2023-03-09T22:09:51.929531\",\"2023-03-09T22:09:51.954261\",\"2023-03-09T22:09:51.989597\",\"2023-03-09T22:09:52.017285\",\"2023-03-09T22:09:52.048017\",\"2023-03-09T22:09:52.073317\",\"2023-03-09T22:09:52.106391\",\"2023-03-09T22:09:52.141259\",\"2023-03-09T22:09:52.188595\",\"2023-03-09T22:09:52.216362\",\"2023-03-09T22:09:52.252437\",\"2023-03-09T22:09:52.284630\",\"2023-03-09T22:09:52.316910\",\"2023-03-09T22:09:52.344306\",\"2023-03-09T22:09:52.376484\",\"2023-03-09T22:09:52.408826\",\"2023-03-09T22:09:52.444558\",\"2023-03-09T22:09:52.472116\",\"2023-03-09T22:09:52.500710\",\"2023-03-09T22:09:52.528284\",\"2023-03-09T22:09:52.560340\",\"2023-03-09T22:09:52.597423\",\"2023-03-09T22:09:52.624750\",\"2023-03-09T22:09:52.656092\",\"2023-03-09T22:09:52.684366\",\"2023-03-09T22:09:52.720872\",\"2023-03-09T22:09:52.757927\",\"2023-03-09T22:09:52.797278\",\"2023-03-09T22:09:52.838772\",\"2023-03-09T22:09:52.872974\",\"2023-03-09T22:09:52.913169\",\"2023-03-09T22:09:52.948798\",\"2023-03-09T22:09:52.976787\",\"2023-03-09T22:09:53.016016\",\"2023-03-09T22:09:53.079550\",\"2023-03-09T22:09:53.116538\",\"2023-03-09T22:09:53.152011\",\"2023-03-09T22:09:53.192580\",\"2023-03-09T22:09:53.233298\",\"2023-03-09T22:09:53.282786\",\"2023-03-09T22:09:53.336157\",\"2023-03-09T22:09:53.373229\",\"2023-03-09T22:09:53.414512\",\"2023-03-09T22:09:53.448374\",\"2023-03-09T22:09:53.480819\",\"2023-03-09T22:09:53.513347\",\"2023-03-09T22:09:53.552814\",\"2023-03-09T22:09:53.585386\",\"2023-03-09T22:09:53.626755\",\"2023-03-09T22:09:53.664114\",\"2023-03-09T22:09:53.697509\",\"2023-03-09T22:09:53.724779\",\"2023-03-09T22:09:53.764776\",\"2023-03-09T22:09:53.806157\",\"2023-03-09T22:09:53.843227\",\"2023-03-09T22:09:53.880640\",\"2023-03-09T22:09:53.910210\",\"2023-03-09T22:09:53.952457\",\"2023-03-09T22:09:53.998941\",\"2023-03-09T22:09:54.044451\",\"2023-03-09T22:09:54.088361\",\"2023-03-09T22:09:54.120919\",\"2023-03-09T22:09:54.156661\",\"2023-03-09T22:09:54.192388\",\"2023-03-09T22:09:54.224722\",\"2023-03-09T22:09:54.256877\",\"2023-03-09T22:09:54.284089\",\"2023-03-09T22:09:54.317702\",\"2023-03-09T22:09:54.353366\",\"2023-03-09T22:09:54.392249\",\"2023-03-09T22:09:54.430750\",\"2023-03-09T22:09:54.464245\",\"2023-03-09T22:09:54.496706\",\"2023-03-09T22:09:54.529144\",\"2023-03-09T22:09:54.560745\",\"2023-03-09T22:09:54.604936\",\"2023-03-09T22:09:54.632749\",\"2023-03-09T22:09:54.680831\",\"2023-03-09T22:09:54.713647\",\"2023-03-09T22:09:54.748082\",\"2023-03-09T22:09:54.776389\",\"2023-03-09T22:09:54.813478\",\"2023-03-09T22:09:54.844118\",\"2023-03-09T22:09:54.876432\",\"2023-03-09T22:09:54.912333\",\"2023-03-09T22:09:54.948669\",\"2023-03-09T22:09:54.984851\",\"2023-03-09T22:09:55.021020\",\"2023-03-09T22:09:55.062299\",\"2023-03-09T22:09:55.092622\",\"2023-03-09T22:09:55.129197\",\"2023-03-09T22:09:55.152344\",\"2023-03-09T22:09:55.180480\",\"2023-03-09T22:09:55.208663\",\"2023-03-09T22:09:55.244203\",\"2023-03-09T22:09:55.288968\",\"2023-03-09T22:09:55.322394\",\"2023-03-09T22:09:55.352157\",\"2023-03-09T22:09:55.385541\",\"2023-03-09T22:09:55.422787\",\"2023-03-09T22:09:55.457486\",\"2023-03-09T22:09:55.488541\",\"2023-03-09T22:09:55.521103\",\"2023-03-09T22:09:55.556992\",\"2023-03-09T22:09:55.592500\",\"2023-03-09T22:09:55.628516\",\"2023-03-09T22:09:55.660643\",\"2023-03-09T22:09:55.692430\",\"2023-03-09T22:09:55.729172\",\"2023-03-09T22:09:55.766669\",\"2023-03-09T22:09:55.805119\",\"2023-03-09T22:09:55.837815\",\"2023-03-09T22:09:55.868362\",\"2023-03-09T22:09:55.896661\",\"2023-03-09T22:09:55.929095\",\"2023-03-09T22:09:55.956595\",\"2023-03-09T22:09:55.989973\",\"2023-03-09T22:09:56.022480\",\"2023-03-09T22:09:56.057220\",\"2023-03-09T22:09:56.093216\",\"2023-03-09T22:09:56.128953\",\"2023-03-09T22:09:56.168422\",\"2023-03-09T22:09:56.212706\",\"2023-03-09T22:09:56.231605\",\"2023-03-09T22:09:56.231889\",\"2023-03-09T22:09:56.258384\",\"2023-03-09T22:09:56.288055\",\"2023-03-09T22:09:56.316503\",\"2023-03-09T22:09:56.346532\",\"2023-03-09T22:09:56.380746\",\"2023-03-09T22:09:56.413771\",\"2023-03-09T22:09:56.457742\",\"2023-03-09T22:09:56.488718\",\"2023-03-09T22:09:56.524282\",\"2023-03-09T22:09:56.552645\",\"2023-03-09T22:09:56.592743\",\"2023-03-09T22:09:56.624377\",\"2023-03-09T22:09:56.664650\",\"2023-03-09T22:09:56.700533\",\"2023-03-09T22:09:56.730201\",\"2023-03-09T22:09:56.773482\",\"2023-03-09T22:09:56.813357\",\"2023-03-09T22:09:56.848182\",\"2023-03-09T22:09:56.889422\",\"2023-03-09T22:09:56.920591\",\"2023-03-09T22:09:56.954922\",\"2023-03-09T22:09:56.988038\",\"2023-03-09T22:09:57.026709\",\"2023-03-09T22:09:57.065589\",\"2023-03-09T22:09:57.100544\",\"2023-03-09T22:09:57.136184\",\"2023-03-09T22:09:57.164330\",\"2023-03-09T22:09:57.188607\",\"2023-03-09T22:09:57.227377\",\"2023-03-09T22:09:57.265489\",\"2023-03-09T22:09:57.292726\",\"2023-03-09T22:09:57.328643\",\"2023-03-09T22:09:57.360205\",\"2023-03-09T22:09:57.400703\",\"2023-03-09T22:09:57.444806\",\"2023-03-09T22:09:57.476012\",\"2023-03-09T22:09:57.513126\",\"2023-03-09T22:09:57.552433\",\"2023-03-09T22:09:57.589250\",\"2023-03-09T22:09:57.624062\",\"2023-03-09T22:09:57.660814\",\"2023-03-09T22:09:57.697021\",\"2023-03-09T22:09:57.736126\",\"2023-03-09T22:09:57.772933\",\"2023-03-09T22:09:57.809674\",\"2023-03-09T22:09:57.842353\",\"2023-03-09T22:09:57.878048\",\"2023-03-09T22:09:57.910762\",\"2023-03-09T22:09:57.948844\",\"2023-03-09T22:09:57.984231\",\"2023-03-09T22:09:58.022237\",\"2023-03-09T22:09:58.052506\",\"2023-03-09T22:09:58.084396\",\"2023-03-09T22:09:58.112947\",\"2023-03-09T22:09:58.141463\",\"2023-03-09T22:09:58.172369\",\"2023-03-09T22:09:58.201301\",\"2023-03-09T22:09:58.237660\",\"2023-03-09T22:09:58.268662\",\"2023-03-09T22:09:58.305201\",\"2023-03-09T22:09:58.353203\",\"2023-03-09T22:09:58.384525\",\"2023-03-09T22:09:58.424882\",\"2023-03-09T22:09:58.458381\",\"2023-03-09T22:09:58.489988\",\"2023-03-09T22:09:58.521746\",\"2023-03-09T22:09:58.556764\",\"2023-03-09T22:09:58.587997\",\"2023-03-09T22:09:58.621545\",\"2023-03-09T22:09:58.652896\",\"2023-03-09T22:09:58.692270\",\"2023-03-09T22:09:58.736636\",\"2023-03-09T22:09:58.768626\",\"2023-03-09T22:09:58.800755\",\"2023-03-09T22:09:58.852695\",\"2023-03-09T22:09:58.908069\",\"2023-03-09T22:09:58.942825\",\"2023-03-09T22:09:58.988000\",\"2023-03-09T22:09:59.021687\",\"2023-03-09T22:09:59.068169\",\"2023-03-09T22:09:59.105713\",\"2023-03-09T22:09:59.132228\",\"2023-03-09T22:09:59.160188\",\"2023-03-09T22:09:59.184090\",\"2023-03-09T22:09:59.213128\",\"2023-03-09T22:09:59.240922\",\"2023-03-09T22:09:59.273469\",\"2023-03-09T22:09:59.305284\",\"2023-03-09T22:09:59.337445\",\"2023-03-09T22:09:59.368881\",\"2023-03-09T22:09:59.401109\",\"2023-03-09T22:09:59.432404\",\"2023-03-09T22:09:59.464477\",\"2023-03-09T22:09:59.492885\",\"2023-03-09T22:09:59.524259\",\"2023-03-09T22:09:59.564404\",\"2023-03-09T22:09:59.600996\",\"2023-03-09T22:09:59.636245\",\"2023-03-09T22:09:59.665306\",\"2023-03-09T22:09:59.697058\",\"2023-03-09T22:09:59.729109\",\"2023-03-09T22:09:59.768619\",\"2023-03-09T22:09:59.805700\",\"2023-03-09T22:09:59.843370\",\"2023-03-09T22:09:59.870040\",\"2023-03-09T22:09:59.912171\",\"2023-03-09T22:09:59.946369\",\"2023-03-09T22:09:59.984405\",\"2023-03-09T22:10:00.017017\",\"2023-03-09T22:10:00.046141\",\"2023-03-09T22:10:00.076881\",\"2023-03-09T22:10:00.104731\",\"2023-03-09T22:10:00.134096\",\"2023-03-09T22:10:00.168294\",\"2023-03-09T22:10:00.200850\",\"2023-03-09T22:10:00.236851\",\"2023-03-09T22:10:00.280346\",\"2023-03-09T22:10:00.320822\",\"2023-03-09T22:10:00.352673\",\"2023-03-09T22:10:00.388181\",\"2023-03-09T22:10:00.420777\",\"2023-03-09T22:10:00.462046\",\"2023-03-09T22:10:00.501301\",\"2023-03-09T22:10:00.536781\",\"2023-03-09T22:10:00.568871\",\"2023-03-09T22:10:00.608040\",\"2023-03-09T22:10:00.653758\",\"2023-03-09T22:10:00.681569\",\"2023-03-09T22:10:00.720764\",\"2023-03-09T22:10:00.757470\",\"2023-03-09T22:10:00.796961\",\"2023-03-09T22:10:00.829761\",\"2023-03-09T22:10:00.864592\",\"2023-03-09T22:10:00.912182\",\"2023-03-09T22:10:00.952748\",\"2023-03-09T22:10:00.996800\",\"2023-03-09T22:10:01.032321\",\"2023-03-09T22:10:01.068646\",\"2023-03-09T22:10:01.107937\",\"2023-03-09T22:10:01.145496\",\"2023-03-09T22:10:01.176870\",\"2023-03-09T22:10:01.208180\",\"2023-03-09T22:10:01.236297\",\"2023-03-09T22:10:01.236669\",\"2023-03-09T22:10:01.240810\",\"2023-03-09T22:10:01.264514\",\"2023-03-09T22:10:01.308397\",\"2023-03-09T22:10:01.348419\",\"2023-03-09T22:10:01.388582\",\"2023-03-09T22:10:01.422343\",\"2023-03-09T22:10:01.448543\",\"2023-03-09T22:10:01.480248\",\"2023-03-09T22:10:01.512708\",\"2023-03-09T22:10:01.545982\",\"2023-03-09T22:10:01.578366\",\"2023-03-09T22:10:01.620761\",\"2023-03-09T22:10:01.652132\",\"2023-03-09T22:10:01.688940\",\"2023-03-09T22:10:01.729451\",\"2023-03-09T22:10:01.764133\",\"2023-03-09T22:10:01.800520\",\"2023-03-09T22:10:01.836106\",\"2023-03-09T22:10:01.868771\",\"2023-03-09T22:10:01.906850\",\"2023-03-09T22:10:01.945541\",\"2023-03-09T22:10:01.984424\",\"2023-03-09T22:10:02.021835\",\"2023-03-09T22:10:02.052401\",\"2023-03-09T22:10:02.088444\",\"2023-03-09T22:10:02.121042\",\"2023-03-09T22:10:02.152284\",\"2023-03-09T22:10:02.190041\",\"2023-03-09T22:10:02.222243\",\"2023-03-09T22:10:02.252795\",\"2023-03-09T22:10:02.290665\",\"2023-03-09T22:10:02.329418\",\"2023-03-09T22:10:02.368748\",\"2023-03-09T22:10:02.400840\",\"2023-03-09T22:10:02.432335\",\"2023-03-09T22:10:02.467579\",\"2023-03-09T22:10:02.511007\",\"2023-03-09T22:10:02.556239\",\"2023-03-09T22:10:02.589152\",\"2023-03-09T22:10:02.628974\",\"2023-03-09T22:10:02.661367\",\"2023-03-09T22:10:02.700962\",\"2023-03-09T22:10:02.737756\",\"2023-03-09T22:10:02.768846\",\"2023-03-09T22:10:02.805466\",\"2023-03-09T22:10:02.832443\",\"2023-03-09T22:10:02.868518\",\"2023-03-09T22:10:02.912218\",\"2023-03-09T22:10:02.945852\",\"2023-03-09T22:10:02.984773\",\"2023-03-09T22:10:03.012640\",\"2023-03-09T22:10:03.040761\",\"2023-03-09T22:10:03.076217\",\"2023-03-09T22:10:03.108449\",\"2023-03-09T22:10:03.152368\",\"2023-03-09T22:10:03.188050\",\"2023-03-09T22:10:03.221740\",\"2023-03-09T22:10:03.277168\",\"2023-03-09T22:10:03.316776\",\"2023-03-09T22:10:03.352561\",\"2023-03-09T22:10:03.392353\",\"2023-03-09T22:10:03.421705\",\"2023-03-09T22:10:03.473927\",\"2023-03-09T22:10:03.514260\",\"2023-03-09T22:10:03.552304\",\"2023-03-09T22:10:03.581008\",\"2023-03-09T22:10:03.612433\",\"2023-03-09T22:10:03.648341\",\"2023-03-09T22:10:03.681202\",\"2023-03-09T22:10:03.721380\",\"2023-03-09T22:10:03.752312\",\"2023-03-09T22:10:03.789980\",\"2023-03-09T22:10:03.816170\",\"2023-03-09T22:10:03.857709\",\"2023-03-09T22:10:03.892683\",\"2023-03-09T22:10:03.924535\",\"2023-03-09T22:10:03.958054\",\"2023-03-09T22:10:03.994269\",\"2023-03-09T22:10:04.028942\",\"2023-03-09T22:10:04.073373\",\"2023-03-09T22:10:04.104080\",\"2023-03-09T22:10:04.136283\",\"2023-03-09T22:10:04.172074\",\"2023-03-09T22:10:04.212682\",\"2023-03-09T22:10:04.252568\",\"2023-03-09T22:10:04.292753\",\"2023-03-09T22:10:04.329171\",\"2023-03-09T22:10:04.361662\",\"2023-03-09T22:10:04.392838\",\"2023-03-09T22:10:04.429022\",\"2023-03-09T22:10:04.462829\",\"2023-03-09T22:10:04.501596\",\"2023-03-09T22:10:04.544838\",\"2023-03-09T22:10:04.589279\",\"2023-03-09T22:10:04.620706\",\"2023-03-09T22:10:04.652311\",\"2023-03-09T22:10:04.688061\",\"2023-03-09T22:10:04.724236\",\"2023-03-09T22:10:04.764295\",\"2023-03-09T22:10:04.805715\",\"2023-03-09T22:10:04.853365\",\"2023-03-09T22:10:04.884777\",\"2023-03-09T22:10:04.924910\",\"2023-03-09T22:10:04.957248\",\"2023-03-09T22:10:04.992496\",\"2023-03-09T22:10:05.024778\",\"2023-03-09T22:10:05.061995\",\"2023-03-09T22:10:05.101377\",\"2023-03-09T22:10:05.136336\",\"2023-03-09T22:10:05.172660\",\"2023-03-09T22:10:05.212472\",\"2023-03-09T22:10:05.244775\",\"2023-03-09T22:10:05.277156\",\"2023-03-09T22:10:05.321052\",\"2023-03-09T22:10:05.352514\",\"2023-03-09T22:10:05.393479\",\"2023-03-09T22:10:05.428315\",\"2023-03-09T22:10:05.461655\",\"2023-03-09T22:10:05.501488\",\"2023-03-09T22:10:05.536213\",\"2023-03-09T22:10:05.568801\",\"2023-03-09T22:10:05.604275\",\"2023-03-09T22:10:05.637567\",\"2023-03-09T22:10:05.669372\",\"2023-03-09T22:10:05.700753\",\"2023-03-09T22:10:05.736347\",\"2023-03-09T22:10:05.764332\",\"2023-03-09T22:10:05.796031\",\"2023-03-09T22:10:05.825365\",\"2023-03-09T22:10:05.860739\",\"2023-03-09T22:10:05.888964\",\"2023-03-09T22:10:05.916367\",\"2023-03-09T22:10:05.952575\",\"2023-03-09T22:10:05.980562\",\"2023-03-09T22:10:06.008615\",\"2023-03-09T22:10:06.048862\",\"2023-03-09T22:10:06.080800\",\"2023-03-09T22:10:06.112169\",\"2023-03-09T22:10:06.145979\",\"2023-03-09T22:10:06.197714\",\"2023-03-09T22:10:06.239281\",\"2023-03-09T22:10:06.239557\",\"2023-03-09T22:10:06.240666\",\"2023-03-09T22:10:06.269602\",\"2023-03-09T22:10:06.305930\",\"2023-03-09T22:10:06.336085\",\"2023-03-09T22:10:06.374530\",\"2023-03-09T22:10:06.412794\",\"2023-03-09T22:10:06.441814\",\"2023-03-09T22:10:06.477013\",\"2023-03-09T22:10:06.516549\",\"2023-03-09T22:10:06.553526\",\"2023-03-09T22:10:06.601431\",\"2023-03-09T22:10:06.636654\",\"2023-03-09T22:10:06.677705\",\"2023-03-09T22:10:06.716277\",\"2023-03-09T22:10:06.748647\",\"2023-03-09T22:10:06.780432\",\"2023-03-09T22:10:06.809641\",\"2023-03-09T22:10:06.840974\",\"2023-03-09T22:10:06.873296\",\"2023-03-09T22:10:06.906051\",\"2023-03-09T22:10:06.941331\",\"2023-03-09T22:10:06.972983\",\"2023-03-09T22:10:07.006523\",\"2023-03-09T22:10:07.045278\",\"2023-03-09T22:10:07.077485\",\"2023-03-09T22:10:07.114099\",\"2023-03-09T22:10:07.143537\",\"2023-03-09T22:10:07.180611\",\"2023-03-09T22:10:07.212480\",\"2023-03-09T22:10:07.248283\",\"2023-03-09T22:10:07.293168\",\"2023-03-09T22:10:07.328596\",\"2023-03-09T22:10:07.362070\",\"2023-03-09T22:10:07.396877\",\"2023-03-09T22:10:07.433775\",\"2023-03-09T22:10:07.477929\",\"2023-03-09T22:10:07.511290\",\"2023-03-09T22:10:07.548729\",\"2023-03-09T22:10:07.585305\",\"2023-03-09T22:10:07.621808\",\"2023-03-09T22:10:07.660939\",\"2023-03-09T22:10:07.695977\",\"2023-03-09T22:10:07.732880\",\"2023-03-09T22:10:07.764354\",\"2023-03-09T22:10:07.808360\",\"2023-03-09T22:10:07.840453\",\"2023-03-09T22:10:07.876891\",\"2023-03-09T22:10:07.928078\",\"2023-03-09T22:10:07.964867\",\"2023-03-09T22:10:08.000698\",\"2023-03-09T22:10:08.032513\",\"2023-03-09T22:10:08.073821\",\"2023-03-09T22:10:08.098277\",\"2023-03-09T22:10:08.132214\",\"2023-03-09T22:10:08.172552\",\"2023-03-09T22:10:08.200461\",\"2023-03-09T22:10:08.233392\",\"2023-03-09T22:10:08.265987\",\"2023-03-09T22:10:08.296647\",\"2023-03-09T22:10:08.336232\",\"2023-03-09T22:10:08.368103\",\"2023-03-09T22:10:08.401235\",\"2023-03-09T22:10:08.438152\",\"2023-03-09T22:10:08.476560\",\"2023-03-09T22:10:08.509073\",\"2023-03-09T22:10:08.541490\",\"2023-03-09T22:10:08.580670\",\"2023-03-09T22:10:08.612760\",\"2023-03-09T22:10:08.653048\",\"2023-03-09T22:10:08.684949\",\"2023-03-09T22:10:08.725669\",\"2023-03-09T22:10:08.773334\",\"2023-03-09T22:10:08.806713\",\"2023-03-09T22:10:08.845116\",\"2023-03-09T22:10:08.872773\",\"2023-03-09T22:10:08.906325\",\"2023-03-09T22:10:08.945178\",\"2023-03-09T22:10:08.984635\",\"2023-03-09T22:10:09.012434\",\"2023-03-09T22:10:09.048234\",\"2023-03-09T22:10:09.077783\",\"2023-03-09T22:10:09.128398\",\"2023-03-09T22:10:09.173358\",\"2023-03-09T22:10:09.208014\",\"2023-03-09T22:10:09.246730\",\"2023-03-09T22:10:09.284785\",\"2023-03-09T22:10:09.312260\",\"2023-03-09T22:10:09.344620\",\"2023-03-09T22:10:09.374125\",\"2023-03-09T22:10:09.405090\",\"2023-03-09T22:10:09.432548\",\"2023-03-09T22:10:09.461070\",\"2023-03-09T22:10:09.496397\",\"2023-03-09T22:10:09.524827\",\"2023-03-09T22:10:09.557320\",\"2023-03-09T22:10:09.588601\",\"2023-03-09T22:10:09.624754\",\"2023-03-09T22:10:09.664707\",\"2023-03-09T22:10:09.690634\",\"2023-03-09T22:10:09.725530\",\"2023-03-09T22:10:09.759415\",\"2023-03-09T22:10:09.792934\",\"2023-03-09T22:10:09.821040\",\"2023-03-09T22:10:09.852849\",\"2023-03-09T22:10:09.890279\",\"2023-03-09T22:10:09.921223\",\"2023-03-09T22:10:09.952885\",\"2023-03-09T22:10:09.990398\",\"2023-03-09T22:10:10.020938\",\"2023-03-09T22:10:10.052659\",\"2023-03-09T22:10:10.096584\",\"2023-03-09T22:10:10.128353\",\"2023-03-09T22:10:10.164628\",\"2023-03-09T22:10:10.193409\",\"2023-03-09T22:10:10.224323\",\"2023-03-09T22:10:10.260844\",\"2023-03-09T22:10:10.288798\",\"2023-03-09T22:10:10.316672\",\"2023-03-09T22:10:10.348728\",\"2023-03-09T22:10:10.380817\",\"2023-03-09T22:10:10.409097\",\"2023-03-09T22:10:10.436747\",\"2023-03-09T22:10:10.468336\",\"2023-03-09T22:10:10.496218\",\"2023-03-09T22:10:10.524328\",\"2023-03-09T22:10:10.548683\",\"2023-03-09T22:10:10.584245\",\"2023-03-09T22:10:10.622308\",\"2023-03-09T22:10:10.656804\",\"2023-03-09T22:10:10.696219\",\"2023-03-09T22:10:10.728385\",\"2023-03-09T22:10:10.756106\",\"2023-03-09T22:10:10.789628\",\"2023-03-09T22:10:10.816434\",\"2023-03-09T22:10:10.852735\",\"2023-03-09T22:10:10.890441\",\"2023-03-09T22:10:10.921554\",\"2023-03-09T22:10:10.952583\",\"2023-03-09T22:10:10.985199\",\"2023-03-09T22:10:11.021177\",\"2023-03-09T22:10:11.053573\",\"2023-03-09T22:10:11.080403\",\"2023-03-09T22:10:11.124591\",\"2023-03-09T22:10:11.162265\",\"2023-03-09T22:10:11.204417\",\"2023-03-09T22:10:11.236558\",\"2023-03-09T22:10:11.243302\",\"2023-03-09T22:10:11.243443\",\"2023-03-09T22:10:11.264800\",\"2023-03-09T22:10:11.301406\",\"2023-03-09T22:10:11.337119\",\"2023-03-09T22:10:11.389803\",\"2023-03-09T22:10:11.416934\",\"2023-03-09T22:10:11.448395\",\"2023-03-09T22:10:11.484861\",\"2023-03-09T22:10:11.524545\",\"2023-03-09T22:10:11.562218\",\"2023-03-09T22:10:11.590455\",\"2023-03-09T22:10:11.628867\",\"2023-03-09T22:10:11.665412\",\"2023-03-09T22:10:11.709328\",\"2023-03-09T22:10:11.740655\",\"2023-03-09T22:10:11.777428\",\"2023-03-09T22:10:11.812648\",\"2023-03-09T22:10:11.848473\",\"2023-03-09T22:10:11.890432\",\"2023-03-09T22:10:11.929037\",\"2023-03-09T22:10:11.964666\",\"2023-03-09T22:10:11.996148\",\"2023-03-09T22:10:12.028708\",\"2023-03-09T22:10:12.068353\",\"2023-03-09T22:10:12.100265\",\"2023-03-09T22:10:12.137170\",\"2023-03-09T22:10:12.168984\",\"2023-03-09T22:10:12.204459\",\"2023-03-09T22:10:12.237268\",\"2023-03-09T22:10:12.272806\",\"2023-03-09T22:10:12.304826\",\"2023-03-09T22:10:12.336312\",\"2023-03-09T22:10:12.377552\",\"2023-03-09T22:10:12.412857\",\"2023-03-09T22:10:12.441529\",\"2023-03-09T22:10:12.484552\",\"2023-03-09T22:10:12.528622\",\"2023-03-09T22:10:12.560378\",\"2023-03-09T22:10:12.593070\",\"2023-03-09T22:10:12.628905\",\"2023-03-09T22:10:12.672762\",\"2023-03-09T22:10:12.704593\",\"2023-03-09T22:10:12.742862\",\"2023-03-09T22:10:12.781217\",\"2023-03-09T22:10:12.813068\",\"2023-03-09T22:10:12.852569\",\"2023-03-09T22:10:12.884325\",\"2023-03-09T22:10:12.921046\",\"2023-03-09T22:10:12.952517\",\"2023-03-09T22:10:12.993426\",\"2023-03-09T22:10:13.024495\",\"2023-03-09T22:10:13.064789\",\"2023-03-09T22:10:13.100673\",\"2023-03-09T22:10:13.117930\",\"2023-03-09T22:10:13.152664\",\"2023-03-09T22:10:13.180596\",\"2023-03-09T22:10:13.215785\",\"2023-03-09T22:10:13.248350\",\"2023-03-09T22:10:13.284868\",\"2023-03-09T22:10:13.324175\",\"2023-03-09T22:10:13.364644\",\"2023-03-09T22:10:13.412664\",\"2023-03-09T22:10:13.446765\",\"2023-03-09T22:10:13.493150\",\"2023-03-09T22:10:13.525018\",\"2023-03-09T22:10:13.561482\",\"2023-03-09T22:10:13.597744\",\"2023-03-09T22:10:13.632646\",\"2023-03-09T22:10:13.664336\",\"2023-03-09T22:10:13.702282\",\"2023-03-09T22:10:13.740872\",\"2023-03-09T22:10:13.781283\",\"2023-03-09T22:10:13.818400\",\"2023-03-09T22:10:13.849934\",\"2023-03-09T22:10:13.884524\",\"2023-03-09T22:10:13.912408\",\"2023-03-09T22:10:13.944142\",\"2023-03-09T22:10:13.984971\",\"2023-03-09T22:10:14.021178\",\"2023-03-09T22:10:14.048230\",\"2023-03-09T22:10:14.076925\",\"2023-03-09T22:10:14.112381\",\"2023-03-09T22:10:14.144094\",\"2023-03-09T22:10:14.172125\",\"2023-03-09T22:10:14.211219\",\"2023-03-09T22:10:14.244458\",\"2023-03-09T22:10:14.268511\",\"2023-03-09T22:10:14.301435\",\"2023-03-09T22:10:14.332358\",\"2023-03-09T22:10:14.356206\",\"2023-03-09T22:10:14.389690\",\"2023-03-09T22:10:14.417322\",\"2023-03-09T22:10:14.444416\",\"2023-03-09T22:10:14.477196\",\"2023-03-09T22:10:14.520770\",\"2023-03-09T22:10:14.552649\",\"2023-03-09T22:10:14.600682\",\"2023-03-09T22:10:14.633830\",\"2023-03-09T22:10:14.660356\",\"2023-03-09T22:10:14.712142\",\"2023-03-09T22:10:14.748571\",\"2023-03-09T22:10:16.622661\",\"2023-03-09T22:10:16.622790\",\"2023-03-09T22:10:20.849273\",\"2023-03-09T22:10:20.850098\",\"2023-03-09T22:10:20.867964\",\"2023-03-09T22:10:20.869249\",\"2023-03-09T22:10:20.911676\",\"2023-03-09T22:10:20.913378\",\"2023-03-09T22:10:20.952648\",\"2023-03-09T22:10:20.954136\",\"2023-03-09T22:10:20.992679\",\"2023-03-09T22:10:20.994059\",\"2023-03-09T22:10:21.026397\",\"2023-03-09T22:10:21.027654\",\"2023-03-09T22:10:21.070635\",\"2023-03-09T22:10:21.071733\",\"2023-03-09T22:10:21.112798\",\"2023-03-09T22:10:21.114236\",\"2023-03-09T22:10:21.157047\",\"2023-03-09T22:10:21.159249\",\"2023-03-09T22:10:21.196984\",\"2023-03-09T22:10:21.198300\",\"2023-03-09T22:10:21.232543\",\"2023-03-09T22:10:21.233795\",\"2023-03-09T22:10:21.273382\",\"2023-03-09T22:10:21.274919\",\"2023-03-09T22:10:21.321297\",\"2023-03-09T22:10:21.322879\",\"2023-03-09T22:10:21.361568\",\"2023-03-09T22:10:21.364019\",\"2023-03-09T22:10:21.402414\",\"2023-03-09T22:10:21.403926\",\"2023-03-09T22:10:21.448314\",\"2023-03-09T22:10:21.449665\",\"2023-03-09T22:10:21.484978\",\"2023-03-09T22:10:21.486368\",\"2023-03-09T22:10:21.528832\",\"2023-03-09T22:10:21.529749\",\"2023-03-09T22:10:21.568868\",\"2023-03-09T22:10:21.570544\",\"2023-03-09T22:10:21.617274\",\"2023-03-09T22:10:21.618327\",\"2023-03-09T22:10:21.627481\",\"2023-03-09T22:10:21.627556\",\"2023-03-09T22:10:21.665317\",\"2023-03-09T22:10:21.666412\",\"2023-03-09T22:10:21.712897\",\"2023-03-09T22:10:21.713858\",\"2023-03-09T22:10:21.744531\",\"2023-03-09T22:10:21.745509\",\"2023-03-09T22:10:21.745528\",\"2023-03-09T22:10:21.789606\",\"2023-03-09T22:10:21.791364\",\"2023-03-09T22:10:21.791501\",\"2023-03-09T22:10:21.832130\",\"2023-03-09T22:10:21.833286\",\"2023-03-09T22:10:21.833434\",\"2023-03-09T22:10:21.876824\",\"2023-03-09T22:10:21.877730\",\"2023-03-09T22:10:21.918424\",\"2023-03-09T22:10:21.919754\",\"2023-03-09T22:10:21.919780\",\"2023-03-09T22:10:21.961518\",\"2023-03-09T22:10:21.962575\",\"2023-03-09T22:10:22.044367\",\"2023-03-09T22:10:22.045544\",\"2023-03-09T22:10:22.085177\",\"2023-03-09T22:10:22.086576\",\"2023-03-09T22:10:22.125915\",\"2023-03-09T22:10:22.127201\",\"2023-03-09T22:10:22.165053\",\"2023-03-09T22:10:22.165990\",\"2023-03-09T22:10:22.205606\",\"2023-03-09T22:10:22.206577\",\"2023-03-09T22:10:22.241612\",\"2023-03-09T22:10:22.243181\",\"2023-03-09T22:10:22.272936\",\"2023-03-09T22:10:22.274084\",\"2023-03-09T22:10:22.312807\",\"2023-03-09T22:10:22.313975\",\"2023-03-09T22:10:22.352930\",\"2023-03-09T22:10:22.354320\",\"2023-03-09T22:10:22.398064\",\"2023-03-09T22:10:22.400123\",\"2023-03-09T22:10:22.444902\",\"2023-03-09T22:10:22.445900\",\"2023-03-09T22:10:22.484996\",\"2023-03-09T22:10:22.486100\",\"2023-03-09T22:10:22.530204\",\"2023-03-09T22:10:22.531295\",\"2023-03-09T22:10:22.560702\",\"2023-03-09T22:10:22.562152\",\"2023-03-09T22:10:22.604468\",\"2023-03-09T22:10:22.605845\",\"2023-03-09T22:10:22.636340\",\"2023-03-09T22:10:22.637450\",\"2023-03-09T22:10:22.681120\",\"2023-03-09T22:10:22.682484\",\"2023-03-09T22:10:22.721821\",\"2023-03-09T22:10:22.723661\",\"2023-03-09T22:10:22.768349\",\"2023-03-09T22:10:22.769452\",\"2023-03-09T22:10:22.813019\",\"2023-03-09T22:10:22.813959\",\"2023-03-09T22:10:22.852392\",\"2023-03-09T22:10:22.853759\",\"2023-03-09T22:10:22.876752\",\"2023-03-09T22:10:22.878195\",\"2023-03-09T22:10:22.908894\",\"2023-03-09T22:10:22.910534\",\"2023-03-09T22:10:22.944346\",\"2023-03-09T22:10:22.945529\",\"2023-03-09T22:10:22.973259\",\"2023-03-09T22:10:22.974507\",\"2023-03-09T22:10:23.022789\",\"2023-03-09T22:10:23.024921\",\"2023-03-09T22:10:23.068892\",\"2023-03-09T22:10:23.069995\",\"2023-03-09T22:10:23.070015\",\"2023-03-09T22:10:23.120936\",\"2023-03-09T22:10:23.122364\",\"2023-03-09T22:10:23.160854\",\"2023-03-09T22:10:23.162277\",\"2023-03-09T22:10:23.204383\",\"2023-03-09T22:10:23.205783\",\"2023-03-09T22:10:23.241850\",\"2023-03-09T22:10:23.244439\",\"2023-03-09T22:10:23.284758\",\"2023-03-09T22:10:23.285804\",\"2023-03-09T22:10:23.336650\",\"2023-03-09T22:10:23.337822\",\"2023-03-09T22:10:23.368748\",\"2023-03-09T22:10:23.370608\",\"2023-03-09T22:10:23.426286\",\"2023-03-09T22:10:23.427785\",\"2023-03-09T22:10:23.460995\",\"2023-03-09T22:10:23.462843\",\"2023-03-09T22:10:23.504788\",\"2023-03-09T22:10:23.506058\",\"2023-03-09T22:10:23.544732\",\"2023-03-09T22:10:23.546419\",\"2023-03-09T22:10:23.572978\",\"2023-03-09T22:10:23.574453\",\"2023-03-09T22:10:23.612513\",\"2023-03-09T22:10:23.613557\",\"2023-03-09T22:10:23.653052\",\"2023-03-09T22:10:23.654935\",\"2023-03-09T22:10:23.702450\",\"2023-03-09T22:10:23.704769\",\"2023-03-09T22:10:23.744691\",\"2023-03-09T22:10:23.745745\",\"2023-03-09T22:10:23.776813\",\"2023-03-09T22:10:23.777775\",\"2023-03-09T22:10:23.809321\",\"2023-03-09T22:10:23.810379\",\"2023-03-09T22:10:23.852869\",\"2023-03-09T22:10:23.854348\",\"2023-03-09T22:10:23.909992\",\"2023-03-09T22:10:23.913817\",\"2023-03-09T22:10:23.945892\",\"2023-03-09T22:10:23.947599\",\"2023-03-09T22:10:23.985180\",\"2023-03-09T22:10:23.986274\",\"2023-03-09T22:10:24.025747\",\"2023-03-09T22:10:24.026648\",\"2023-03-09T22:10:24.064785\",\"2023-03-09T22:10:24.065661\",\"2023-03-09T22:10:24.093101\",\"2023-03-09T22:10:24.094309\",\"2023-03-09T22:10:24.113324\",\"2023-03-09T22:10:24.114713\",\"2023-03-09T22:10:24.152999\",\"2023-03-09T22:10:24.154753\",\"2023-03-09T22:10:24.154772\",\"2023-03-09T22:10:24.201598\",\"2023-03-09T22:10:24.202667\",\"2023-03-09T22:10:24.236257\",\"2023-03-09T22:10:24.237600\",\"2023-03-09T22:10:24.268794\",\"2023-03-09T22:10:24.269658\",\"2023-03-09T22:10:24.320158\",\"2023-03-09T22:10:24.320869\",\"2023-03-09T22:10:24.371712\",\"2023-03-09T22:10:24.372924\",\"2023-03-09T22:10:24.417172\",\"2023-03-09T22:10:24.417963\",\"2023-03-09T22:10:24.457821\",\"2023-03-09T22:10:24.464443\",\"2023-03-09T22:10:24.498095\",\"2023-03-09T22:10:24.499520\",\"2023-03-09T22:10:24.539996\",\"2023-03-09T22:10:24.540732\",\"2023-03-09T22:10:24.578443\",\"2023-03-09T22:10:24.579718\",\"2023-03-09T22:10:24.621900\",\"2023-03-09T22:10:24.623259\",\"2023-03-09T22:10:24.675253\",\"2023-03-09T22:10:24.676374\",\"2023-03-09T22:10:24.709077\",\"2023-03-09T22:10:24.710308\",\"2023-03-09T22:10:24.749286\",\"2023-03-09T22:10:24.750274\",\"2023-03-09T22:10:24.795733\",\"2023-03-09T22:10:24.796472\",\"2023-03-09T22:10:24.836498\",\"2023-03-09T22:10:24.838197\",\"2023-03-09T22:10:24.881730\",\"2023-03-09T22:10:24.882813\",\"2023-03-09T22:10:24.921699\",\"2023-03-09T22:10:24.922998\",\"2023-03-09T22:10:24.962828\",\"2023-03-09T22:10:24.963634\",\"2023-03-09T22:10:25.001164\",\"2023-03-09T22:10:25.002131\",\"2023-03-09T22:10:25.045158\",\"2023-03-09T22:10:25.046169\",\"2023-03-09T22:10:25.860805\",\"2023-03-09T22:10:25.860842\",\"2023-03-09T22:10:26.632879\",\"2023-03-09T22:10:26.632975\",\"2023-03-09T22:10:26.839372\",\"2023-03-09T22:10:26.840767\",\"2023-03-09T22:10:31.640522\",\"2023-03-09T22:10:31.640850\",\"2023-03-09T22:10:33.868331\",\"2023-03-09T22:10:33.869196\",\"2023-03-09T22:10:33.879910\",\"2023-03-09T22:10:33.881291\",\"2023-03-09T22:10:33.925430\",\"2023-03-09T22:10:33.926369\",\"2023-03-09T22:10:33.968837\",\"2023-03-09T22:10:33.970501\",\"2023-03-09T22:10:34.012969\",\"2023-03-09T22:10:34.014304\",\"2023-03-09T22:10:34.045055\",\"2023-03-09T22:10:34.046471\",\"2023-03-09T22:10:34.085202\",\"2023-03-09T22:10:34.086497\",\"2023-03-09T22:10:34.124482\",\"2023-03-09T22:10:34.125658\",\"2023-03-09T22:10:34.168402\",\"2023-03-09T22:10:34.169792\",\"2023-03-09T22:10:34.196612\",\"2023-03-09T22:10:34.198330\",\"2023-03-09T22:10:34.232545\",\"2023-03-09T22:10:34.233780\",\"2023-03-09T22:10:34.264660\",\"2023-03-09T22:10:34.265921\",\"2023-03-09T22:10:34.301657\",\"2023-03-09T22:10:34.302636\",\"2023-03-09T22:10:34.341526\",\"2023-03-09T22:10:34.342706\",\"2023-03-09T22:10:34.381105\",\"2023-03-09T22:10:34.382580\",\"2023-03-09T22:10:34.416657\",\"2023-03-09T22:10:34.417402\",\"2023-03-09T22:10:34.452799\",\"2023-03-09T22:10:34.453594\",\"2023-03-09T22:10:34.484200\",\"2023-03-09T22:10:34.485009\",\"2023-03-09T22:10:34.520740\",\"2023-03-09T22:10:34.522490\",\"2023-03-09T22:10:34.569011\",\"2023-03-09T22:10:34.570557\",\"2023-03-09T22:10:34.612917\",\"2023-03-09T22:10:34.615153\",\"2023-03-09T22:10:34.660821\",\"2023-03-09T22:10:34.664021\",\"2023-03-09T22:10:34.701555\",\"2023-03-09T22:10:35.736795\",\"2023-03-09T22:10:36.643659\",\"2023-03-09T22:10:36.643989\",\"2023-03-09T22:10:36.771338\",\"2023-03-09T22:10:37.812702\",\"2023-03-09T22:10:37.813974\",\"2023-03-09T22:10:37.848693\",\"2023-03-09T22:10:38.884244\",\"2023-03-09T22:10:38.885834\",\"2023-03-09T22:10:38.924260\",\"2023-03-09T22:10:38.925378\",\"2023-03-09T22:10:38.956561\",\"2023-03-09T22:10:38.958428\",\"2023-03-09T22:10:38.980398\",\"2023-03-09T22:10:38.981402\",\"2023-03-09T22:10:39.016669\",\"2023-03-09T22:10:39.017785\",\"2023-03-09T22:10:39.048557\",\"2023-03-09T22:10:39.049520\",\"2023-03-09T22:10:39.076337\",\"2023-03-09T22:10:39.077778\",\"2023-03-09T22:10:39.105944\",\"2023-03-09T22:10:39.107685\",\"2023-03-09T22:10:39.152426\",\"2023-03-09T22:10:39.153696\",\"2023-03-09T22:10:39.185100\",\"2023-03-09T22:10:39.186100\",\"2023-03-09T22:10:39.216284\",\"2023-03-09T22:10:39.217261\",\"2023-03-09T22:10:39.251186\",\"2023-03-09T22:10:39.252052\",\"2023-03-09T22:10:39.290062\",\"2023-03-09T22:10:39.291233\",\"2023-03-09T22:10:39.325424\",\"2023-03-09T22:10:39.327389\",\"2023-03-09T22:10:39.401156\",\"2023-03-09T22:10:39.402102\",\"2023-03-09T22:10:39.443895\",\"2023-03-09T22:10:39.445245\",\"2023-03-09T22:10:39.473067\",\"2023-03-09T22:10:39.474234\",\"2023-03-09T22:10:39.504958\",\"2023-03-09T22:10:39.505822\",\"2023-03-09T22:10:39.532543\",\"2023-03-09T22:10:39.533515\",\"2023-03-09T22:10:39.560804\",\"2023-03-09T22:10:39.561881\",\"2023-03-09T22:10:39.592903\",\"2023-03-09T22:10:39.594304\",\"2023-03-09T22:10:39.624938\",\"2023-03-09T22:10:39.625965\",\"2023-03-09T22:10:39.658749\",\"2023-03-09T22:10:39.660162\",\"2023-03-09T22:10:39.696911\",\"2023-03-09T22:10:39.698130\",\"2023-03-09T22:10:39.761034\",\"2023-03-09T22:10:39.761806\",\"2023-03-09T22:10:39.801510\",\"2023-03-09T22:10:39.802585\",\"2023-03-09T22:10:39.841735\",\"2023-03-09T22:10:39.842614\",\"2023-03-09T22:10:39.886661\",\"2023-03-09T22:10:40.209075\",\"2023-03-09T22:10:40.210341\",\"2023-03-09T22:10:40.240757\",\"2023-03-09T22:10:40.242151\",\"2023-03-09T22:10:40.289712\",\"2023-03-09T22:10:40.291059\",\"2023-03-09T22:10:40.329139\",\"2023-03-09T22:10:40.330168\",\"2023-03-09T22:10:40.384539\",\"2023-03-09T22:10:40.386076\",\"2023-03-09T22:10:40.428722\",\"2023-03-09T22:10:40.430592\",\"2023-03-09T22:10:40.468902\",\"2023-03-09T22:10:40.470171\",\"2023-03-09T22:10:40.513385\",\"2023-03-09T22:10:40.514509\",\"2023-03-09T22:10:40.553258\",\"2023-03-09T22:10:40.554368\",\"2023-03-09T22:10:40.593309\",\"2023-03-09T22:10:40.594868\",\"2023-03-09T22:10:40.633200\",\"2023-03-09T22:10:40.634263\",\"2023-03-09T22:10:40.665490\",\"2023-03-09T22:10:40.666660\",\"2023-03-09T22:10:40.701245\",\"2023-03-09T22:10:40.702133\",\"2023-03-09T22:10:40.740562\",\"2023-03-09T22:10:40.741891\",\"2023-03-09T22:10:40.785943\",\"2023-03-09T22:10:40.787858\",\"2023-03-09T22:10:40.821000\",\"2023-03-09T22:10:40.822117\",\"2023-03-09T22:10:40.869043\",\"2023-03-09T22:10:40.870371\",\"2023-03-09T22:10:40.907859\",\"2023-03-09T22:10:40.908827\",\"2023-03-09T22:10:40.921321\",\"2023-03-09T22:10:40.922616\",\"2023-03-09T22:10:40.948433\",\"2023-03-09T22:10:40.949674\",\"2023-03-09T22:10:40.964676\",\"2023-03-09T22:10:40.965644\",\"2023-03-09T22:10:40.985258\",\"2023-03-09T22:10:40.986396\",\"2023-03-09T22:10:40.993412\",\"2023-03-09T22:10:40.994361\",\"2023-03-09T22:10:41.025618\",\"2023-03-09T22:10:41.026760\",\"2023-03-09T22:10:41.041298\",\"2023-03-09T22:10:41.042208\",\"2023-03-09T22:10:41.073384\",\"2023-03-09T22:10:41.074676\",\"2023-03-09T22:10:41.089783\",\"2023-03-09T22:10:41.090794\",\"2023-03-09T22:10:41.121881\",\"2023-03-09T22:10:41.130678\",\"2023-03-09T22:10:41.131670\",\"2023-03-09T22:10:41.162879\",\"2023-03-09T22:10:41.163987\",\"2023-03-09T22:10:41.202136\",\"2023-03-09T22:10:41.203452\",\"2023-03-09T22:10:41.236957\",\"2023-03-09T22:10:41.238593\",\"2023-03-09T22:10:41.276669\",\"2023-03-09T22:10:41.277573\",\"2023-03-09T22:10:41.313272\",\"2023-03-09T22:10:41.314291\",\"2023-03-09T22:10:41.353523\",\"2023-03-09T22:10:41.354734\",\"2023-03-09T22:10:41.393426\",\"2023-03-09T22:10:41.395644\",\"2023-03-09T22:10:41.428608\",\"2023-03-09T22:10:41.429676\",\"2023-03-09T22:10:41.465334\",\"2023-03-09T22:10:41.466324\",\"2023-03-09T22:10:41.505908\",\"2023-03-09T22:10:41.507634\",\"2023-03-09T22:10:41.557187\",\"2023-03-09T22:10:41.559680\",\"2023-03-09T22:10:41.612646\",\"2023-03-09T22:10:41.613848\",\"2023-03-09T22:10:41.647436\",\"2023-03-09T22:10:41.647833\",\"2023-03-09T22:10:41.658701\",\"2023-03-09T22:10:41.661243\",\"2023-03-09T22:10:41.692759\",\"2023-03-09T22:10:41.694275\",\"2023-03-09T22:10:41.733318\",\"2023-03-09T22:10:41.735623\",\"2023-03-09T22:10:41.776986\",\"2023-03-09T22:10:41.778696\",\"2023-03-09T22:10:41.812550\",\"2023-03-09T22:10:41.813711\",\"2023-03-09T22:10:41.852493\",\"2023-03-09T22:10:41.853604\",\"2023-03-09T22:10:41.894682\",\"2023-03-09T22:10:41.895955\",\"2023-03-09T22:10:41.931043\",\"2023-03-09T22:10:41.932269\",\"2023-03-09T22:10:41.965237\",\"2023-03-09T22:10:43.002324\",\"2023-03-09T22:10:43.003676\",\"2023-03-09T22:10:43.052978\",\"2023-03-09T22:10:43.054057\",\"2023-03-09T22:10:43.101352\",\"2023-03-09T22:10:43.102556\",\"2023-03-09T22:10:43.153364\",\"2023-03-09T22:10:43.154908\",\"2023-03-09T22:10:43.168813\",\"2023-03-09T22:10:43.200700\",\"2023-03-09T22:10:43.201959\",\"2023-03-09T22:10:43.240982\",\"2023-03-09T22:10:43.242225\",\"2023-03-09T22:10:43.280605\",\"2023-03-09T22:10:43.281560\",\"2023-03-09T22:10:43.312685\",\"2023-03-09T22:10:43.313733\",\"2023-03-09T22:10:43.344245\",\"2023-03-09T22:10:43.345749\",\"2023-03-09T22:10:43.385584\",\"2023-03-09T22:10:43.387725\",\"2023-03-09T22:10:43.436707\",\"2023-03-09T22:10:43.438753\",\"2023-03-09T22:10:43.480580\",\"2023-03-09T22:10:43.481560\",\"2023-03-09T22:10:43.516582\",\"2023-03-09T22:10:43.518465\",\"2023-03-09T22:10:43.556319\",\"2023-03-09T22:10:43.557782\",\"2023-03-09T22:10:43.589193\",\"2023-03-09T22:10:43.590791\",\"2023-03-09T22:10:43.628355\",\"2023-03-09T22:10:43.630545\",\"2023-03-09T22:10:43.673078\",\"2023-03-09T22:10:43.675343\",\"2023-03-09T22:10:43.708511\",\"2023-03-09T22:10:43.710174\",\"2023-03-09T22:10:43.756688\",\"2023-03-09T22:10:43.757691\",\"2023-03-09T22:10:43.797667\",\"2023-03-09T22:10:43.798606\",\"2023-03-09T22:10:43.836797\",\"2023-03-09T22:10:43.837942\",\"2023-03-09T22:10:45.206428\",\"2023-03-09T22:10:46.651567\",\"2023-03-09T22:10:46.651994\",\"2023-03-09T22:10:47.175370\",\"2023-03-09T22:10:47.175596\",\"2023-03-09T22:10:47.237852\",\"2023-03-09T22:10:47.239847\",\"2023-03-09T22:10:47.276625\",\"2023-03-09T22:10:48.000218\",\"2023-03-09T22:10:48.000356\",\"2023-03-09T22:10:49.309678\",\"2023-03-09T22:10:49.310607\",\"2023-03-09T22:10:49.349659\",\"2023-03-09T22:10:49.350709\",\"2023-03-09T22:10:49.389442\",\"2023-03-09T22:10:49.390595\",\"2023-03-09T22:10:49.429203\",\"2023-03-09T22:10:49.430298\",\"2023-03-09T22:10:49.471139\",\"2023-03-09T22:10:49.472365\",\"2023-03-09T22:10:49.517741\",\"2023-03-09T22:10:49.518627\",\"2023-03-09T22:10:49.558581\",\"2023-03-09T22:10:49.559578\",\"2023-03-09T22:10:49.592619\",\"2023-03-09T22:10:49.593952\",\"2023-03-09T22:10:49.628792\",\"2023-03-09T22:10:49.630496\",\"2023-03-09T22:10:49.669728\",\"2023-03-09T22:10:49.671217\",\"2023-03-09T22:10:49.704431\",\"2023-03-09T22:10:49.705848\",\"2023-03-09T22:10:49.737409\",\"2023-03-09T22:10:49.738497\",\"2023-03-09T22:10:49.772872\",\"2023-03-09T22:10:49.774127\",\"2023-03-09T22:10:49.813454\",\"2023-03-09T22:10:49.815227\",\"2023-03-09T22:10:49.848469\",\"2023-03-09T22:10:49.850550\",\"2023-03-09T22:10:49.896673\",\"2023-03-09T22:10:49.897709\",\"2023-03-09T22:10:49.941926\",\"2023-03-09T22:10:49.943163\",\"2023-03-09T22:10:49.981451\",\"2023-03-09T22:10:49.982340\",\"2023-03-09T22:10:50.016075\",\"2023-03-09T22:10:50.017318\",\"2023-03-09T22:10:50.048977\",\"2023-03-09T22:10:50.050322\",\"2023-03-09T22:10:50.090337\",\"2023-03-09T22:10:50.091941\",\"2023-03-09T22:10:50.128610\",\"2023-03-09T22:10:50.130762\",\"2023-03-09T22:10:50.165861\",\"2023-03-09T22:10:50.167418\",\"2023-03-09T22:10:50.204596\",\"2023-03-09T22:10:50.205622\",\"2023-03-09T22:10:50.241487\",\"2023-03-09T22:10:50.242207\",\"2023-03-09T22:10:50.276795\",\"2023-03-09T22:10:50.277762\",\"2023-03-09T22:10:50.316521\",\"2023-03-09T22:10:50.318589\",\"2023-03-09T22:10:50.364755\",\"2023-03-09T22:10:51.655477\",\"2023-03-09T22:10:51.655966\",\"2023-03-09T22:10:52.181388\",\"2023-03-09T22:10:52.181524\",\"2023-03-09T22:10:52.399751\",\"2023-03-09T22:10:52.401079\",\"2023-03-09T22:10:52.440587\",\"2023-03-09T22:10:52.441663\",\"2023-03-09T22:10:52.484782\",\"2023-03-09T22:10:52.486667\",\"2023-03-09T22:10:52.524822\",\"2023-03-09T22:10:52.526387\",\"2023-03-09T22:10:52.570973\",\"2023-03-09T22:10:52.572171\",\"2023-03-09T22:10:52.609383\",\"2023-03-09T22:10:52.610445\",\"2023-03-09T22:10:52.648533\",\"2023-03-09T22:10:52.650215\",\"2023-03-09T22:10:52.688818\",\"2023-03-09T22:10:52.689892\",\"2023-03-09T22:10:52.728436\",\"2023-03-09T22:10:52.729460\",\"2023-03-09T22:10:52.772404\",\"2023-03-09T22:10:52.773628\",\"2023-03-09T22:10:52.809715\",\"2023-03-09T22:10:52.811464\",\"2023-03-09T22:10:52.848924\",\"2023-03-09T22:10:52.850170\",\"2023-03-09T22:10:52.892361\",\"2023-03-09T22:10:52.893724\",\"2023-03-09T22:10:52.924824\",\"2023-03-09T22:10:52.926516\",\"2023-03-09T22:10:52.969112\",\"2023-03-09T22:10:52.971355\",\"2023-03-09T22:10:53.016962\",\"2023-03-09T22:10:53.017959\",\"2023-03-09T22:10:53.073469\",\"2023-03-09T22:10:53.074686\",\"2023-03-09T22:10:53.112598\",\"2023-03-09T22:10:53.114036\",\"2023-03-09T22:10:53.145387\",\"2023-03-09T22:10:53.147263\",\"2023-03-09T22:10:53.189430\",\"2023-03-09T22:10:53.191661\",\"2023-03-09T22:10:53.228894\",\"2023-03-09T22:10:53.230519\",\"2023-03-09T22:10:53.269040\",\"2023-03-09T22:10:53.271217\",\"2023-03-09T22:10:53.308386\",\"2023-03-09T22:10:53.309342\",\"2023-03-09T22:10:53.349435\",\"2023-03-09T22:10:53.351673\",\"2023-03-09T22:10:53.388806\",\"2023-03-09T22:10:53.390363\",\"2023-03-09T22:10:53.412842\",\"2023-03-09T22:10:53.414915\",\"2023-03-09T22:10:53.460709\",\"2023-03-09T22:10:55.516593\",\"2023-03-09T22:10:55.517704\",\"2023-03-09T22:10:55.573416\",\"2023-03-09T22:10:55.575424\",\"2023-03-09T22:10:55.616751\",\"2023-03-09T22:10:55.618258\",\"2023-03-09T22:10:55.657172\",\"2023-03-09T22:10:55.658890\",\"2023-03-09T22:10:55.692750\",\"2023-03-09T22:10:55.694356\",\"2023-03-09T22:10:55.742981\",\"2023-03-09T22:10:55.743935\",\"2023-03-09T22:10:55.776861\",\"2023-03-09T22:10:55.777947\",\"2023-03-09T22:10:55.817576\",\"2023-03-09T22:10:55.819518\",\"2023-03-09T22:10:55.858231\",\"2023-03-09T22:10:55.860144\",\"2023-03-09T22:10:55.900982\",\"2023-03-09T22:10:55.901989\",\"2023-03-09T22:10:55.933607\",\"2023-03-09T22:10:55.934743\",\"2023-03-09T22:10:55.972293\",\"2023-03-09T22:10:55.973759\",\"2023-03-09T22:10:56.004992\",\"2023-03-09T22:10:56.007018\",\"2023-03-09T22:10:56.045027\",\"2023-03-09T22:10:56.046200\",\"2023-03-09T22:10:56.085526\",\"2023-03-09T22:10:56.087976\",\"2023-03-09T22:10:56.124450\",\"2023-03-09T22:10:56.126082\",\"2023-03-09T22:10:56.170078\",\"2023-03-09T22:10:56.172539\",\"2023-03-09T22:10:56.204263\",\"2023-03-09T22:10:56.205696\",\"2023-03-09T22:10:56.244594\",\"2023-03-09T22:10:56.245948\",\"2023-03-09T22:10:56.292410\",\"2023-03-09T22:10:56.294471\",\"2023-03-09T22:10:56.332298\",\"2023-03-09T22:10:56.333846\",\"2023-03-09T22:10:56.376586\",\"2023-03-09T22:10:56.377751\",\"2023-03-09T22:10:56.412392\",\"2023-03-09T22:10:56.414271\",\"2023-03-09T22:10:56.452654\",\"2023-03-09T22:10:56.454191\",\"2023-03-09T22:10:56.492369\",\"2023-03-09T22:10:56.494293\",\"2023-03-09T22:10:56.537735\",\"2023-03-09T22:10:56.539289\",\"2023-03-09T22:10:56.577123\",\"2023-03-09T22:10:56.661479\",\"2023-03-09T22:10:56.661965\",\"2023-03-09T22:10:56.795506\",\"2023-03-09T22:10:56.797532\",\"2023-03-09T22:10:57.187847\",\"2023-03-09T22:10:57.187995\",\"2023-03-09T22:10:58.613021\",\"2023-03-09T22:10:58.614016\",\"2023-03-09T22:10:58.661657\",\"2023-03-09T22:10:58.663637\",\"2023-03-09T22:10:58.713108\",\"2023-03-09T22:10:58.714733\",\"2023-03-09T22:10:58.753005\",\"2023-03-09T22:10:58.754500\",\"2023-03-09T22:10:58.796961\",\"2023-03-09T22:10:58.798354\",\"2023-03-09T22:10:58.833385\",\"2023-03-09T22:10:58.835556\",\"2023-03-09T22:10:58.886866\",\"2023-03-09T22:11:00.932740\",\"2023-03-09T22:11:00.933891\",\"2023-03-09T22:11:00.965464\",\"2023-03-09T22:11:00.966725\",\"2023-03-09T22:11:01.009023\",\"2023-03-09T22:11:01.010113\",\"2023-03-09T22:11:01.049329\",\"2023-03-09T22:11:01.050371\",\"2023-03-09T22:11:01.081498\",\"2023-03-09T22:11:01.083693\",\"2023-03-09T22:11:01.133958\",\"2023-03-09T22:11:01.135431\",\"2023-03-09T22:11:01.193937\",\"2023-03-09T22:11:01.195724\",\"2023-03-09T22:11:01.238106\",\"2023-03-09T22:11:01.239599\",\"2023-03-09T22:11:01.269660\",\"2023-03-09T22:11:01.271253\",\"2023-03-09T22:11:01.308737\",\"2023-03-09T22:11:01.667304\",\"2023-03-09T22:11:01.667915\",\"2023-03-09T22:11:02.194582\",\"2023-03-09T22:11:02.194715\",\"2023-03-09T22:11:03.344883\",\"2023-03-09T22:11:03.345761\",\"2023-03-09T22:11:03.380984\",\"2023-03-09T22:11:03.381922\",\"2023-03-09T22:11:03.420472\",\"2023-03-09T22:11:03.421947\",\"2023-03-09T22:11:06.672221\",\"2023-03-09T22:11:06.672601\",\"2023-03-09T22:11:07.199617\",\"2023-03-09T22:11:07.199801\",\"2023-03-09T22:11:11.676687\",\"2023-03-09T22:11:11.677249\",\"2023-03-09T22:11:12.204244\",\"2023-03-09T22:11:12.204392\",\"2023-03-09T22:11:16.679858\",\"2023-03-09T22:11:16.680226\",\"2023-03-09T22:11:17.208526\",\"2023-03-09T22:11:17.208654\",\"2023-03-09T22:11:21.687116\",\"2023-03-09T22:11:21.687300\",\"2023-03-09T22:11:22.212991\",\"2023-03-09T22:11:22.213103\",\"2023-03-09T22:11:25.364111\"],\"xaxis\":\"x\",\"y\":[\"DNS\",\"DNS\",\"BROWSER\",\"BROWSER\",\"DNS\",\"DNS\",\"ARP\",\"ARP\",\"DNS\",\"DNS\",\"DNS\",\"DNS\",\"DNS\",\"DNS\",\"DNS\",\"DNS\",\"DNS\",\"DNS\",\"DHCPv6\",\"DNS\",\"DNS\",\"DNS\",\"DNS\",\"ARP\",\"ARP\",\"DNS\",\"DNS\",\"DNS\",\"DNS\",\"ARP\",\"ARP\",\"ARP\",\"ARP\",\"ARP\",\"ARP\",\"ARP\",\"ARP\",\"ARP\",\"ARP\",\"ARP\",\"ARP\",\"ARP\",\"ARP\",\"ARP\",\"ARP\",\"ARP\",\"ARP\",\"ARP\",\"ARP\",\"ARP\",\"ARP\",\"ARP\",\"ARP\",\"ARP\",\"ARP\",\"ARP\",\"ARP\",\"ARP\",\"ARP\",\"ARP\",\"ARP\",\"ARP\",\"ARP\",\"ARP\",\"ARP\",\"ARP\",\"ARP\",\"ARP\",\"ARP\",\"ARP\",\"ARP\",\"ARP\",\"ARP\",\"ARP\",\"ARP\",\"ARP\",\"ARP\",\"ARP\",\"ARP\",\"ARP\",\"ARP\",\"ARP\",\"ARP\",\"ARP\",\"ARP\",\"ARP\",\"DNS\",\"DNS\",\"ARP\",\"ARP\",\"ARP\",\"ARP\",\"ARP\",\"ARP\",\"ARP\",\"ARP\",\"ARP\",\"ARP\",\"ARP\",\"ARP\",\"ARP\",\"ARP\",\"ARP\",\"ARP\",\"ARP\",\"ARP\",\"ARP\",\"ARP\",\"ARP\",\"ARP\",\"ARP\",\"ARP\",\"ARP\",\"ARP\",\"ARP\",\"ARP\",\"ARP\",\"ARP\",\"ARP\",\"ARP\",\"ARP\",\"ARP\",\"ARP\",\"ARP\",\"ARP\",\"ARP\",\"ARP\",\"ARP\",\"ARP\",\"ARP\",\"ARP\",\"ARP\",\"ARP\",\"ARP\",\"ARP\",\"ARP\",\"ARP\",\"ARP\",\"ARP\",\"ARP\",\"ARP\",\"ARP\",\"ARP\",\"ARP\",\"ARP\",\"ARP\",\"ARP\",\"ARP\",\"ARP\",\"ARP\",\"ARP\",\"ARP\",\"ARP\",\"ARP\",\"ARP\",\"ARP\",\"ARP\",\"ARP\",\"ARP\",\"ARP\",\"ARP\",\"ARP\",\"ARP\",\"ARP\",\"ARP\",\"ARP\",\"ARP\",\"ARP\",\"ARP\",\"ARP\",\"ARP\",\"ARP\",\"ARP\",\"ARP\",\"ARP\",\"ARP\",\"ARP\",\"ARP\",\"ARP\",\"ARP\",\"ARP\",\"ARP\",\"ARP\",\"ARP\",\"ARP\",\"ARP\",\"ARP\",\"ARP\",\"ARP\",\"ARP\",\"ARP\",\"ARP\",\"ARP\",\"ARP\",\"ARP\",\"ARP\",\"ARP\",\"ARP\",\"ARP\",\"ARP\",\"ARP\",\"ARP\",\"ARP\",\"ARP\",\"ARP\",\"ARP\",\"ARP\",\"ARP\",\"ARP\",\"ARP\",\"ARP\",\"ARP\",\"ARP\",\"ARP\",\"ARP\",\"ARP\",\"ARP\",\"ARP\",\"ARP\",\"ARP\",\"ARP\",\"ARP\",\"ARP\",\"ARP\",\"ARP\",\"ARP\",\"ARP\",\"ARP\",\"ARP\",\"ARP\",\"ARP\",\"DNS\",\"DNS\",\"ARP\",\"ARP\",\"ARP\",\"ARP\",\"ARP\",\"ARP\",\"ARP\",\"ARP\",\"ARP\",\"ARP\",\"ARP\",\"ARP\",\"ARP\",\"ARP\",\"ARP\",\"ARP\",\"ARP\",\"ARP\",\"ARP\",\"ARP\",\"ARP\",\"ARP\",\"ARP\",\"ARP\",\"ARP\",\"ARP\",\"ARP\",\"ARP\",\"ARP\",\"ARP\",\"ARP\",\"ARP\",\"ARP\",\"ARP\",\"ARP\",\"ARP\",\"ARP\",\"ARP\",\"ARP\",\"ARP\",\"ARP\",\"ARP\",\"ARP\",\"ARP\",\"ARP\",\"ARP\",\"ARP\",\"ARP\",\"ARP\",\"ARP\",\"ARP\",\"ARP\",\"ARP\",\"ARP\",\"ARP\",\"ARP\",\"ARP\",\"ARP\",\"ARP\",\"ARP\",\"ARP\",\"ARP\",\"ARP\",\"ARP\",\"ARP\",\"ARP\",\"ARP\",\"ARP\",\"ARP\",\"ARP\",\"ARP\",\"ARP\",\"ARP\",\"ARP\",\"ARP\",\"ARP\",\"ARP\",\"ARP\",\"ARP\",\"ARP\",\"ARP\",\"ARP\",\"ARP\",\"ARP\",\"ARP\",\"ARP\",\"ARP\",\"ARP\",\"ARP\",\"ARP\",\"ARP\",\"ARP\",\"ARP\",\"ARP\",\"ARP\",\"ARP\",\"ARP\",\"ARP\",\"ARP\",\"ARP\",\"ARP\",\"ARP\",\"ARP\",\"ARP\",\"ARP\",\"ARP\",\"ARP\",\"ARP\",\"ARP\",\"ARP\",\"ARP\",\"ARP\",\"ARP\",\"ARP\",\"ARP\",\"ARP\",\"ARP\",\"ARP\",\"ARP\",\"ARP\",\"ARP\",\"ARP\",\"ARP\",\"ARP\",\"ARP\",\"ARP\",\"ARP\",\"ARP\",\"ARP\",\"ARP\",\"ARP\",\"ARP\",\"ARP\",\"ARP\",\"ARP\",\"ARP\",\"ARP\",\"ARP\",\"ARP\",\"ARP\",\"ARP\",\"ARP\",\"DNS\",\"DNS\",\"ARP\",\"ARP\",\"ARP\",\"ARP\",\"ARP\",\"ARP\",\"ARP\",\"ARP\",\"ARP\",\"ARP\",\"ARP\",\"ARP\",\"ARP\",\"ARP\",\"ARP\",\"ARP\",\"ARP\",\"ARP\",\"ARP\",\"ARP\",\"ARP\",\"ARP\",\"ARP\",\"ARP\",\"ARP\",\"ARP\",\"ARP\",\"ARP\",\"ARP\",\"ARP\",\"ARP\",\"ARP\",\"ARP\",\"ARP\",\"ARP\",\"ARP\",\"ARP\",\"ARP\",\"ARP\",\"ARP\",\"ARP\",\"ARP\",\"ARP\",\"ARP\",\"ARP\",\"ARP\",\"ARP\",\"ARP\",\"ARP\",\"ARP\",\"ARP\",\"ARP\",\"ARP\",\"ARP\",\"ARP\",\"ARP\",\"ARP\",\"ARP\",\"ARP\",\"ARP\",\"ARP\",\"ARP\",\"ARP\",\"ARP\",\"ARP\",\"ARP\",\"ARP\",\"ARP\",\"ARP\",\"ARP\",\"ARP\",\"ARP\",\"ARP\",\"ARP\",\"ARP\",\"ARP\",\"ARP\",\"ARP\",\"ARP\",\"ARP\",\"ARP\",\"ARP\",\"ARP\",\"ARP\",\"ARP\",\"ARP\",\"ARP\",\"ARP\",\"ARP\",\"ARP\",\"ARP\",\"ARP\",\"ARP\",\"ARP\",\"ARP\",\"ARP\",\"ARP\",\"ARP\",\"ARP\",\"ARP\",\"ARP\",\"ARP\",\"ARP\",\"ARP\",\"ARP\",\"ARP\",\"ARP\",\"ARP\",\"ARP\",\"ARP\",\"ARP\",\"ARP\",\"ARP\",\"ARP\",\"ARP\",\"ARP\",\"ARP\",\"ARP\",\"ARP\",\"ARP\",\"ARP\",\"ARP\",\"ARP\",\"ARP\",\"ARP\",\"ARP\",\"ARP\",\"ARP\",\"ARP\",\"ARP\",\"ARP\",\"ARP\",\"ARP\",\"ARP\",\"ARP\",\"ARP\",\"ARP\",\"ARP\",\"ARP\",\"ARP\",\"DNS\",\"DNS\",\"ARP\",\"ARP\",\"ARP\",\"ARP\",\"ARP\",\"ARP\",\"ARP\",\"ARP\",\"ARP\",\"ARP\",\"ARP\",\"ARP\",\"ARP\",\"ARP\",\"ARP\",\"ARP\",\"ARP\",\"ARP\",\"ARP\",\"ARP\",\"ARP\",\"ARP\",\"ARP\",\"ARP\",\"ARP\",\"ARP\",\"ARP\",\"ARP\",\"ARP\",\"ARP\",\"ARP\",\"ARP\",\"ARP\",\"ARP\",\"ARP\",\"ARP\",\"ARP\",\"ARP\",\"ARP\",\"ARP\",\"ARP\",\"ARP\",\"ARP\",\"ARP\",\"ARP\",\"ARP\",\"ARP\",\"ARP\",\"ARP\",\"ARP\",\"ARP\",\"ARP\",\"ARP\",\"ARP\",\"ARP\",\"ARP\",\"ARP\",\"ARP\",\"ARP\",\"ARP\",\"ARP\",\"ARP\",\"ARP\",\"ARP\",\"ARP\",\"ARP\",\"ARP\",\"ARP\",\"ARP\",\"ARP\",\"ARP\",\"ARP\",\"ARP\",\"ARP\",\"ARP\",\"ARP\",\"ARP\",\"ARP\",\"ARP\",\"ARP\",\"ARP\",\"ARP\",\"ARP\",\"ARP\",\"ARP\",\"ARP\",\"ARP\",\"ARP\",\"ARP\",\"ARP\",\"ARP\",\"ARP\",\"ARP\",\"ARP\",\"ARP\",\"ARP\",\"ARP\",\"ARP\",\"ARP\",\"ARP\",\"ARP\",\"ARP\",\"ARP\",\"ARP\",\"ARP\",\"ARP\",\"ARP\",\"ARP\",\"ARP\",\"ARP\",\"ARP\",\"ARP\",\"ARP\",\"ARP\",\"ARP\",\"ARP\",\"ARP\",\"ARP\",\"ARP\",\"ARP\",\"ARP\",\"ARP\",\"ARP\",\"ARP\",\"ARP\",\"ARP\",\"ARP\",\"ARP\",\"ARP\",\"ARP\",\"ARP\",\"ARP\",\"ARP\",\"ARP\",\"ARP\",\"ARP\",\"ARP\",\"ARP\",\"ARP\",\"ARP\",\"ARP\",\"ARP\",\"ARP\",\"ARP\",\"ARP\",\"ARP\",\"DNS\",\"DNS\",\"ARP\",\"ARP\",\"ARP\",\"ARP\",\"ARP\",\"ARP\",\"ARP\",\"ARP\",\"ARP\",\"ARP\",\"ARP\",\"ARP\",\"ARP\",\"ARP\",\"ARP\",\"ARP\",\"ARP\",\"ARP\",\"ARP\",\"ARP\",\"ARP\",\"ARP\",\"ARP\",\"ARP\",\"ARP\",\"ARP\",\"ARP\",\"ARP\",\"ARP\",\"ARP\",\"ARP\",\"ARP\",\"ARP\",\"ARP\",\"ARP\",\"ARP\",\"ARP\",\"ARP\",\"ARP\",\"ARP\",\"ARP\",\"ARP\",\"ARP\",\"ARP\",\"ARP\",\"ARP\",\"ARP\",\"ARP\",\"ARP\",\"ARP\",\"ARP\",\"ARP\",\"ARP\",\"ARP\",\"ARP\",\"ARP\",\"ARP\",\"ARP\",\"ARP\",\"ARP\",\"ARP\",\"ARP\",\"ARP\",\"ARP\",\"ARP\",\"ARP\",\"ARP\",\"ARP\",\"ARP\",\"ARP\",\"ARP\",\"ARP\",\"ARP\",\"ARP\",\"ARP\",\"ARP\",\"ARP\",\"ARP\",\"ARP\",\"ARP\",\"ARP\",\"ARP\",\"ARP\",\"ARP\",\"ARP\",\"ARP\",\"ARP\",\"ARP\",\"ARP\",\"ARP\",\"ARP\",\"ARP\",\"ARP\",\"ARP\",\"ARP\",\"ARP\",\"ARP\",\"ARP\",\"ARP\",\"ARP\",\"DNS\",\"DNS\",\"ARP\",\"ARP\",\"ICMP\",\"ICMP\",\"TCP\",\"TCP\",\"TCP\",\"TCP\",\"TCP\",\"TCP\",\"TCP\",\"TCP\",\"TCP\",\"TCP\",\"TCP\",\"TCP\",\"TCP\",\"TCP\",\"TCP\",\"TCP\",\"TCP\",\"TCP\",\"TCP\",\"TCP\",\"TCP\",\"TCP\",\"TCP\",\"TCP\",\"TCP\",\"TCP\",\"TCP\",\"TCP\",\"TCP\",\"TCP\",\"TCP\",\"TCP\",\"TCP\",\"TCP\",\"TCP\",\"TCP\",\"DNS\",\"DNS\",\"TCP\",\"TCP\",\"TCP\",\"TCP\",\"TCP\",\"TCP\",\"TCP\",\"TCP\",\"TCP\",\"TCP\",\"TCP\",\"TCP\",\"TCP\",\"TCP\",\"TCP\",\"TCP\",\"TCP\",\"TCP\",\"TCP\",\"TCP\",\"TCP\",\"TCP\",\"TCP\",\"TCP\",\"TCP\",\"TCP\",\"TCP\",\"TCP\",\"TCP\",\"TCP\",\"TCP\",\"TCP\",\"TCP\",\"TCP\",\"TCP\",\"TCP\",\"TCP\",\"TCP\",\"TCP\",\"TCP\",\"TCP\",\"TCP\",\"TCP\",\"TCP\",\"TCP\",\"TCP\",\"TCP\",\"TCP\",\"TCP\",\"TCP\",\"TCP\",\"TCP\",\"TCP\",\"TCP\",\"TCP\",\"TCP\",\"TCP\",\"TCP\",\"TCP\",\"TCP\",\"TCP\",\"TCP\",\"TCP\",\"TCP\",\"TCP\",\"TCP\",\"TCP\",\"TCP\",\"TCP\",\"TCP\",\"TCP\",\"TCP\",\"TCP\",\"TCP\",\"TCP\",\"TCP\",\"TCP\",\"TCP\",\"TCP\",\"TCP\",\"TCP\",\"TCP\",\"TCP\",\"TCP\",\"TCP\",\"TCP\",\"TCP\",\"TCP\",\"TCP\",\"TCP\",\"TCP\",\"TCP\",\"TCP\",\"TCP\",\"TCP\",\"TCP\",\"TCP\",\"TCP\",\"TCP\",\"TCP\",\"TCP\",\"TCP\",\"TCP\",\"TCP\",\"TCP\",\"TCP\",\"TCP\",\"TCP\",\"TCP\",\"TCP\",\"TCP\",\"TCP\",\"TCP\",\"TCP\",\"TCP\",\"TCP\",\"TCP\",\"TCP\",\"TCP\",\"TCP\",\"TCP\",\"TCP\",\"TCP\",\"TCP\",\"TCP\",\"TCP\",\"TCP\",\"TCP\",\"TCP\",\"TCP\",\"TCP\",\"TCP\",\"TCP\",\"TCP\",\"TCP\",\"TCP\",\"TCP\",\"TCP\",\"TCP\",\"TCP\",\"TCP\",\"TCP\",\"TCP\",\"TCP\",\"TCP\",\"TCP\",\"TCP\",\"TCP\",\"TCP\",\"TCP\",\"TCP\",\"TCP\",\"TCP\",\"TCP\",\"TCP\",\"TCP\",\"TCP\",\"TCP\",\"TCP\",\"TCP\",\"TCP\",\"TCP\",\"TCP\",\"TCP\",\"TCP\",\"TCP\",\"TCP\",\"TCP\",\"TCP\",\"TCP\",\"TCP\",\"TCP\",\"ARP\",\"ARP\",\"DNS\",\"DNS\",\"ARP\",\"ARP\",\"DNS\",\"DNS\",\"ARP\",\"ARP\",\"ICMP\",\"ICMP\",\"TCP\",\"TCP\",\"TCP\",\"TCP\",\"TCP\",\"TCP\",\"TCP\",\"TCP\",\"TCP\",\"TCP\",\"TCP\",\"TCP\",\"TCP\",\"TCP\",\"TCP\",\"TCP\",\"TCP\",\"TCP\",\"TCP\",\"TCP\",\"TCP\",\"TCP\",\"TCP\",\"TCP\",\"TCP\",\"TCP\",\"TCP\",\"TCP\",\"TCP\",\"TCP\",\"TCP\",\"TCP\",\"TCP\",\"TCP\",\"TCP\",\"TCP\",\"TCP\",\"TCP\",\"TCP\",\"TCP\",\"TCP\",\"TCP\",\"DNS\",\"DNS\",\"TCP\",\"TCP\",\"TCP\",\"TCP\",\"TCP\",\"TCP\",\"TCP\",\"TCP\",\"TCP\",\"TCP\",\"TCP\",\"TCP\",\"TCP\",\"TCP\",\"TCP\",\"TCP\",\"TCP\",\"TCP\",\"TCP\",\"TCP\",\"TCP\",\"TCP\",\"TCP\",\"TCP\",\"TCP\",\"TCP\",\"TCP\",\"TCP\",\"TCP\",\"TCP\",\"TCP\",\"TCP\",\"TCP\",\"TCP\",\"TCP\",\"TCP\",\"TCP\",\"TCP\",\"TCP\",\"TCP\",\"TCP\",\"TCP\",\"TCP\",\"TCP\",\"TCP\",\"TCP\",\"TCP\",\"TCP\",\"TCP\",\"TCP\",\"TCP\",\"TCP\",\"TCP\",\"TCP\",\"TCP\",\"TCP\",\"TCP\",\"TCP\",\"TCP\",\"ARP\",\"ARP\",\"ICMP\",\"ICMP\",\"TCP\",\"TCP\",\"TCP\",\"TCP\",\"TCP\",\"TCP\",\"TCP\",\"TCP\",\"TCP\",\"TCP\",\"TCP\",\"TCP\",\"TCP\",\"TCP\",\"TCP\",\"TCP\",\"TCP\",\"TCP\",\"TCP\",\"TCP\",\"TCP\",\"TCP\",\"TCP\",\"TCP\",\"TCP\",\"TCP\",\"TCP\",\"TCP\",\"TCP\",\"TCP\",\"TCP\",\"TCP\",\"TCP\",\"TCP\",\"TCP\",\"TCP\",\"TCP\",\"TCP\",\"TCP\",\"TCP\",\"TCP\",\"TCP\",\"TCP\",\"TCP\",\"TCP\",\"TCP\",\"TCP\",\"TCP\",\"TCP\",\"TCP\",\"TCP\",\"TCP\",\"TCP\",\"TCP\",\"TCP\",\"TCP\",\"TCP\",\"TCP\",\"TCP\",\"TCP\",\"TCP\",\"TCP\",\"TCP\",\"TCP\",\"TCP\",\"TCP\",\"TCP\",\"TCP\",\"TCP\",\"TCP\",\"TCP\",\"TCP\",\"TCP\",\"TCP\",\"TCP\",\"TCP\",\"TCP\",\"DNS\",\"DNS\",\"TCP\",\"TCP\",\"TCP\",\"TCP\",\"TCP\",\"TCP\",\"TCP\",\"TCP\",\"TCP\",\"TCP\",\"TCP\",\"TCP\",\"TCP\",\"TCP\",\"TCP\",\"TCP\",\"TCP\",\"TCP\",\"TCP\",\"TCP\",\"TCP\",\"TCP\",\"TCP\",\"TCP\",\"TCP\",\"TCP\",\"TCP\",\"TCP\",\"TCP\",\"TCP\",\"TCP\",\"TCP\",\"TCP\",\"TCP\",\"TCP\",\"TCP\",\"TCP\",\"TCP\",\"TCP\",\"TCP\",\"TCP\",\"TCP\",\"TCP\",\"TCP\",\"TCP\",\"TCP\",\"TCP\",\"TCP\",\"TCP\",\"TCP\",\"TCP\",\"TCP\",\"TCP\",\"TCP\",\"TCP\",\"TCP\",\"TCP\",\"TCP\",\"TCP\",\"TCP\",\"TCP\",\"DNS\",\"DNS\",\"DNS\",\"DNS\",\"TCP\",\"TCP\",\"TCP\",\"ARP\",\"ARP\",\"TCP\",\"TCP\",\"TCP\",\"TCP\",\"TCP\",\"TCP\",\"TCP\",\"TCP\",\"TCP\",\"TCP\",\"TCP\",\"TCP\",\"TCP\",\"TCP\",\"TCP\",\"TCP\",\"TCP\",\"TCP\",\"TCP\",\"TCP\",\"TCP\",\"TCP\",\"TCP\",\"TCP\",\"TCP\",\"TCP\",\"TCP\",\"TCP\",\"TCP\",\"TCP\",\"TCP\",\"TCP\",\"TCP\",\"TCP\",\"TCP\",\"TCP\",\"TCP\",\"TCP\",\"TCP\",\"TCP\",\"TCP\",\"TCP\",\"TCP\",\"TCP\",\"TCP\",\"TCP\",\"TCP\",\"TCP\",\"TCP\",\"TCP\",\"TCP\",\"TCP\",\"TCP\",\"TCP\",\"TCP\",\"DNS\",\"DNS\",\"DNS\",\"DNS\",\"TCP\",\"TCP\",\"TCP\",\"TCP\",\"TCP\",\"TCP\",\"TCP\",\"TCP\",\"TCP\",\"TCP\",\"TCP\",\"TCP\",\"TCP\",\"TCP\",\"TCP\",\"TCP\",\"TCP\",\"TCP\",\"TCP\",\"TCP\",\"TCP\",\"TCP\",\"TCP\",\"TCP\",\"TCP\",\"TCP\",\"TCP\",\"TCP\",\"TCP\",\"TCP\",\"TCP\",\"TCP\",\"TCP\",\"TCP\",\"TCP\",\"TCP\",\"TCP\",\"TCP\",\"TCP\",\"TCP\",\"TCP\",\"TCP\",\"TCP\",\"TCP\",\"TCP\",\"TCP\",\"TCP\",\"TCP\",\"TCP\",\"TCP\",\"TCP\",\"TCP\",\"TCP\",\"TCP\",\"TCP\",\"TCP\",\"TCP\",\"TCP\",\"TCP\",\"TCP\",\"TCP\",\"TCP\",\"TCP\",\"TCP\",\"TCP\",\"TCP\",\"TCP\",\"TCP\",\"TCP\",\"TCP\",\"TCP\",\"TCP\",\"TCP\",\"TCP\",\"TCP\",\"TCP\",\"TCP\",\"TCP\",\"TCP\",\"TCP\",\"TCP\",\"TCP\",\"TCP\",\"TCP\",\"TCP\",\"TCP\",\"TCP\",\"TCP\",\"TCP\",\"TCP\",\"TCP\",\"TCP\",\"TCP\",\"TCP\",\"TCP\",\"TCP\",\"TCP\",\"TCP\",\"TCP\",\"TCP\",\"TCP\",\"TCP\",\"TCP\",\"TCP\",\"TCP\",\"TCP\",\"DNS\",\"DNS\",\"ARP\",\"ARP\",\"DNS\",\"DNS\",\"TCP\",\"TCP\",\"TCP\",\"TCP\",\"TCP\",\"TCP\",\"TCP\",\"TCP\",\"TCP\",\"TCP\",\"TCP\",\"TCP\",\"TCP\",\"TCP\",\"TCP\",\"TCP\",\"TCP\",\"TCP\",\"TCP\",\"TCP\",\"TCP\",\"TCP\",\"TCP\",\"TCP\",\"TCP\",\"TCP\",\"TCP\",\"TCP\",\"TCP\",\"TCP\",\"TCP\",\"TCP\",\"DNS\",\"DNS\",\"DNS\",\"DNS\",\"TCP\",\"TCP\",\"TCP\",\"TCP\",\"TCP\",\"TCP\",\"DNS\",\"DNS\",\"DNS\",\"DNS\",\"DNS\",\"DNS\",\"DNS\",\"DNS\",\"DNS\",\"DNS\",\"DNS\",\"DNS\",\"DNS\",\"DNS\",\"DNS\",\"DNS\",\"DHCPv6\"],\"yaxis\":\"y\",\"type\":\"scattergl\"}],                        {\"template\":{\"data\":{\"bar\":[{\"error_x\":{\"color\":\"#2a3f5f\"},\"error_y\":{\"color\":\"#2a3f5f\"},\"marker\":{\"line\":{\"color\":\"#E5ECF6\",\"width\":0.5},\"pattern\":{\"fillmode\":\"overlay\",\"size\":10,\"solidity\":0.2}},\"type\":\"bar\"}],\"barpolar\":[{\"marker\":{\"line\":{\"color\":\"#E5ECF6\",\"width\":0.5},\"pattern\":{\"fillmode\":\"overlay\",\"size\":10,\"solidity\":0.2}},\"type\":\"barpolar\"}],\"carpet\":[{\"aaxis\":{\"endlinecolor\":\"#2a3f5f\",\"gridcolor\":\"white\",\"linecolor\":\"white\",\"minorgridcolor\":\"white\",\"startlinecolor\":\"#2a3f5f\"},\"baxis\":{\"endlinecolor\":\"#2a3f5f\",\"gridcolor\":\"white\",\"linecolor\":\"white\",\"minorgridcolor\":\"white\",\"startlinecolor\":\"#2a3f5f\"},\"type\":\"carpet\"}],\"choropleth\":[{\"colorbar\":{\"outlinewidth\":0,\"ticks\":\"\"},\"type\":\"choropleth\"}],\"contour\":[{\"colorbar\":{\"outlinewidth\":0,\"ticks\":\"\"},\"colorscale\":[[0.0,\"#0d0887\"],[0.1111111111111111,\"#46039f\"],[0.2222222222222222,\"#7201a8\"],[0.3333333333333333,\"#9c179e\"],[0.4444444444444444,\"#bd3786\"],[0.5555555555555556,\"#d8576b\"],[0.6666666666666666,\"#ed7953\"],[0.7777777777777778,\"#fb9f3a\"],[0.8888888888888888,\"#fdca26\"],[1.0,\"#f0f921\"]],\"type\":\"contour\"}],\"contourcarpet\":[{\"colorbar\":{\"outlinewidth\":0,\"ticks\":\"\"},\"type\":\"contourcarpet\"}],\"heatmap\":[{\"colorbar\":{\"outlinewidth\":0,\"ticks\":\"\"},\"colorscale\":[[0.0,\"#0d0887\"],[0.1111111111111111,\"#46039f\"],[0.2222222222222222,\"#7201a8\"],[0.3333333333333333,\"#9c179e\"],[0.4444444444444444,\"#bd3786\"],[0.5555555555555556,\"#d8576b\"],[0.6666666666666666,\"#ed7953\"],[0.7777777777777778,\"#fb9f3a\"],[0.8888888888888888,\"#fdca26\"],[1.0,\"#f0f921\"]],\"type\":\"heatmap\"}],\"heatmapgl\":[{\"colorbar\":{\"outlinewidth\":0,\"ticks\":\"\"},\"colorscale\":[[0.0,\"#0d0887\"],[0.1111111111111111,\"#46039f\"],[0.2222222222222222,\"#7201a8\"],[0.3333333333333333,\"#9c179e\"],[0.4444444444444444,\"#bd3786\"],[0.5555555555555556,\"#d8576b\"],[0.6666666666666666,\"#ed7953\"],[0.7777777777777778,\"#fb9f3a\"],[0.8888888888888888,\"#fdca26\"],[1.0,\"#f0f921\"]],\"type\":\"heatmapgl\"}],\"histogram\":[{\"marker\":{\"pattern\":{\"fillmode\":\"overlay\",\"size\":10,\"solidity\":0.2}},\"type\":\"histogram\"}],\"histogram2d\":[{\"colorbar\":{\"outlinewidth\":0,\"ticks\":\"\"},\"colorscale\":[[0.0,\"#0d0887\"],[0.1111111111111111,\"#46039f\"],[0.2222222222222222,\"#7201a8\"],[0.3333333333333333,\"#9c179e\"],[0.4444444444444444,\"#bd3786\"],[0.5555555555555556,\"#d8576b\"],[0.6666666666666666,\"#ed7953\"],[0.7777777777777778,\"#fb9f3a\"],[0.8888888888888888,\"#fdca26\"],[1.0,\"#f0f921\"]],\"type\":\"histogram2d\"}],\"histogram2dcontour\":[{\"colorbar\":{\"outlinewidth\":0,\"ticks\":\"\"},\"colorscale\":[[0.0,\"#0d0887\"],[0.1111111111111111,\"#46039f\"],[0.2222222222222222,\"#7201a8\"],[0.3333333333333333,\"#9c179e\"],[0.4444444444444444,\"#bd3786\"],[0.5555555555555556,\"#d8576b\"],[0.6666666666666666,\"#ed7953\"],[0.7777777777777778,\"#fb9f3a\"],[0.8888888888888888,\"#fdca26\"],[1.0,\"#f0f921\"]],\"type\":\"histogram2dcontour\"}],\"mesh3d\":[{\"colorbar\":{\"outlinewidth\":0,\"ticks\":\"\"},\"type\":\"mesh3d\"}],\"parcoords\":[{\"line\":{\"colorbar\":{\"outlinewidth\":0,\"ticks\":\"\"}},\"type\":\"parcoords\"}],\"pie\":[{\"automargin\":true,\"type\":\"pie\"}],\"scatter\":[{\"marker\":{\"colorbar\":{\"outlinewidth\":0,\"ticks\":\"\"}},\"type\":\"scatter\"}],\"scatter3d\":[{\"line\":{\"colorbar\":{\"outlinewidth\":0,\"ticks\":\"\"}},\"marker\":{\"colorbar\":{\"outlinewidth\":0,\"ticks\":\"\"}},\"type\":\"scatter3d\"}],\"scattercarpet\":[{\"marker\":{\"colorbar\":{\"outlinewidth\":0,\"ticks\":\"\"}},\"type\":\"scattercarpet\"}],\"scattergeo\":[{\"marker\":{\"colorbar\":{\"outlinewidth\":0,\"ticks\":\"\"}},\"type\":\"scattergeo\"}],\"scattergl\":[{\"marker\":{\"colorbar\":{\"outlinewidth\":0,\"ticks\":\"\"}},\"type\":\"scattergl\"}],\"scattermapbox\":[{\"marker\":{\"colorbar\":{\"outlinewidth\":0,\"ticks\":\"\"}},\"type\":\"scattermapbox\"}],\"scatterpolar\":[{\"marker\":{\"colorbar\":{\"outlinewidth\":0,\"ticks\":\"\"}},\"type\":\"scatterpolar\"}],\"scatterpolargl\":[{\"marker\":{\"colorbar\":{\"outlinewidth\":0,\"ticks\":\"\"}},\"type\":\"scatterpolargl\"}],\"scatterternary\":[{\"marker\":{\"colorbar\":{\"outlinewidth\":0,\"ticks\":\"\"}},\"type\":\"scatterternary\"}],\"surface\":[{\"colorbar\":{\"outlinewidth\":0,\"ticks\":\"\"},\"colorscale\":[[0.0,\"#0d0887\"],[0.1111111111111111,\"#46039f\"],[0.2222222222222222,\"#7201a8\"],[0.3333333333333333,\"#9c179e\"],[0.4444444444444444,\"#bd3786\"],[0.5555555555555556,\"#d8576b\"],[0.6666666666666666,\"#ed7953\"],[0.7777777777777778,\"#fb9f3a\"],[0.8888888888888888,\"#fdca26\"],[1.0,\"#f0f921\"]],\"type\":\"surface\"}],\"table\":[{\"cells\":{\"fill\":{\"color\":\"#EBF0F8\"},\"line\":{\"color\":\"white\"}},\"header\":{\"fill\":{\"color\":\"#C8D4E3\"},\"line\":{\"color\":\"white\"}},\"type\":\"table\"}]},\"layout\":{\"annotationdefaults\":{\"arrowcolor\":\"#2a3f5f\",\"arrowhead\":0,\"arrowwidth\":1},\"autotypenumbers\":\"strict\",\"coloraxis\":{\"colorbar\":{\"outlinewidth\":0,\"ticks\":\"\"}},\"colorscale\":{\"diverging\":[[0,\"#8e0152\"],[0.1,\"#c51b7d\"],[0.2,\"#de77ae\"],[0.3,\"#f1b6da\"],[0.4,\"#fde0ef\"],[0.5,\"#f7f7f7\"],[0.6,\"#e6f5d0\"],[0.7,\"#b8e186\"],[0.8,\"#7fbc41\"],[0.9,\"#4d9221\"],[1,\"#276419\"]],\"sequential\":[[0.0,\"#0d0887\"],[0.1111111111111111,\"#46039f\"],[0.2222222222222222,\"#7201a8\"],[0.3333333333333333,\"#9c179e\"],[0.4444444444444444,\"#bd3786\"],[0.5555555555555556,\"#d8576b\"],[0.6666666666666666,\"#ed7953\"],[0.7777777777777778,\"#fb9f3a\"],[0.8888888888888888,\"#fdca26\"],[1.0,\"#f0f921\"]],\"sequentialminus\":[[0.0,\"#0d0887\"],[0.1111111111111111,\"#46039f\"],[0.2222222222222222,\"#7201a8\"],[0.3333333333333333,\"#9c179e\"],[0.4444444444444444,\"#bd3786\"],[0.5555555555555556,\"#d8576b\"],[0.6666666666666666,\"#ed7953\"],[0.7777777777777778,\"#fb9f3a\"],[0.8888888888888888,\"#fdca26\"],[1.0,\"#f0f921\"]]},\"colorway\":[\"#636efa\",\"#EF553B\",\"#00cc96\",\"#ab63fa\",\"#FFA15A\",\"#19d3f3\",\"#FF6692\",\"#B6E880\",\"#FF97FF\",\"#FECB52\"],\"font\":{\"color\":\"#2a3f5f\"},\"geo\":{\"bgcolor\":\"white\",\"lakecolor\":\"white\",\"landcolor\":\"#E5ECF6\",\"showlakes\":true,\"showland\":true,\"subunitcolor\":\"white\"},\"hoverlabel\":{\"align\":\"left\"},\"hovermode\":\"closest\",\"mapbox\":{\"style\":\"light\"},\"paper_bgcolor\":\"white\",\"plot_bgcolor\":\"#E5ECF6\",\"polar\":{\"angularaxis\":{\"gridcolor\":\"white\",\"linecolor\":\"white\",\"ticks\":\"\"},\"bgcolor\":\"#E5ECF6\",\"radialaxis\":{\"gridcolor\":\"white\",\"linecolor\":\"white\",\"ticks\":\"\"}},\"scene\":{\"xaxis\":{\"backgroundcolor\":\"#E5ECF6\",\"gridcolor\":\"white\",\"gridwidth\":2,\"linecolor\":\"white\",\"showbackground\":true,\"ticks\":\"\",\"zerolinecolor\":\"white\"},\"yaxis\":{\"backgroundcolor\":\"#E5ECF6\",\"gridcolor\":\"white\",\"gridwidth\":2,\"linecolor\":\"white\",\"showbackground\":true,\"ticks\":\"\",\"zerolinecolor\":\"white\"},\"zaxis\":{\"backgroundcolor\":\"#E5ECF6\",\"gridcolor\":\"white\",\"gridwidth\":2,\"linecolor\":\"white\",\"showbackground\":true,\"ticks\":\"\",\"zerolinecolor\":\"white\"}},\"shapedefaults\":{\"line\":{\"color\":\"#2a3f5f\"}},\"ternary\":{\"aaxis\":{\"gridcolor\":\"white\",\"linecolor\":\"white\",\"ticks\":\"\"},\"baxis\":{\"gridcolor\":\"white\",\"linecolor\":\"white\",\"ticks\":\"\"},\"bgcolor\":\"#E5ECF6\",\"caxis\":{\"gridcolor\":\"white\",\"linecolor\":\"white\",\"ticks\":\"\"}},\"title\":{\"x\":0.05},\"xaxis\":{\"automargin\":true,\"gridcolor\":\"white\",\"linecolor\":\"white\",\"ticks\":\"\",\"title\":{\"standoff\":15},\"zerolinecolor\":\"white\",\"zerolinewidth\":2},\"yaxis\":{\"automargin\":true,\"gridcolor\":\"white\",\"linecolor\":\"white\",\"ticks\":\"\",\"title\":{\"standoff\":15},\"zerolinecolor\":\"white\",\"zerolinewidth\":2}}},\"xaxis\":{\"anchor\":\"y\",\"domain\":[0.0,1.0],\"title\":{\"text\":\"Time\"}},\"yaxis\":{\"anchor\":\"x\",\"domain\":[0.0,1.0],\"title\":{\"text\":\"Protocol\"}},\"legend\":{\"tracegroupgap\":0},\"title\":{\"text\":\"Time / Protocol\"}},                        {\"responsive\": true}                    ).then(function(){\n",
              "                            \n",
              "var gd = document.getElementById('dc5c257f-7656-4d16-9531-b0b2d81b7a15');\n",
              "var x = new MutationObserver(function (mutations, observer) {{\n",
              "        var display = window.getComputedStyle(gd).display;\n",
              "        if (!display || display === 'none') {{\n",
              "            console.log([gd, 'removed!']);\n",
              "            Plotly.purge(gd);\n",
              "            observer.disconnect();\n",
              "        }}\n",
              "}});\n",
              "\n",
              "// Listen for the removal of the full notebook cells\n",
              "var notebookContainer = gd.closest('#notebook-container');\n",
              "if (notebookContainer) {{\n",
              "    x.observe(notebookContainer, {childList: true});\n",
              "}}\n",
              "\n",
              "// Listen for the clearing of the current output cell\n",
              "var outputEl = gd.closest('.output');\n",
              "if (outputEl) {{\n",
              "    x.observe(outputEl, {childList: true});\n",
              "}}\n",
              "\n",
              "                        })                };                            </script>        </div>\n",
              "</body>\n",
              "</html>"
            ]
          },
          "metadata": {}
        }
      ]
    },
    {
      "cell_type": "code",
      "source": [
        "plt.figure(figsize = (20, 5))\n",
        "plt.scatter(dns['Time'], dns['Protocol'])\n",
        "plt.scatter(arp['Time'], arp['Protocol'])\n",
        "plt.scatter(icmp['Time'], icmp['Protocol'])\n",
        "plt.scatter(syn['Time'], ['SYN'] * len(syn))\n",
        "plt.scatter(fin['Time'], ['FIN'] * len(fin))\n",
        "plt.scatter(xmas['Time'], ['XMAS'] * len(xmas))\n",
        "plt.xlabel('Time')\n",
        "plt.ylabel('Protocol')\n",
        "plt.title('Packets / Time')\n",
        "plt.show()"
      ],
      "metadata": {
        "colab": {
          "base_uri": "https://localhost:8080/",
          "height": 350
        },
        "id": "VB4Y4O5Dpbp2",
        "outputId": "dda6977f-8f2b-416b-c6f8-a454805122d8"
      },
      "execution_count": 29,
      "outputs": [
        {
          "output_type": "display_data",
          "data": {
            "text/plain": [
              "<Figure size 1440x360 with 1 Axes>"
            ],
            "image/png": "[encoded data removed]"
          },
          "metadata": {
            "needs_background": "light"
          }
        }
      ]
    },
    {
      "cell_type": "markdown",
      "source": [
        "The graph above paints a picture of the web traffic captured. We can see continuous DNS packets, an interval of ARP queries broken by a 30 second ARP spoof, and the three port scans mentioned earlier. One thing worth noting is after the ARP spoof and during the port probe attacks, the interval of ARP queries became much smaller."
      ],
      "metadata": {
        "id": "71Xp0KBAqo9C"
      }
    },
    {
      "cell_type": "code",
      "source": [
        "spoof = arp.loc[(arp['Time'] >= spoof_strt) & (arp['Time'] <= spoof_end)]\n",
        "avg_time_btwn_arp = avg_probe_frequency(spoof)\n",
        "print(f'ARP Table information was sent to the network every {avg_time_btwn_arp}\\\n",
        "  seconds on average during the spoof'.replace('\\n', '').replace('  ', ' '))"
      ],
      "metadata": {
        "colab": {
          "base_uri": "https://localhost:8080/"
        },
        "id": "PoidBWEz_QLY",
        "outputId": "86fc0933-7150-4071-a1ed-c66421fa9061"
      },
      "execution_count": 30,
      "outputs": [
        {
          "output_type": "stream",
          "name": "stdout",
          "text": [
            "ARP Table information was sent to the network every 0.03498656378600823 seconds on average during the spoof\n"
          ]
        }
      ]
    },
    {
      "cell_type": "markdown",
      "source": [
        "####During ARP Spoofing, an unknown MAC address creating the majority of ARP traffic is visible alongside client and server MAC addresses. The victimized server and client see spikes in received traffic."
      ],
      "metadata": {
        "id": "FsBLadxwwRet"
      }
    },
    {
      "cell_type": "code",
      "source": [
        "plt.figure(figsize = (18, 7))\n",
        "arp['Source'].value_counts().plot(kind = 'bar', color = 'orange')\n",
        "plt.xticks(rotation = 20)\n",
        "plt.xlabel('Source MAC Address')\n",
        "plt.ylabel('# Packets Sent')\n",
        "plt.show()"
      ],
      "metadata": {
        "colab": {
          "base_uri": "https://localhost:8080/",
          "height": 477
        },
        "id": "ZNpxp0_HwQ7i",
        "outputId": "5d2ca0ad-66c0-4f81-d559-35b7fcc06f83"
      },
      "execution_count": 31,
      "outputs": [
        {
          "output_type": "display_data",
          "data": {
            "text/plain": [
              "<Figure size 1296x504 with 1 Axes>"
            ],
            "image/png": "[encoded data removed]"
          },
          "metadata": {
            "needs_background": "light"
          }
        }
      ]
    },
    {
      "cell_type": "markdown",
      "source": [
        "Identifying network interface card number b1:9d:67 as the machine creating ARP traffic every 0.03498656378600823 seconds"
      ],
      "metadata": {
        "id": "nzO7RX-KK5vH"
      }
    },
    {
      "cell_type": "code",
      "source": [
        "plt.figure(figsize = (18, 7))\n",
        "arp['Destination'].value_counts().plot(kind = 'bar', color = 'orange')\n",
        "plt.xticks(rotation = 20)\n",
        "plt.xlabel('Destination MAC Address')\n",
        "plt.ylabel('# Packets Received')\n",
        "plt.show()"
      ],
      "metadata": {
        "colab": {
          "base_uri": "https://localhost:8080/",
          "height": 477
        },
        "id": "O-R5FN-LwYfh",
        "outputId": "de4a0bf0-9c47-4a6e-9db7-dbbaf3751ec6"
      },
      "execution_count": 32,
      "outputs": [
        {
          "output_type": "display_data",
          "data": {
            "text/plain": [
              "<Figure size 1296x504 with 1 Axes>"
            ],
            "image/png": "[encoded data removed]"
          },
          "metadata": {
            "needs_background": "light"
          }
        }
      ]
    },
    {
      "cell_type": "markdown",
      "source": [
        "During the traffic capture that lasted 2 minutes and 29 seconds, a total of 1481 packets were captured. The 31 second ARP attack sent 739 packets to the network, while the three TCP port scans generated 329 request packets(101 packets for each scan plus 26 packets for the Xmas scan), and 320 response packets(six RST, six SYN-ACK, and 308 RST-ACK)."
      ],
      "metadata": {
        "id": "7jZVUVp3eRgo"
      }
    },
    {
      "cell_type": "code",
      "source": [
        "# account for all tcp packets\n",
        "tcp_mask = ~tcp['Info'].str.contains('ACK') & ~tcp['Info'].str.contains('RST')\n",
        "tcp_scans = tcp.loc[tcp_mask]\n",
        "tcp_scans_2 = pd.concat([syn, fin, xmas])\n",
        "if len(tcp_scans) == len(tcp_scans_2):\n",
        "    print(f'Total of {len(tcp_scans)} port probes sent')\n",
        "    c = 1\n",
        "    probe_count = 0\n",
        "    drops = []\n",
        "    while c < 102:\n",
        "        probes = tcp_scans[tcp_scans['Info'].str.contains(f' {str(c)} ')]\n",
        "        probe_count += len(probes)\n",
        "        drops.extend(probes.index)\n",
        "        c += 1\n",
        "    tcp3 = tcp_scans.drop(drops)\n",
        "    tcp_eq = tcp_scans.sort_values('No.') == tcp_scans_2.sort_values('No.')\n",
        "    print(tcp_eq.sum().unique()[0], tcp_eq.sum().nunique())\n",
        "    print(probe_count + len(tcp3))\n",
        "else:\n",
        "    print('Error: Inaccurate ARP packet count')"
      ],
      "metadata": {
        "colab": {
          "base_uri": "https://localhost:8080/"
        },
        "id": "5LK90QHEhRte",
        "outputId": "adad9851-9248-4999-df0e-7d42e8699c33"
      },
      "execution_count": 33,
      "outputs": [
        {
          "output_type": "stream",
          "name": "stdout",
          "text": [
            "Total of 329 port probes sent\n",
            "329 1\n",
            "329\n"
          ]
        }
      ]
    },
    {
      "cell_type": "code",
      "source": [
        "# find if any ICMP packets were sent during the attacks\n",
        "syn_mask = lambda x: (x >= strt_syn) and (x <= end_syn)\n",
        "fin_mask = lambda x: (x >= strt_fin) and (x <= end_fin)\n",
        "xmas_mask = lambda x: (x >= strt_xmas) and (x <= end_xmas)\n",
        "spoof_mask = lambda x: (x >= spoof_strt) and (x <= spoof_end)\n",
        "k = [(syn_mask, 'Syn'), (fin_mask, 'Fin'),\n",
        "     (xmas_mask, 'Xmas'), (spoof_mask, 'Arp')]\n",
        "for x in range(len(icmp)):\n",
        "    row = icmp.iloc[x]\n",
        "    num = row['No.']\n",
        "    for mask in k:\n",
        "        if mask[0](row['Time']):\n",
        "            print(f'Packet No. {num} sent during {mask[1]} attack')\n",
        "            break\n",
        "    else:\n",
        "      print(f'Packet No. {num} sent when no attacks were running')"
      ],
      "metadata": {
        "colab": {
          "base_uri": "https://localhost:8080/"
        },
        "id": "9ljEM86AZW6z",
        "outputId": "c8ff2171-56a9-4a33-bd61-e258098aa90c"
      },
      "execution_count": 34,
      "outputs": [
        {
          "output_type": "stream",
          "name": "stdout",
          "text": [
            "Packet No. 772 sent when no attacks were running\n",
            "Packet No. 773 sent when no attacks were running\n",
            "Packet No. 994 sent when no attacks were running\n",
            "Packet No. 995 sent when no attacks were running\n",
            "Packet No. 1101 sent during Fin attack\n",
            "Packet No. 1102 sent during Fin attack\n"
          ]
        }
      ]
    }
  ]
}