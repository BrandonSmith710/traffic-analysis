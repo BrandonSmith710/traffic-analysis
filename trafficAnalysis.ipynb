{
  "nbformat": 4,
  "nbformat_minor": 0,
  "metadata": {
    "colab": {
      "provenance": []
    },
    "kernelspec": {
      "name": "python3",
      "display_name": "Python 3"
    },
    "language_info": {
      "name": "python"
    }
  },
  "cells": [
    {
      "cell_type": "markdown",
      "source": [
        "The web traffic and protocol attacks in this dataset were created inside an isolated network of virtual machines. While capturing traffic with Wireshark, I used the Scapy library to execute ARP Spoofing as well as SYN, FIN and Xmas port scans with the idea in mind of viewing the network traffic in Pandas. Here we can find the information that identifies malicious packets for our use cases."
      ],
      "metadata": {
        "id": "yWatpCjAfXek"
      }
    },
    {
      "cell_type": "code",
      "execution_count": 210,
      "metadata": {
        "colab": {
          "base_uri": "https://localhost:8080/",
          "height": 73
        },
        "id": "a-QhuSNzsJfg",
        "outputId": "3cdbdc92-8895-4b19-b9dd-0d118e410b2e"
      },
      "outputs": [
        {
          "output_type": "display_data",
          "data": {
            "text/plain": [
              "<IPython.core.display.HTML object>"
            ],
            "text/html": [
              "\n",
              "     <input type=\"file\" id=\"files-3598484c-5fb7-43b0-8335-95aeee108c71\" name=\"files[]\" multiple disabled\n",
              "        style=\"border:none\" />\n",
              "     <output id=\"result-3598484c-5fb7-43b0-8335-95aeee108c71\">\n",
              "      Upload widget is only available when the cell has been executed in the\n",
              "      current browser session. Please rerun this cell to enable.\n",
              "      </output>\n",
              "      <script>// Copyright 2017 Google LLC\n",
              "//\n",
              "// Licensed under the Apache License, Version 2.0 (the \"License\");\n",
              "// you may not use this file except in compliance with the License.\n",
              "// You may obtain a copy of the License at\n",
              "//\n",
              "//      http://www.apache.org/licenses/LICENSE-2.0\n",
              "//\n",
              "// Unless required by applicable law or agreed to in writing, software\n",
              "// distributed under the License is distributed on an \"AS IS\" BASIS,\n",
              "// WITHOUT WARRANTIES OR CONDITIONS OF ANY KIND, either express or implied.\n",
              "// See the License for the specific language governing permissions and\n",
              "// limitations under the License.\n",
              "\n",
              "/**\n",
              " * @fileoverview Helpers for google.colab Python module.\n",
              " */\n",
              "(function(scope) {\n",
              "function span(text, styleAttributes = {}) {\n",
              "  const element = document.createElement('span');\n",
              "  element.textContent = text;\n",
              "  for (const key of Object.keys(styleAttributes)) {\n",
              "    element.style[key] = styleAttributes[key];\n",
              "  }\n",
              "  return element;\n",
              "}\n",
              "\n",
              "// Max number of bytes which will be uploaded at a time.\n",
              "const MAX_PAYLOAD_SIZE = 100 * 1024;\n",
              "\n",
              "function _uploadFiles(inputId, outputId) {\n",
              "  const steps = uploadFilesStep(inputId, outputId);\n",
              "  const outputElement = document.getElementById(outputId);\n",
              "  // Cache steps on the outputElement to make it available for the next call\n",
              "  // to uploadFilesContinue from Python.\n",
              "  outputElement.steps = steps;\n",
              "\n",
              "  return _uploadFilesContinue(outputId);\n",
              "}\n",
              "\n",
              "// This is roughly an async generator (not supported in the browser yet),\n",
              "// where there are multiple asynchronous steps and the Python side is going\n",
              "// to poll for completion of each step.\n",
              "// This uses a Promise to block the python side on completion of each step,\n",
              "// then passes the result of the previous step as the input to the next step.\n",
              "function _uploadFilesContinue(outputId) {\n",
              "  const outputElement = document.getElementById(outputId);\n",
              "  const steps = outputElement.steps;\n",
              "\n",
              "  const next = steps.next(outputElement.lastPromiseValue);\n",
              "  return Promise.resolve(next.value.promise).then((value) => {\n",
              "    // Cache the last promise value to make it available to the next\n",
              "    // step of the generator.\n",
              "    outputElement.lastPromiseValue = value;\n",
              "    return next.value.response;\n",
              "  });\n",
              "}\n",
              "\n",
              "/**\n",
              " * Generator function which is called between each async step of the upload\n",
              " * process.\n",
              " * @param {string} inputId Element ID of the input file picker element.\n",
              " * @param {string} outputId Element ID of the output display.\n",
              " * @return {!Iterable<!Object>} Iterable of next steps.\n",
              " */\n",
              "function* uploadFilesStep(inputId, outputId) {\n",
              "  const inputElement = document.getElementById(inputId);\n",
              "  inputElement.disabled = false;\n",
              "\n",
              "  const outputElement = document.getElementById(outputId);\n",
              "  outputElement.innerHTML = '';\n",
              "\n",
              "  const pickedPromise = new Promise((resolve) => {\n",
              "    inputElement.addEventListener('change', (e) => {\n",
              "      resolve(e.target.files);\n",
              "    });\n",
              "  });\n",
              "\n",
              "  const cancel = document.createElement('button');\n",
              "  inputElement.parentElement.appendChild(cancel);\n",
              "  cancel.textContent = 'Cancel upload';\n",
              "  const cancelPromise = new Promise((resolve) => {\n",
              "    cancel.onclick = () => {\n",
              "      resolve(null);\n",
              "    };\n",
              "  });\n",
              "\n",
              "  // Wait for the user to pick the files.\n",
              "  const files = yield {\n",
              "    promise: Promise.race([pickedPromise, cancelPromise]),\n",
              "    response: {\n",
              "      action: 'starting',\n",
              "    }\n",
              "  };\n",
              "\n",
              "  cancel.remove();\n",
              "\n",
              "  // Disable the input element since further picks are not allowed.\n",
              "  inputElement.disabled = true;\n",
              "\n",
              "  if (!files) {\n",
              "    return {\n",
              "      response: {\n",
              "        action: 'complete',\n",
              "      }\n",
              "    };\n",
              "  }\n",
              "\n",
              "  for (const file of files) {\n",
              "    const li = document.createElement('li');\n",
              "    li.append(span(file.name, {fontWeight: 'bold'}));\n",
              "    li.append(span(\n",
              "        `(${file.type || 'n/a'}) - ${file.size} bytes, ` +\n",
              "        `last modified: ${\n",
              "            file.lastModifiedDate ? file.lastModifiedDate.toLocaleDateString() :\n",
              "                                    'n/a'} - `));\n",
              "    const percent = span('0% done');\n",
              "    li.appendChild(percent);\n",
              "\n",
              "    outputElement.appendChild(li);\n",
              "\n",
              "    const fileDataPromise = new Promise((resolve) => {\n",
              "      const reader = new FileReader();\n",
              "      reader.onload = (e) => {\n",
              "        resolve(e.target.result);\n",
              "      };\n",
              "      reader.readAsArrayBuffer(file);\n",
              "    });\n",
              "    // Wait for the data to be ready.\n",
              "    let fileData = yield {\n",
              "      promise: fileDataPromise,\n",
              "      response: {\n",
              "        action: 'continue',\n",
              "      }\n",
              "    };\n",
              "\n",
              "    // Use a chunked sending to avoid message size limits. See b/62115660.\n",
              "    let position = 0;\n",
              "    do {\n",
              "      const length = Math.min(fileData.byteLength - position, MAX_PAYLOAD_SIZE);\n",
              "      const chunk = new Uint8Array(fileData, position, length);\n",
              "      position += length;\n",
              "\n",
              "      const base64 = btoa(String.fromCharCode.apply(null, chunk));\n",
              "      yield {\n",
              "        response: {\n",
              "          action: 'append',\n",
              "          file: file.name,\n",
              "          data: base64,\n",
              "        },\n",
              "      };\n",
              "\n",
              "      let percentDone = fileData.byteLength === 0 ?\n",
              "          100 :\n",
              "          Math.round((position / fileData.byteLength) * 100);\n",
              "      percent.textContent = `${percentDone}% done`;\n",
              "\n",
              "    } while (position < fileData.byteLength);\n",
              "  }\n",
              "\n",
              "  // All done.\n",
              "  yield {\n",
              "    response: {\n",
              "      action: 'complete',\n",
              "    }\n",
              "  };\n",
              "}\n",
              "\n",
              "scope.google = scope.google || {};\n",
              "scope.google.colab = scope.google.colab || {};\n",
              "scope.google.colab._files = {\n",
              "  _uploadFiles,\n",
              "  _uploadFilesContinue,\n",
              "};\n",
              "})(self);\n",
              "</script> "
            ]
          },
          "metadata": {}
        },
        {
          "output_type": "stream",
          "name": "stdout",
          "text": [
            "Saving scans.csv to scans (1).csv\n"
          ]
        }
      ],
      "source": [
        "import pandas as pd\n",
        "import numpy as np\n",
        "import pandas as pd\n",
        "from google.colab import files\n",
        "import io\n",
        "import matplotlib.pyplot as plt\n",
        "import datetime as dt\n",
        "up = files.upload()"
      ]
    },
    {
      "cell_type": "code",
      "source": [
        "df = pd.read_csv(io.BytesIO(up['scans.csv']), parse_dates = ['Time'])\n",
        "df.head()"
      ],
      "metadata": {
        "colab": {
          "base_uri": "https://localhost:8080/",
          "height": 206
        },
        "id": "zMlEpimPshqW",
        "outputId": "5f895b89-551d-456e-8a33-8f1d1ff9b97d"
      },
      "execution_count": 211,
      "outputs": [
        {
          "output_type": "execute_result",
          "data": {
            "text/plain": [
              "   No.                          Time         Source    Destination Protocol  \\\n",
              "0    1 2023-03-09 22:08:56.181713021  192.168.1.101    192.168.1.1      DNS   \n",
              "1    2 2023-03-09 22:08:56.182232092  192.168.1.101    192.168.1.1      DNS   \n",
              "2    3 2023-03-09 22:08:59.851676016  192.168.1.100  192.168.1.255  BROWSER   \n",
              "3    4 2023-03-09 22:08:59.852203395  192.168.1.100  192.168.1.255  BROWSER   \n",
              "4    5 2023-03-09 22:09:01.188195767  192.168.1.101    192.168.1.1      DNS   \n",
              "\n",
              "   Length                                               Info  \n",
              "0      84   Standard query 0xd60b A engineering.virginia.edu  \n",
              "1      84  Standard query 0x0e0f AAAA engineering.virgini...  \n",
              "2     286  Local Master Announcement METASPLOITABLE, Work...  \n",
              "3     257  Domain/Workgroup Announcement WORKGROUP, NT Wo...  \n",
              "4      84   Standard query 0xd60b A engineering.virginia.edu  "
            ],
            "text/html": [
              "\n",
              "  <div id=\"df-0c7293ca-ffaa-4cbc-8435-b67d77895884\">\n",
              "    <div class=\"colab-df-container\">\n",
              "      <div>\n",
              "<style scoped>\n",
              "    .dataframe tbody tr th:only-of-type {\n",
              "        vertical-align: middle;\n",
              "    }\n",
              "\n",
              "    .dataframe tbody tr th {\n",
              "        vertical-align: top;\n",
              "    }\n",
              "\n",
              "    .dataframe thead th {\n",
              "        text-align: right;\n",
              "    }\n",
              "</style>\n",
              "<table border=\"1\" class=\"dataframe\">\n",
              "  <thead>\n",
              "    <tr style=\"text-align: right;\">\n",
              "      <th></th>\n",
              "      <th>No.</th>\n",
              "      <th>Time</th>\n",
              "      <th>Source</th>\n",
              "      <th>Destination</th>\n",
              "      <th>Protocol</th>\n",
              "      <th>Length</th>\n",
              "      <th>Info</th>\n",
              "    </tr>\n",
              "  </thead>\n",
              "  <tbody>\n",
              "    <tr>\n",
              "      <th>0</th>\n",
              "      <td>1</td>\n",
              "      <td>2023-03-09 22:08:56.181713021</td>\n",
              "      <td>192.168.1.101</td>\n",
              "      <td>192.168.1.1</td>\n",
              "      <td>DNS</td>\n",
              "      <td>84</td>\n",
              "      <td>Standard query 0xd60b A engineering.virginia.edu</td>\n",
              "    </tr>\n",
              "    <tr>\n",
              "      <th>1</th>\n",
              "      <td>2</td>\n",
              "      <td>2023-03-09 22:08:56.182232092</td>\n",
              "      <td>192.168.1.101</td>\n",
              "      <td>192.168.1.1</td>\n",
              "      <td>DNS</td>\n",
              "      <td>84</td>\n",
              "      <td>Standard query 0x0e0f AAAA engineering.virgini...</td>\n",
              "    </tr>\n",
              "    <tr>\n",
              "      <th>2</th>\n",
              "      <td>3</td>\n",
              "      <td>2023-03-09 22:08:59.851676016</td>\n",
              "      <td>192.168.1.100</td>\n",
              "      <td>192.168.1.255</td>\n",
              "      <td>BROWSER</td>\n",
              "      <td>286</td>\n",
              "      <td>Local Master Announcement METASPLOITABLE, Work...</td>\n",
              "    </tr>\n",
              "    <tr>\n",
              "      <th>3</th>\n",
              "      <td>4</td>\n",
              "      <td>2023-03-09 22:08:59.852203395</td>\n",
              "      <td>192.168.1.100</td>\n",
              "      <td>192.168.1.255</td>\n",
              "      <td>BROWSER</td>\n",
              "      <td>257</td>\n",
              "      <td>Domain/Workgroup Announcement WORKGROUP, NT Wo...</td>\n",
              "    </tr>\n",
              "    <tr>\n",
              "      <th>4</th>\n",
              "      <td>5</td>\n",
              "      <td>2023-03-09 22:09:01.188195767</td>\n",
              "      <td>192.168.1.101</td>\n",
              "      <td>192.168.1.1</td>\n",
              "      <td>DNS</td>\n",
              "      <td>84</td>\n",
              "      <td>Standard query 0xd60b A engineering.virginia.edu</td>\n",
              "    </tr>\n",
              "  </tbody>\n",
              "</table>\n",
              "</div>\n",
              "      <button class=\"colab-df-convert\" onclick=\"convertToInteractive('df-0c7293ca-ffaa-4cbc-8435-b67d77895884')\"\n",
              "              title=\"Convert this dataframe to an interactive table.\"\n",
              "              style=\"display:none;\">\n",
              "        \n",
              "  <svg xmlns=\"http://www.w3.org/2000/svg\" height=\"24px\"viewBox=\"0 0 24 24\"\n",
              "       width=\"24px\">\n",
              "    <path d=\"M0 0h24v24H0V0z\" fill=\"none\"/>\n",
              "    <path d=\"M18.56 5.44l.94 2.06.94-2.06 2.06-.94-2.06-.94-.94-2.06-.94 2.06-2.06.94zm-11 1L8.5 8.5l.94-2.06 2.06-.94-2.06-.94L8.5 2.5l-.94 2.06-2.06.94zm10 10l.94 2.06.94-2.06 2.06-.94-2.06-.94-.94-2.06-.94 2.06-2.06.94z\"/><path d=\"M17.41 7.96l-1.37-1.37c-.4-.4-.92-.59-1.43-.59-.52 0-1.04.2-1.43.59L10.3 9.45l-7.72 7.72c-.78.78-.78 2.05 0 2.83L4 21.41c.39.39.9.59 1.41.59.51 0 1.02-.2 1.41-.59l7.78-7.78 2.81-2.81c.8-.78.8-2.07 0-2.86zM5.41 20L4 18.59l7.72-7.72 1.47 1.35L5.41 20z\"/>\n",
              "  </svg>\n",
              "      </button>\n",
              "      \n",
              "  <style>\n",
              "    .colab-df-container {\n",
              "      display:flex;\n",
              "      flex-wrap:wrap;\n",
              "      gap: 12px;\n",
              "    }\n",
              "\n",
              "    .colab-df-convert {\n",
              "      background-color: #E8F0FE;\n",
              "      border: none;\n",
              "      border-radius: 50%;\n",
              "      cursor: pointer;\n",
              "      display: none;\n",
              "      fill: #1967D2;\n",
              "      height: 32px;\n",
              "      padding: 0 0 0 0;\n",
              "      width: 32px;\n",
              "    }\n",
              "\n",
              "    .colab-df-convert:hover {\n",
              "      background-color: #E2EBFA;\n",
              "      box-shadow: 0px 1px 2px rgba(60, 64, 67, 0.3), 0px 1px 3px 1px rgba(60, 64, 67, 0.15);\n",
              "      fill: #174EA6;\n",
              "    }\n",
              "\n",
              "    [theme=dark] .colab-df-convert {\n",
              "      background-color: #3B4455;\n",
              "      fill: #D2E3FC;\n",
              "    }\n",
              "\n",
              "    [theme=dark] .colab-df-convert:hover {\n",
              "      background-color: #434B5C;\n",
              "      box-shadow: 0px 1px 3px 1px rgba(0, 0, 0, 0.15);\n",
              "      filter: drop-shadow(0px 1px 2px rgba(0, 0, 0, 0.3));\n",
              "      fill: #FFFFFF;\n",
              "    }\n",
              "  </style>\n",
              "\n",
              "      <script>\n",
              "        const buttonEl =\n",
              "          document.querySelector('#df-0c7293ca-ffaa-4cbc-8435-b67d77895884 button.colab-df-convert');\n",
              "        buttonEl.style.display =\n",
              "          google.colab.kernel.accessAllowed ? 'block' : 'none';\n",
              "\n",
              "        async function convertToInteractive(key) {\n",
              "          const element = document.querySelector('#df-0c7293ca-ffaa-4cbc-8435-b67d77895884');\n",
              "          const dataTable =\n",
              "            await google.colab.kernel.invokeFunction('convertToInteractive',\n",
              "                                                     [key], {});\n",
              "          if (!dataTable) return;\n",
              "\n",
              "          const docLinkHtml = 'Like what you see? Visit the ' +\n",
              "            '<a target=\"_blank\" href=https://colab.research.google.com/notebooks/data_table.ipynb>data table notebook</a>'\n",
              "            + ' to learn more about interactive tables.';\n",
              "          element.innerHTML = '';\n",
              "          dataTable['output_type'] = 'display_data';\n",
              "          await google.colab.output.renderOutput(dataTable, element);\n",
              "          const docLink = document.createElement('div');\n",
              "          docLink.innerHTML = docLinkHtml;\n",
              "          element.appendChild(docLink);\n",
              "        }\n",
              "      </script>\n",
              "    </div>\n",
              "  </div>\n",
              "  "
            ]
          },
          "metadata": {},
          "execution_count": 211
        }
      ]
    },
    {
      "cell_type": "markdown",
      "source": [
        "####In a continuum of internet protocol packets, each is comprised of information which identifies its purpose. A specific probe or scan will innately produce a certain type of traffic, which can be filtered programatically."
      ],
      "metadata": {
        "id": "8YBvVYW1UX0f"
      }
    },
    {
      "cell_type": "markdown",
      "source": [
        "- Adding columns to indicate presence of TCP flags used in probes\n",
        "- Subsetting the dataframe by protocol"
      ],
      "metadata": {
        "id": "luhLQwhNigJm"
      }
    },
    {
      "cell_type": "code",
      "source": [
        "mask_1 = df['Info'].str.contains('SYN') & ~df['Info'].str.contains('ACK')\n",
        "mask_2 = df['Info'].str.contains('FIN') & ~df['Info'].str.contains('PSH')\n",
        "mask_3 = df['Info'].str.contains('FIN') & df['Info'].str.contains('PSH') & \\\n",
        "         df['Info'].str.contains('URG')\n",
        "df.loc[mask_1, 'SYN'] = 1\n",
        "df.loc[~mask_1, 'SYN'] = 0\n",
        "df.loc[mask_2, 'FIN'] = 1\n",
        "df.loc[~mask_2, 'FIN'] = 0\n",
        "df.loc[mask_3, 'XMAS'] = 1\n",
        "df.loc[~mask_3, 'XMAS'] = 0\n",
        "syn = df.loc[df['SYN'] > 0]\n",
        "fin = df.loc[df['FIN'] > 0]\n",
        "xmas = df.loc[df['XMAS'] > 0]\n",
        "arp = df.loc[df['Protocol'] == 'ARP']\n",
        "tcp = df.loc[df['Protocol'] == 'TCP']\n",
        "icmp = df.loc[df['Protocol'] == 'ICMP']\n",
        "dns = df.loc[df['Protocol'] == 'DNS']\n",
        "start = df.Time.min()\n",
        "ending = df.Time.max()\n",
        "strt_syn = syn.Time.min()\n",
        "end_syn = syn.Time.max()\n",
        "strt_fin = fin.Time.min()\n",
        "end_fin = fin.Time.max()\n",
        "strt_xmas = xmas.Time.min()\n",
        "end_xmas = xmas.Time.max()\n",
        "elapsed = (ending - start).seconds\n",
        "dur_syn = (end_syn - strt_syn).seconds\n",
        "dur_fin = (end_fin - strt_fin).seconds\n",
        "dur_xmas = (end_xmas - strt_xmas).seconds\n",
        "print(f'Total Packet Capture: {len(df)}\\nTotal Capture Time: {elapsed} seconds')\n",
        "for protocol in df['Protocol'].unique():\n",
        "    l = len(df[df['Protocol'] == protocol])\n",
        "    print(f'{protocol}: {l}')"
      ],
      "metadata": {
        "colab": {
          "base_uri": "https://localhost:8080/"
        },
        "id": "1H4-urBUBYSr",
        "outputId": "a75e2566-4913-4b34-9eae-e95a291176fd"
      },
      "execution_count": 212,
      "outputs": [
        {
          "output_type": "stream",
          "name": "stdout",
          "text": [
            "Total Packet Capture: 1481\n",
            "Total Capture Time: 149 seconds\n",
            "DNS: 76\n",
            "BROWSER: 2\n",
            "ARP: 746\n",
            "DHCPv6: 2\n",
            "ICMP: 6\n",
            "TCP: 649\n"
          ]
        }
      ]
    },
    {
      "cell_type": "code",
      "source": [
        "# number of packets sent in each port scan\n",
        "labels = ['SYN', 'FIN', 'XMAS']\n",
        "durations = [dur_syn, dur_fin, dur_xmas]\n",
        "labels = [f'{x}: {y} seconds' for x, y in zip(labels, durations)]\n",
        "fig, ax = plt.subplots(figsize = (10, 6))\n",
        "plt.xticks(rotation = 0)\n",
        "plt.xlabel('Scan Type and Duration')\n",
        "plt.ylabel('# Packets Sent')\n",
        "ax.bar(labels, pd.Series([df.SYN.sum(), df.FIN.sum(), df.XMAS.sum()]))\n",
        "plt.show()"
      ],
      "metadata": {
        "colab": {
          "base_uri": "https://localhost:8080/",
          "height": 388
        },
        "id": "4ddvnqRB3IOu",
        "outputId": "ee389dbf-ad09-4722-f190-d8e89edd0d0a"
      },
      "execution_count": 213,
      "outputs": [
        {
          "output_type": "display_data",
          "data": {
            "text/plain": [
              "<Figure size 720x432 with 1 Axes>"
            ],
            "image/png": "[encoded data removed]"
          },
          "metadata": {
            "needs_background": "light"
          }
        }
      ]
    },
    {
      "cell_type": "markdown",
      "source": [
        "During the traffic capture, the SYN and FIN scans both sent 100 packets to 100 ports, and the Xmas scan sent 126 packets to 126 ports. The SYN scan took four seconds to complete, the FIN scan took nine, and the Xmas scan twenty-three. For a brief period, FIN and Xmas scans ran concurrently, creating possibly increased latency for these scripts. The code below pulls the rate at which each scan sent its probes."
      ],
      "metadata": {
        "id": "R820n4RBU-L_"
      }
    },
    {
      "cell_type": "code",
      "source": [
        "def avg_probe_frequency(df):\n",
        "    # returns average length in seconds between observations in df\n",
        "    times = df['Time']\n",
        "    spaces = []\n",
        "    for i in range(1, len(times)):\n",
        "        a, b = times.iloc[i - 1], times.iloc[i]\n",
        "        spaces.append((b - a).microseconds)\n",
        "    return sum(spaces) / len(spaces) / 1000000"
      ],
      "metadata": {
        "id": "_LlVU6Zc3kKf"
      },
      "execution_count": 214,
      "outputs": []
    },
    {
      "cell_type": "code",
      "source": [
        "avg_time_btwn_syn = avg_probe_frequency(syn)\n",
        "avg_time_btwn_fin = avg_probe_frequency(fin)\n",
        "avg_time_btwn_xmas = avg_probe_frequency(xmas)\n",
        "print(f'average of {avg_time_btwn_syn} seconds between each syn scan packet')\n",
        "print(f'average of {avg_time_btwn_fin} seconds between each fin scan packet')\n",
        "print(f'''average of {avg_time_btwn_xmas} seconds between each fin-psh-urg scan\n",
        "  packet'''.replace('\\n ', ''))"
      ],
      "metadata": {
        "colab": {
          "base_uri": "https://localhost:8080/"
        },
        "id": "-Yel8sj9odS0",
        "outputId": "c172acd6-50ee-4ccf-ad1c-344b40868d35"
      },
      "execution_count": 215,
      "outputs": [
        {
          "output_type": "stream",
          "name": "stdout",
          "text": [
            "average of 0.04133431 seconds between each syn scan packet\n",
            "average of 0.03911318 seconds between each fin scan packet\n",
            "average of 0.04071980158730159 seconds between each fin-psh-urg scan packet\n"
          ]
        }
      ]
    },
    {
      "cell_type": "markdown",
      "source": [
        "Using an algorithm to search the dataset for the beginning, duration, and end of an ARP Spoof"
      ],
      "metadata": {
        "id": "RLCaXTV-PUxn"
      }
    },
    {
      "cell_type": "code",
      "source": [
        "i = 0\n",
        "spoof_strt = 0\n",
        "spoof_end = 0\n",
        "total_spoof_pkts = 0\n",
        "spoofing = False\n",
        "while i < len(df) - 4:\n",
        "    a = df.loc[i: i + 4, :]\n",
        "    plst = list(set(a['Protocol']))\n",
        "    if not spoofing:\n",
        "        if len(plst) == 1 and plst[0] == 'ARP':\n",
        "            pkts = [a.iloc[0], a.iloc[2]]\n",
        "            if all(pkt['Info'].startswith('Who has') for pkt in pkts):\n",
        "                spoof_strt = pkts[0]['Time']\n",
        "                spoofing = True\n",
        "                total_spoof_pkts = i + 1\n",
        "    else:\n",
        "        if not 'ARP' in plst:\n",
        "            spoof_end = df.loc[i - 1]['Time']\n",
        "            total_spoof_pkts = i - total_spoof_pkts\n",
        "            break\n",
        "        if i + 4 == len(df) - 1:\n",
        "            a1 = a.loc[a['Protocol'] == 'ARP']\n",
        "            spoof_end = a1.max(key = lambda x: x.index)['Time']\n",
        "            for j in range(len(a1)):\n",
        "                info = a1.iloc[j]['Info']\n",
        "                if info.startswith('Who has'):\n",
        "                    total_spoof_pkts += 1\n",
        "            total_spoof_pkts = i - total_spoof_pkts\n",
        "        elif a.iloc[0]['Info'].startswith('Who has'):\n",
        "            total_spoof_pkts += 1\n",
        "    i += 1\n",
        "print(f'Start of ARP Spoof: {spoof_strt}')\n",
        "print(f'End of ARP Spoof: {spoof_end}')\n",
        "print(f'ARP Spoof duration: {(spoof_end - spoof_strt).seconds} seconds')\n",
        "print(f'ARP Spoof packets: {total_spoof_pkts}')"
      ],
      "metadata": {
        "colab": {
          "base_uri": "https://localhost:8080/"
        },
        "id": "gnoQUpmONvBb",
        "outputId": "074949af-0921-476f-bc18-d592c797a184"
      },
      "execution_count": 216,
      "outputs": [
        {
          "output_type": "stream",
          "name": "stdout",
          "text": [
            "Start of ARP Spoof: 2023-03-09 22:09:49.344534903\n",
            "End of ARP Spoof: 2023-03-09 22:10:20.850098627\n",
            "ARP Spoof duration: 31 seconds\n",
            "ARP Spoof packets: 739\n"
          ]
        }
      ]
    },
    {
      "cell_type": "markdown",
      "source": [
        "#Six protocols in use\n",
        "\n",
        "- ARP(Address Resolution Protocol): Requests for ARP Table information; responses providing ARP Table information\n",
        "- TCP(Transmission Control Protocol):  SYN, FIN, and XMAS scans\n",
        "- DNS(Domain Name System): Requests to a DNS server\n",
        "- ICMP(Internet Control Messaging Protocol): Pings and other messaging services\n",
        "- DHCPv6(Dynamic Host Configuration Protocol): Assigns IPv6 addresses statefully and distributes information such as domain name or DNS server\n",
        "- BROWSER: Used to discover machines and resources on the network"
      ],
      "metadata": {
        "id": "2xLV1WZDqTxe"
      }
    },
    {
      "cell_type": "code",
      "source": [
        "plt.figure(figsize = (8, 5))\n",
        "pvc = df['Protocol'].value_counts(ascending = True)\n",
        "plt.scatter(pvc.index, pvc, color = 'orange')\n",
        "plt.xlabel('Protocol')\n",
        "plt.ylabel('Packets Sent')\n",
        "plt.show()"
      ],
      "metadata": {
        "colab": {
          "base_uri": "https://localhost:8080/",
          "height": 334
        },
        "id": "ELQJ_EoUqRQ2",
        "outputId": "2bd7d1b7-e427-4dd0-f884-755d24b1eddd"
      },
      "execution_count": 217,
      "outputs": [
        {
          "output_type": "display_data",
          "data": {
            "text/plain": [
              "<Figure size 576x360 with 1 Axes>"
            ],
            "image/png": "[encoded data removed]"
          },
          "metadata": {
            "needs_background": "light"
          }
        }
      ]
    },
    {
      "cell_type": "code",
      "source": [
        "plt.figure(figsize = (22, 5))\n",
        "plt.scatter(dns['Time'], dns['Protocol'])\n",
        "plt.scatter(arp['Time'], arp['Protocol'])\n",
        "plt.scatter(icmp['Time'], icmp['Protocol'])\n",
        "plt.scatter(syn['Time'], ['SYN'] * len(syn))\n",
        "plt.scatter(fin['Time'], ['FIN'] * len(fin))\n",
        "plt.scatter(xmas['Time'], ['XMAS'] * len(xmas))\n",
        "plt.xlabel('Packets / Time')\n",
        "plt.ylabel('Protocol')\n",
        "plt.show()"
      ],
      "metadata": {
        "colab": {
          "base_uri": "https://localhost:8080/",
          "height": 330
        },
        "id": "VB4Y4O5Dpbp2",
        "outputId": "c00e98d5-6a29-47f4-aeb3-834e29fc4ecc"
      },
      "execution_count": 218,
      "outputs": [
        {
          "output_type": "display_data",
          "data": {
            "text/plain": [
              "<Figure size 1584x360 with 1 Axes>"
            ],
            "image/png": "[encoded data removed]"
          },
          "metadata": {
            "needs_background": "light"
          }
        }
      ]
    },
    {
      "cell_type": "markdown",
      "source": [
        "The graph above paints a picture of the web traffic captured. We can see continuous DNS packets, an interval of ARP queries broken by a 30 second ARP spoof, and the three port scans mentioned earlier. One thing worth noting is after the ARP spoof and during the port probe attacks, the interval of ARP queries became much smaller."
      ],
      "metadata": {
        "id": "71Xp0KBAqo9C"
      }
    },
    {
      "cell_type": "code",
      "source": [
        "spoof = arp.loc[(arp['Time'] >= spoof_strt) & (arp['Time'] <= spoof_end)]\n",
        "avg_time_btwn_arp = avg_probe_frequency(spoof)\n",
        "print(f'ARP Table information was sent to the network every {avg_time_btwn_arp}\\\n",
        "  seconds on average during the spoof'.replace('\\n', '').replace('  ', ' '))"
      ],
      "metadata": {
        "colab": {
          "base_uri": "https://localhost:8080/"
        },
        "id": "PoidBWEz_QLY",
        "outputId": "4c5a37b2-bbd8-418a-e626-ed45dfb4a6a4"
      },
      "execution_count": 219,
      "outputs": [
        {
          "output_type": "stream",
          "name": "stdout",
          "text": [
            "ARP Table information was sent to the network every 0.03498656378600823 seconds on average during the spoof\n"
          ]
        }
      ]
    },
    {
      "cell_type": "markdown",
      "source": [
        "####During ARP Spoofing, an unknown MAC address creating the majority of ARP traffic is visible alongside client and server MAC addresses. The victimized server and client see spikes in received traffic."
      ],
      "metadata": {
        "id": "FsBLadxwwRet"
      }
    },
    {
      "cell_type": "code",
      "source": [
        "arp['Source'].value_counts().plot(kind = 'bar')\n",
        "plt.xticks(rotation = 20)\n",
        "plt.xlabel('Source MAC Address')\n",
        "plt.ylabel('# Packets Sent')\n",
        "plt.show()"
      ],
      "metadata": {
        "colab": {
          "base_uri": "https://localhost:8080/",
          "height": 314
        },
        "id": "ZNpxp0_HwQ7i",
        "outputId": "53021082-fff3-4979-df3d-5b6c2dc73ae3"
      },
      "execution_count": 220,
      "outputs": [
        {
          "output_type": "display_data",
          "data": {
            "text/plain": [
              "<Figure size 432x288 with 1 Axes>"
            ],
            "image/png": "[encoded data removed]"
          },
          "metadata": {
            "needs_background": "light"
          }
        }
      ]
    },
    {
      "cell_type": "markdown",
      "source": [
        "Identifying network interface card number b1:9d:67 as the machine creating ARP traffic every 0.03498656378600823 seconds"
      ],
      "metadata": {
        "id": "nzO7RX-KK5vH"
      }
    },
    {
      "cell_type": "code",
      "source": [
        "arp['Destination'].value_counts().plot(kind = 'bar')\n",
        "plt.xticks(rotation = 20)\n",
        "plt.xlabel('Destination MAC Address')\n",
        "plt.ylabel('# Packets Sent')\n",
        "plt.show()"
      ],
      "metadata": {
        "colab": {
          "base_uri": "https://localhost:8080/",
          "height": 314
        },
        "id": "O-R5FN-LwYfh",
        "outputId": "e2cd4ab2-22ec-4649-8775-b25f30274b3c"
      },
      "execution_count": 221,
      "outputs": [
        {
          "output_type": "display_data",
          "data": {
            "text/plain": [
              "<Figure size 432x288 with 1 Axes>"
            ],
            "image/png": "[encoded data removed]"
          },
          "metadata": {
            "needs_background": "light"
          }
        }
      ]
    },
    {
      "cell_type": "markdown",
      "source": [
        "During the traffic capture that lasted 2 minutes and 29 seconds, a total of 1481 packets were captured. The 31 second ARP attack sent 739 packets to the network, while the three TCP port scans generated 329 request packets(101 packets for each scan plus 26 packets for the Xmas scan), and 320 response packets(six RST, six SYN-ACK, and 308 RST-ACK)."
      ],
      "metadata": {
        "id": "7jZVUVp3eRgo"
      }
    },
    {
      "cell_type": "code",
      "source": [
        "# account for all tcp packets\n",
        "tcp_mask = ~tcp['Info'].str.contains('ACK') & ~tcp['Info'].str.contains('RST')\n",
        "tcp_scans = tcp.loc[tcp_mask]\n",
        "tcp_scans_2 = pd.concat([syn, fin, xmas])\n",
        "if len(tcp_scans) == len(tcp_scans_2):\n",
        "    print(f'Total of {len(tcp_scans)} port probes sent')\n",
        "    c = 1\n",
        "    probe_count = 0\n",
        "    drops = []\n",
        "    while c < 102:\n",
        "        probes = tcp_scans[tcp_scans['Info'].str.contains(f' {str(c)} ')]\n",
        "        probe_count += len(probes)\n",
        "        drops.extend(probes.index)\n",
        "        c += 1\n",
        "    tcp3 = tcp_scans.drop(drops)\n",
        "    tcp_eq = tcp_scans.sort_values('No.') == tcp_scans_2.sort_values('No.')\n",
        "    print(tcp_eq.sum().unique()[0], tcp_eq.sum().nunique())\n",
        "    print(probe_count + len(tcp3))\n",
        "else:\n",
        "    print('Error: Inaccurate ARP packet count')"
      ],
      "metadata": {
        "colab": {
          "base_uri": "https://localhost:8080/"
        },
        "id": "5LK90QHEhRte",
        "outputId": "de20942a-75cb-4cf7-f6a8-8d503a0ec82a"
      },
      "execution_count": 222,
      "outputs": [
        {
          "output_type": "stream",
          "name": "stdout",
          "text": [
            "Total of 329 port probes sent\n",
            "329 1\n",
            "329\n"
          ]
        }
      ]
    },
    {
      "cell_type": "code",
      "source": [
        "# find if any ICMP packets were sent during the attacks\n",
        "syn_mask = lambda x: (x >= strt_syn) and (x <= end_syn)\n",
        "fin_mask = lambda x: (x >= strt_fin) and (x <= end_fin)\n",
        "xmas_mask = lambda x: (x >= strt_xmas) and (x <= end_xmas)\n",
        "spoof_mask = lambda x: (x >= spoof_strt) and (x <= spoof_end)\n",
        "k = [(syn_mask, 'Syn'), (fin_mask, 'Fin'),\n",
        "     (xmas_mask, 'Xmas'), (spoof_mask, 'Arp')]\n",
        "for x in range(len(icmp)):\n",
        "    row = icmp.iloc[x]\n",
        "    num = row['No.']\n",
        "    for mask in k:\n",
        "        if mask[0](row['Time']):\n",
        "            print(f'Packet No. {num} sent during {mask[1]} attack')\n",
        "            break\n",
        "    else:\n",
        "      print(f'Packet No. {num} sent when no attacks were running')"
      ],
      "metadata": {
        "colab": {
          "base_uri": "https://localhost:8080/"
        },
        "id": "9ljEM86AZW6z",
        "outputId": "fbfa8983-1b81-46e2-c3c1-c87a094ba65d"
      },
      "execution_count": 223,
      "outputs": [
        {
          "output_type": "stream",
          "name": "stdout",
          "text": [
            "Packet No. 772 sent when no attacks were running\n",
            "Packet No. 773 sent when no attacks were running\n",
            "Packet No. 994 sent when no attacks were running\n",
            "Packet No. 995 sent when no attacks were running\n",
            "Packet No. 1101 sent during Fin attack\n",
            "Packet No. 1102 sent during Fin attack\n"
          ]
        }
      ]
    }
  ]
}